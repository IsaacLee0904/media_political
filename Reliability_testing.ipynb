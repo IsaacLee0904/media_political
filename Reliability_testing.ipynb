{
  "cells": [
    {
      "cell_type": "markdown",
      "id": "b0d5e602-48fd-4d76-be10-2b7091102e2c",
      "metadata": {
        "noteable": {
          "cell_type": "markdown"
        }
      },
      "source": [
        "# Reliability_testing\n",
        "## DV\n",
        "* 因素分析 -> 根據構面取平均 : online_media_pp_mean / voting_mean / offline_media_pp_mean / campaign_worker_pp_mean\n",
        "* 因素分析 -> 根據構面取綜合得分 : online_media_pp_score / voting_score / offline_media_pp_score / campaign_worker_pp_score\n",
        "* 先分 online_pp / offline_pp -> 因素分析 -> 根據因素分析結果建立兩個綜合得分 : onlnie_scores / offlnie_scores\n",
        "## anti_party\n",
        "* 因素分析 -> 根據構面取平均 : political_polarization_mean / party_image_mean\n",
        "* 因素分析 -> 根據構面取綜合得分 : political_polarization_score / party_image_score\n",
        "* 因素分析 -> 全部算一個綜合得分 : anti_party_scores\n",
        "\n"
      ]
    },
    {
      "cell_type": "markdown",
      "id": "a7a5d7c4-2ac8-40de-a8df-89688d1108dd",
      "metadata": {
        "noteable": {
          "cell_type": "markdown"
        }
      },
      "source": [
        "## Import Package"
      ]
    },
    {
      "cell_type": "code",
      "execution_count": 1,
      "id": "cf0ca1f2-5831-49f7-90c7-06fc52d67aef",
      "metadata": {
        "ExecuteTime": {
          "end_time": "2023-07-05T09:51:08.384299+00:00",
          "start_time": "2023-07-05T09:50:53.693829+00:00"
        },
        "jupyter": {
          "outputs_hidden": false,
          "source_hidden": false
        },
        "noteable": {
          "cell_type": "code",
          "output_collection_id": "f897876d-f560-49b8-aed4-e8b902bcb77f"
        }
      },
      "outputs": [
        {
          "name": "stdout",
          "output_type": "stream",
          "text": [
            "Requirement already satisfied: factor_analyzer in /Users/wen/opt/anaconda3/lib/python3.9/site-packages (0.4.1)\n",
            "Requirement already satisfied: pingouin in /Users/wen/opt/anaconda3/lib/python3.9/site-packages (0.5.3)\n",
            "Requirement already satisfied: scipy in /Users/wen/opt/anaconda3/lib/python3.9/site-packages (from factor_analyzer) (1.11.1)\n",
            "Requirement already satisfied: scikit-learn in /Users/wen/opt/anaconda3/lib/python3.9/site-packages (from factor_analyzer) (1.1.1)\n",
            "Requirement already satisfied: pre-commit in /Users/wen/opt/anaconda3/lib/python3.9/site-packages (from factor_analyzer) (3.3.2)\n",
            "Requirement already satisfied: pandas in /Users/wen/opt/anaconda3/lib/python3.9/site-packages (from factor_analyzer) (1.5.2)\n",
            "Requirement already satisfied: numpy in /Users/wen/opt/anaconda3/lib/python3.9/site-packages (from factor_analyzer) (1.25.0)\n",
            "Requirement already satisfied: matplotlib>=3.0.2 in /Users/wen/opt/anaconda3/lib/python3.9/site-packages (from pingouin) (3.7.1)\n",
            "Requirement already satisfied: outdated in /Users/wen/opt/anaconda3/lib/python3.9/site-packages (from pingouin) (0.2.2)\n",
            "Requirement already satisfied: tabulate in /Users/wen/opt/anaconda3/lib/python3.9/site-packages (from pingouin) (0.8.10)\n",
            "Requirement already satisfied: pandas-flavor>=0.2.0 in /Users/wen/opt/anaconda3/lib/python3.9/site-packages (from pingouin) (0.5.0)\n",
            "Requirement already satisfied: seaborn>=0.11 in /Users/wen/opt/anaconda3/lib/python3.9/site-packages (from pingouin) (0.11.2)\n",
            "Requirement already satisfied: statsmodels>=0.13 in /Users/wen/opt/anaconda3/lib/python3.9/site-packages (from pingouin) (0.14.0)\n",
            "Requirement already satisfied: packaging>=20.0 in /Users/wen/opt/anaconda3/lib/python3.9/site-packages (from matplotlib>=3.0.2->pingouin) (21.3)\n",
            "Requirement already satisfied: pillow>=6.2.0 in /Users/wen/opt/anaconda3/lib/python3.9/site-packages (from matplotlib>=3.0.2->pingouin) (9.2.0)\n",
            "Requirement already satisfied: pyparsing>=2.3.1 in /Users/wen/opt/anaconda3/lib/python3.9/site-packages (from matplotlib>=3.0.2->pingouin) (3.0.4)\n",
            "Requirement already satisfied: importlib-resources>=3.2.0 in /Users/wen/opt/anaconda3/lib/python3.9/site-packages (from matplotlib>=3.0.2->pingouin) (5.12.0)\n",
            "Requirement already satisfied: contourpy>=1.0.1 in /Users/wen/opt/anaconda3/lib/python3.9/site-packages (from matplotlib>=3.0.2->pingouin) (1.1.0)\n",
            "Requirement already satisfied: cycler>=0.10 in /Users/wen/opt/anaconda3/lib/python3.9/site-packages (from matplotlib>=3.0.2->pingouin) (0.11.0)\n",
            "Requirement already satisfied: fonttools>=4.22.0 in /Users/wen/opt/anaconda3/lib/python3.9/site-packages (from matplotlib>=3.0.2->pingouin) (4.25.0)\n",
            "Requirement already satisfied: python-dateutil>=2.7 in /Users/wen/opt/anaconda3/lib/python3.9/site-packages (from matplotlib>=3.0.2->pingouin) (2.8.2)\n",
            "Requirement already satisfied: kiwisolver>=1.0.1 in /Users/wen/opt/anaconda3/lib/python3.9/site-packages (from matplotlib>=3.0.2->pingouin) (1.4.2)\n",
            "Requirement already satisfied: pytz>=2020.1 in /Users/wen/opt/anaconda3/lib/python3.9/site-packages (from pandas->factor_analyzer) (2022.1)\n",
            "Requirement already satisfied: lazy-loader>=0.1 in /Users/wen/opt/anaconda3/lib/python3.9/site-packages (from pandas-flavor>=0.2.0->pingouin) (0.2)\n",
            "Requirement already satisfied: xarray in /Users/wen/opt/anaconda3/lib/python3.9/site-packages (from pandas-flavor>=0.2.0->pingouin) (2023.5.0)\n",
            "Requirement already satisfied: patsy>=0.5.2 in /Users/wen/opt/anaconda3/lib/python3.9/site-packages (from statsmodels>=0.13->pingouin) (0.5.2)\n",
            "Requirement already satisfied: littleutils in /Users/wen/opt/anaconda3/lib/python3.9/site-packages (from outdated->pingouin) (0.2.2)\n",
            "Requirement already satisfied: setuptools>=44 in /Users/wen/opt/anaconda3/lib/python3.9/site-packages (from outdated->pingouin) (61.2.0)\n",
            "Requirement already satisfied: requests in /Users/wen/opt/anaconda3/lib/python3.9/site-packages (from outdated->pingouin) (2.28.1)\n",
            "Requirement already satisfied: identify>=1.0.0 in /Users/wen/opt/anaconda3/lib/python3.9/site-packages (from pre-commit->factor_analyzer) (2.5.24)\n",
            "Requirement already satisfied: pyyaml>=5.1 in /Users/wen/opt/anaconda3/lib/python3.9/site-packages (from pre-commit->factor_analyzer) (6.0)\n",
            "Requirement already satisfied: cfgv>=2.0.0 in /Users/wen/opt/anaconda3/lib/python3.9/site-packages (from pre-commit->factor_analyzer) (3.3.1)\n",
            "Requirement already satisfied: nodeenv>=0.11.1 in /Users/wen/opt/anaconda3/lib/python3.9/site-packages (from pre-commit->factor_analyzer) (1.8.0)\n",
            "Requirement already satisfied: virtualenv>=20.10.0 in /Users/wen/opt/anaconda3/lib/python3.9/site-packages (from pre-commit->factor_analyzer) (20.23.0)\n",
            "Requirement already satisfied: threadpoolctl>=2.0.0 in /Users/wen/opt/anaconda3/lib/python3.9/site-packages (from scikit-learn->factor_analyzer) (2.2.0)\n",
            "Requirement already satisfied: joblib>=1.0.0 in /Users/wen/opt/anaconda3/lib/python3.9/site-packages (from scikit-learn->factor_analyzer) (1.1.0)\n",
            "Requirement already satisfied: zipp>=3.1.0 in /Users/wen/opt/anaconda3/lib/python3.9/site-packages (from importlib-resources>=3.2.0->matplotlib>=3.0.2->pingouin) (3.8.0)\n",
            "Requirement already satisfied: six in /Users/wen/opt/anaconda3/lib/python3.9/site-packages (from patsy>=0.5.2->statsmodels>=0.13->pingouin) (1.16.0)\n",
            "Requirement already satisfied: filelock<4,>=3.11 in /Users/wen/opt/anaconda3/lib/python3.9/site-packages (from virtualenv>=20.10.0->pre-commit->factor_analyzer) (3.12.0)\n",
            "Requirement already satisfied: distlib<1,>=0.3.6 in /Users/wen/opt/anaconda3/lib/python3.9/site-packages (from virtualenv>=20.10.0->pre-commit->factor_analyzer) (0.3.6)\n",
            "Requirement already satisfied: platformdirs<4,>=3.2 in /Users/wen/opt/anaconda3/lib/python3.9/site-packages (from virtualenv>=20.10.0->pre-commit->factor_analyzer) (3.5.1)\n",
            "Requirement already satisfied: urllib3<1.27,>=1.21.1 in /Users/wen/opt/anaconda3/lib/python3.9/site-packages (from requests->outdated->pingouin) (1.26.14)\n",
            "Requirement already satisfied: idna<4,>=2.5 in /Users/wen/opt/anaconda3/lib/python3.9/site-packages (from requests->outdated->pingouin) (3.3)\n",
            "Requirement already satisfied: charset-normalizer<3,>=2 in /Users/wen/opt/anaconda3/lib/python3.9/site-packages (from requests->outdated->pingouin) (2.0.4)\n",
            "Requirement already satisfied: certifi>=2017.4.17 in /Users/wen/opt/anaconda3/lib/python3.9/site-packages (from requests->outdated->pingouin) (2022.12.7)\n"
          ]
        }
      ],
      "source": [
        "# ! pip install factor_analyzer pingouin"
      ]
    },
    {
      "cell_type": "code",
      "execution_count": 2,
      "id": "329c3bf7",
      "metadata": {
        "ExecuteTime": {
          "end_time": "2023-07-05T09:51:15.302361+00:00",
          "start_time": "2023-07-05T09:51:14.341098+00:00"
        },
        "noteable": {
          "output_collection_id": "42feab54-954e-410a-828a-90d8c5c838f3"
        }
      },
      "outputs": [],
      "source": [
        "# for data ETL\n",
        "import pandas as pd\n",
        "import ETL\n",
        "# reliability testing\n",
        "from factor_analyzer import FactorAnalyzer\n",
        "import pingouin as pg "
      ]
    },
    {
      "cell_type": "markdown",
      "id": "056544dd-e277-421d-bda8-24b09297737b",
      "metadata": {
        "noteable": {
          "cell_type": "markdown"
        }
      },
      "source": [
        "## Load data and Data Cleaning"
      ]
    },
    {
      "cell_type": "code",
      "execution_count": 3,
      "id": "857ed977-2913-4630-9a65-84ba789fecd0",
      "metadata": {
        "ExecuteTime": {
          "end_time": "2023-07-05T09:51:15.525700+00:00",
          "start_time": "2023-07-05T09:51:15.341865+00:00"
        },
        "jupyter": {
          "outputs_hidden": false,
          "source_hidden": false
        },
        "noteable": {
          "cell_type": "code",
          "output_collection_id": "ac94ba31-07b8-4ad1-ae2a-791226d256a2"
        }
      },
      "outputs": [],
      "source": [
        "raw_data = pd.read_csv('raw_data.csv')"
      ]
    },
    {
      "cell_type": "code",
      "execution_count": 4,
      "id": "9da873a9-dd1e-45ca-8d04-78bf7be292be",
      "metadata": {
        "ExecuteTime": {
          "end_time": "2023-07-05T09:51:15.694700+00:00",
          "start_time": "2023-07-05T09:51:15.532553+00:00"
        },
        "jupyter": {
          "outputs_hidden": false,
          "source_hidden": false
        },
        "noteable": {
          "cell_type": "code",
          "output_collection_id": "077fc869-80de-4b86-8651-1b8769ce7d87"
        }
      },
      "outputs": [
        {
          "name": "stderr",
          "output_type": "stream",
          "text": [
            "/var/folders/dn/wbyhv8k14697mm1zy19w1jh40000gn/T/ipykernel_94883/2097987034.py:2: SettingWithCopyWarning: \n",
            "A value is trying to be set on a copy of a slice from a DataFrame\n",
            "\n",
            "See the caveats in the documentation: https://pandas.pydata.org/pandas-docs/stable/user_guide/indexing.html#returning-a-view-versus-a-copy\n",
            "  filter_data.drop(['您有絶對的權力決定是否要參與本研究。若您願意參與，請務必勾選下列選項：', '請填寫您的電子信箱，以利後續抽獎聯繫使用'], axis=1, inplace=True)\n"
          ]
        }
      ],
      "source": [
        "filter_data = raw_data.loc[raw_data['目前國內政黨當中，請問您是否偏向哪一個政黨？'].isin(['沒有特定支持', '都不支持'])]\n",
        "filter_data.drop(['您有絶對的權力決定是否要參與本研究。若您願意參與，請務必勾選下列選項：', '請填寫您的電子信箱，以利後續抽獎聯繫使用'], axis=1, inplace=True)"
      ]
    },
    {
      "cell_type": "code",
      "execution_count": 5,
      "id": "36a404d6-7539-4152-b027-802500a8af5e",
      "metadata": {
        "ExecuteTime": {
          "end_time": "2023-07-05T09:51:15.909854+00:00",
          "start_time": "2023-07-05T09:51:15.702584+00:00"
        },
        "jupyter": {
          "outputs_hidden": false,
          "source_hidden": false
        },
        "noteable": {
          "cell_type": "code",
          "output_collection_id": "1026a263-e84f-4ba8-a31f-52b0fbc05f78"
        }
      },
      "outputs": [
        {
          "name": "stderr",
          "output_type": "stream",
          "text": [
            "/Users/wen/Desktop/github/media_political/ETL.py:14: SettingWithCopyWarning: \n",
            "A value is trying to be set on a copy of a slice from a DataFrame.\n",
            "Try using .loc[row_indexer,col_indexer] = value instead\n",
            "\n",
            "See the caveats in the documentation: https://pandas.pydata.org/pandas-docs/stable/user_guide/indexing.html#returning-a-view-versus-a-copy\n",
            "  filter_data['TV_news_time'] = filter_data['請問您平均每天花多少時間注意電視上的選舉新聞？'].apply(ETL_function.news_time)\n",
            "/Users/wen/Desktop/github/media_political/ETL.py:15: SettingWithCopyWarning: \n",
            "A value is trying to be set on a copy of a slice from a DataFrame.\n",
            "Try using .loc[row_indexer,col_indexer] = value instead\n",
            "\n",
            "See the caveats in the documentation: https://pandas.pydata.org/pandas-docs/stable/user_guide/indexing.html#returning-a-view-versus-a-copy\n",
            "  filter_data['news_paper_time'] = filter_data['請問您平均每天花多少時間注意報紙上的選舉新聞？'].apply(ETL_function.news_time)\n",
            "/Users/wen/Desktop/github/media_political/ETL.py:16: SettingWithCopyWarning: \n",
            "A value is trying to be set on a copy of a slice from a DataFrame.\n",
            "Try using .loc[row_indexer,col_indexer] = value instead\n",
            "\n",
            "See the caveats in the documentation: https://pandas.pydata.org/pandas-docs/stable/user_guide/indexing.html#returning-a-view-versus-a-copy\n",
            "  filter_data['int_news_time'] = filter_data['請問您平均每天花多少時間注意網路上的選舉新聞？'].apply(ETL_function.news_time)\n",
            "/Users/wen/Desktop/github/media_political/ETL.py:17: SettingWithCopyWarning: \n",
            "A value is trying to be set on a copy of a slice from a DataFrame.\n",
            "Try using .loc[row_indexer,col_indexer] = value instead\n",
            "\n",
            "See the caveats in the documentation: https://pandas.pydata.org/pandas-docs/stable/user_guide/indexing.html#returning-a-view-versus-a-copy\n",
            "  filter_data['TV_debate'] = filter_data['今年九合一選舉中，我有觀看候選人電視辯論會。'].apply(ETL_function.TV_debate)\n",
            "/Users/wen/Desktop/github/media_political/ETL.py:18: SettingWithCopyWarning: \n",
            "A value is trying to be set on a copy of a slice from a DataFrame.\n",
            "Try using .loc[row_indexer,col_indexer] = value instead\n",
            "\n",
            "See the caveats in the documentation: https://pandas.pydata.org/pandas-docs/stable/user_guide/indexing.html#returning-a-view-versus-a-copy\n",
            "  filter_data['read_media'] = filter_data['請問您有多常瀏覽候選人的社群媒體？'].apply(ETL_function.read_media)\n",
            "/Users/wen/Desktop/github/media_political/ETL.py:19: SettingWithCopyWarning: \n",
            "A value is trying to be set on a copy of a slice from a DataFrame.\n",
            "Try using .loc[row_indexer,col_indexer] = value instead\n",
            "\n",
            "See the caveats in the documentation: https://pandas.pydata.org/pandas-docs/stable/user_guide/indexing.html#returning-a-view-versus-a-copy\n",
            "  filter_data['like_media'] = filter_data['請問您有多常在候選人的社群媒體貼文下按讚（任何表情符號）？'].apply(ETL_function.like_media)\n",
            "/Users/wen/Desktop/github/media_political/ETL.py:20: SettingWithCopyWarning: \n",
            "A value is trying to be set on a copy of a slice from a DataFrame.\n",
            "Try using .loc[row_indexer,col_indexer] = value instead\n",
            "\n",
            "See the caveats in the documentation: https://pandas.pydata.org/pandas-docs/stable/user_guide/indexing.html#returning-a-view-versus-a-copy\n",
            "  filter_data['share_media'] = filter_data['請問您有多常分享候選人的社群媒體貼文？'].apply(ETL_function.share_media)\n",
            "/Users/wen/Desktop/github/media_political/ETL.py:21: SettingWithCopyWarning: \n",
            "A value is trying to be set on a copy of a slice from a DataFrame.\n",
            "Try using .loc[row_indexer,col_indexer] = value instead\n",
            "\n",
            "See the caveats in the documentation: https://pandas.pydata.org/pandas-docs/stable/user_guide/indexing.html#returning-a-view-versus-a-copy\n",
            "  filter_data['comment_media'] = filter_data['請問您有多常在候選人的社群媒體貼文底下留言？'].apply(ETL_function.comment_media)\n",
            "/Users/wen/Desktop/github/media_political/ETL.py:22: SettingWithCopyWarning: \n",
            "A value is trying to be set on a copy of a slice from a DataFrame.\n",
            "Try using .loc[row_indexer,col_indexer] = value instead\n",
            "\n",
            "See the caveats in the documentation: https://pandas.pydata.org/pandas-docs/stable/user_guide/indexing.html#returning-a-view-versus-a-copy\n",
            "  filter_data['int_discuss'] = filter_data['請問您平時會不會在網路上與他人討論有關政治或選舉方面的議題？'].apply(ETL_function.int_discuss)\n",
            "/Users/wen/Desktop/github/media_political/ETL.py:23: SettingWithCopyWarning: \n",
            "A value is trying to be set on a copy of a slice from a DataFrame.\n",
            "Try using .loc[row_indexer,col_indexer] = value instead\n",
            "\n",
            "See the caveats in the documentation: https://pandas.pydata.org/pandas-docs/stable/user_guide/indexing.html#returning-a-view-versus-a-copy\n",
            "  filter_data['read_election_news'] = filter_data['今年九合一選舉中，我有閱讀選舉公報。'].apply(ETL_function.Likert)\n",
            "/Users/wen/Desktop/github/media_political/ETL.py:24: SettingWithCopyWarning: \n",
            "A value is trying to be set on a copy of a slice from a DataFrame.\n",
            "Try using .loc[row_indexer,col_indexer] = value instead\n",
            "\n",
            "See the caveats in the documentation: https://pandas.pydata.org/pandas-docs/stable/user_guide/indexing.html#returning-a-view-versus-a-copy\n",
            "  filter_data['read_election_leaflet'] = filter_data['今年九合一選舉中，我有閱讀候選人傳單、快報或報刊廣告。'].apply(ETL_function.Likert)\n",
            "/Users/wen/Desktop/github/media_political/ETL.py:25: SettingWithCopyWarning: \n",
            "A value is trying to be set on a copy of a slice from a DataFrame.\n",
            "Try using .loc[row_indexer,col_indexer] = value instead\n",
            "\n",
            "See the caveats in the documentation: https://pandas.pydata.org/pandas-docs/stable/user_guide/indexing.html#returning-a-view-versus-a-copy\n",
            "  filter_data['convince'] = filter_data['請問您有多常遊說或勸說親友投票給某位候選人？'].apply(ETL_function.convince)\n",
            "/Users/wen/Desktop/github/media_political/ETL.py:26: SettingWithCopyWarning: \n",
            "A value is trying to be set on a copy of a slice from a DataFrame.\n",
            "Try using .loc[row_indexer,col_indexer] = value instead\n",
            "\n",
            "See the caveats in the documentation: https://pandas.pydata.org/pandas-docs/stable/user_guide/indexing.html#returning-a-view-versus-a-copy\n",
            "  filter_data['campaign'] = filter_data['今年九合一選舉中，我有主動參加造勢活動。'].apply(ETL_function.Likert)\n",
            "/Users/wen/Desktop/github/media_political/ETL.py:27: SettingWithCopyWarning: \n",
            "A value is trying to be set on a copy of a slice from a DataFrame.\n",
            "Try using .loc[row_indexer,col_indexer] = value instead\n",
            "\n",
            "See the caveats in the documentation: https://pandas.pydata.org/pandas-docs/stable/user_guide/indexing.html#returning-a-view-versus-a-copy\n",
            "  filter_data['volunteer'] = filter_data['今年九合一選舉中，我有擔任候選人或政黨的助選工作人員或義工。'].apply(ETL_function.Likert)\n",
            "/Users/wen/Desktop/github/media_political/ETL.py:28: SettingWithCopyWarning: \n",
            "A value is trying to be set on a copy of a slice from a DataFrame.\n",
            "Try using .loc[row_indexer,col_indexer] = value instead\n",
            "\n",
            "See the caveats in the documentation: https://pandas.pydata.org/pandas-docs/stable/user_guide/indexing.html#returning-a-view-versus-a-copy\n",
            "  filter_data['election_mayor'] = filter_data['請問今年縣市長選舉中，您是否可能去投票？'].apply(ETL_function.election)\n",
            "/Users/wen/Desktop/github/media_political/ETL.py:29: SettingWithCopyWarning: \n",
            "A value is trying to be set on a copy of a slice from a DataFrame.\n",
            "Try using .loc[row_indexer,col_indexer] = value instead\n",
            "\n",
            "See the caveats in the documentation: https://pandas.pydata.org/pandas-docs/stable/user_guide/indexing.html#returning-a-view-versus-a-copy\n",
            "  filter_data['election_18'] = filter_data['請問今年18歲公民權修憲公投，您是否可能去投票？'].apply(ETL_function.election)\n",
            "/Users/wen/Desktop/github/media_political/ETL.py:32: SettingWithCopyWarning: \n",
            "A value is trying to be set on a copy of a slice from a DataFrame.\n",
            "Try using .loc[row_indexer,col_indexer] = value instead\n",
            "\n",
            "See the caveats in the documentation: https://pandas.pydata.org/pandas-docs/stable/user_guide/indexing.html#returning-a-view-versus-a-copy\n",
            "  filter_data['sex'] = filter_data['受訪者性別'].apply(ETL_function.sex)\n",
            "/Users/wen/Desktop/github/media_political/ETL.py:33: SettingWithCopyWarning: \n",
            "A value is trying to be set on a copy of a slice from a DataFrame.\n",
            "Try using .loc[row_indexer,col_indexer] = value instead\n",
            "\n",
            "See the caveats in the documentation: https://pandas.pydata.org/pandas-docs/stable/user_guide/indexing.html#returning-a-view-versus-a-copy\n",
            "  filter_data['台灣社會有多重的身份認同，有人認為自己是本省客家人、本省閩南人、大陸各省市人或原住民，請問您認為您的認同較接近哪一個?'] = filter_data.apply(lambda row: row['其他.6'] if row['台灣社會有多重的身份認同，有人認為自己是本省客家人、本省閩南人、大陸各省市人或原住民，請問您認為您的認同較接近哪一個?'] == '其他' else row['台灣社會有多重的身份認同，有人認為自己是本省客家人、本省閩南人、大陸各省市人或原住民，請問您認為您的認同較接近哪一個?'],axis=1)\n",
            "/Users/wen/Desktop/github/media_political/ETL.py:34: SettingWithCopyWarning: \n",
            "A value is trying to be set on a copy of a slice from a DataFrame.\n",
            "Try using .loc[row_indexer,col_indexer] = value instead\n",
            "\n",
            "See the caveats in the documentation: https://pandas.pydata.org/pandas-docs/stable/user_guide/indexing.html#returning-a-view-versus-a-copy\n",
            "  filter_data['ethnic'] = filter_data['台灣社會有多重的身份認同，有人認為自己是本省客家人、本省閩南人、大陸各省市人或原住民，請問您認為您的認同較接近哪一個?'].apply(ETL_function.ethnic)\n",
            "/Users/wen/Desktop/github/media_political/ETL.py:35: SettingWithCopyWarning: \n",
            "A value is trying to be set on a copy of a slice from a DataFrame.\n",
            "Try using .loc[row_indexer,col_indexer] = value instead\n",
            "\n",
            "See the caveats in the documentation: https://pandas.pydata.org/pandas-docs/stable/user_guide/indexing.html#returning-a-view-versus-a-copy\n",
            "  filter_data['edu'] = filter_data['請問您的教育程度是什麼？'].apply(ETL_function.edu)\n",
            "/Users/wen/Desktop/github/media_political/ETL.py:36: SettingWithCopyWarning: \n",
            "A value is trying to be set on a copy of a slice from a DataFrame.\n",
            "Try using .loc[row_indexer,col_indexer] = value instead\n",
            "\n",
            "See the caveats in the documentation: https://pandas.pydata.org/pandas-docs/stable/user_guide/indexing.html#returning-a-view-versus-a-copy\n",
            "  filter_data['income'] = filter_data['請問您平均月收入大約是多少?'].apply(ETL_function.income)\n",
            "/Users/wen/Desktop/github/media_political/ETL.py:37: SettingWithCopyWarning: \n",
            "A value is trying to be set on a copy of a slice from a DataFrame.\n",
            "Try using .loc[row_indexer,col_indexer] = value instead\n",
            "\n",
            "See the caveats in the documentation: https://pandas.pydata.org/pandas-docs/stable/user_guide/indexing.html#returning-a-view-versus-a-copy\n",
            "  filter_data['pk_1'] = filter_data['請問您現任的美國總統是誰？'].apply(ETL_function.pk_1)\n",
            "/Users/wen/Desktop/github/media_political/ETL.py:38: SettingWithCopyWarning: \n",
            "A value is trying to be set on a copy of a slice from a DataFrame.\n",
            "Try using .loc[row_indexer,col_indexer] = value instead\n",
            "\n",
            "See the caveats in the documentation: https://pandas.pydata.org/pandas-docs/stable/user_guide/indexing.html#returning-a-view-versus-a-copy\n",
            "  filter_data['pk_2'] = filter_data['請問您現任的行政院長是誰？'].apply(ETL_function.pk_2)\n",
            "/Users/wen/Desktop/github/media_political/ETL.py:39: SettingWithCopyWarning: \n",
            "A value is trying to be set on a copy of a slice from a DataFrame.\n",
            "Try using .loc[row_indexer,col_indexer] = value instead\n",
            "\n",
            "See the caveats in the documentation: https://pandas.pydata.org/pandas-docs/stable/user_guide/indexing.html#returning-a-view-versus-a-copy\n",
            "  filter_data['pk_3'] = filter_data['請問您我國哪一個政府機關有權解釋憲法？'].apply(ETL_function.pk_3)\n",
            "/Users/wen/Desktop/github/media_political/ETL.py:40: SettingWithCopyWarning: \n",
            "A value is trying to be set on a copy of a slice from a DataFrame.\n",
            "Try using .loc[row_indexer,col_indexer] = value instead\n",
            "\n",
            "See the caveats in the documentation: https://pandas.pydata.org/pandas-docs/stable/user_guide/indexing.html#returning-a-view-versus-a-copy\n",
            "  filter_data['political_knowledge'] = filter_data['pk_1'] + filter_data['pk_2'] + filter_data['pk_3']\n",
            "/Users/wen/Desktop/github/media_political/ETL.py:43: SettingWithCopyWarning: \n",
            "A value is trying to be set on a copy of a slice from a DataFrame.\n",
            "Try using .loc[row_indexer,col_indexer] = value instead\n",
            "\n",
            "See the caveats in the documentation: https://pandas.pydata.org/pandas-docs/stable/user_guide/indexing.html#returning-a-view-versus-a-copy\n",
            "  filter_data['anti_'+str(j)] = filter_data[i].apply(ETL_function.five_agree)\n",
            "/Users/wen/Desktop/github/media_political/ETL.py:43: SettingWithCopyWarning: \n",
            "A value is trying to be set on a copy of a slice from a DataFrame.\n",
            "Try using .loc[row_indexer,col_indexer] = value instead\n",
            "\n",
            "See the caveats in the documentation: https://pandas.pydata.org/pandas-docs/stable/user_guide/indexing.html#returning-a-view-versus-a-copy\n",
            "  filter_data['anti_'+str(j)] = filter_data[i].apply(ETL_function.five_agree)\n",
            "/Users/wen/Desktop/github/media_political/ETL.py:43: SettingWithCopyWarning: \n",
            "A value is trying to be set on a copy of a slice from a DataFrame.\n",
            "Try using .loc[row_indexer,col_indexer] = value instead\n",
            "\n",
            "See the caveats in the documentation: https://pandas.pydata.org/pandas-docs/stable/user_guide/indexing.html#returning-a-view-versus-a-copy\n",
            "  filter_data['anti_'+str(j)] = filter_data[i].apply(ETL_function.five_agree)\n",
            "/Users/wen/Desktop/github/media_political/ETL.py:43: SettingWithCopyWarning: \n",
            "A value is trying to be set on a copy of a slice from a DataFrame.\n",
            "Try using .loc[row_indexer,col_indexer] = value instead\n",
            "\n",
            "See the caveats in the documentation: https://pandas.pydata.org/pandas-docs/stable/user_guide/indexing.html#returning-a-view-versus-a-copy\n",
            "  filter_data['anti_'+str(j)] = filter_data[i].apply(ETL_function.five_agree)\n",
            "/Users/wen/Desktop/github/media_political/ETL.py:43: SettingWithCopyWarning: \n",
            "A value is trying to be set on a copy of a slice from a DataFrame.\n",
            "Try using .loc[row_indexer,col_indexer] = value instead\n",
            "\n",
            "See the caveats in the documentation: https://pandas.pydata.org/pandas-docs/stable/user_guide/indexing.html#returning-a-view-versus-a-copy\n",
            "  filter_data['anti_'+str(j)] = filter_data[i].apply(ETL_function.five_agree)\n",
            "/Users/wen/Desktop/github/media_political/ETL.py:44: SettingWithCopyWarning: \n",
            "A value is trying to be set on a copy of a slice from a DataFrame.\n",
            "Try using .loc[row_indexer,col_indexer] = value instead\n",
            "\n",
            "See the caveats in the documentation: https://pandas.pydata.org/pandas-docs/stable/user_guide/indexing.html#returning-a-view-versus-a-copy\n",
            "  filter_data['TC_issue'] = filter_data['有人說：「這次選舉中，抗中保台很重要」，請問您同不同意這種說法？'].apply(ETL_function.five_agree)\n",
            "/Users/wen/Desktop/github/media_political/ETL.py:45: SettingWithCopyWarning: \n",
            "A value is trying to be set on a copy of a slice from a DataFrame.\n",
            "Try using .loc[row_indexer,col_indexer] = value instead\n",
            "\n",
            "See the caveats in the documentation: https://pandas.pydata.org/pandas-docs/stable/user_guide/indexing.html#returning-a-view-versus-a-copy\n",
            "  filter_data['Negative_1'] = filter_data['在這次縣市長選舉過程中，有大量關於林智堅的論文爭議的報導，請問這些報導對您的投票選擇可能有什麼影響？']\n",
            "/Users/wen/Desktop/github/media_political/ETL.py:46: SettingWithCopyWarning: \n",
            "A value is trying to be set on a copy of a slice from a DataFrame.\n",
            "Try using .loc[row_indexer,col_indexer] = value instead\n",
            "\n",
            "See the caveats in the documentation: https://pandas.pydata.org/pandas-docs/stable/user_guide/indexing.html#returning-a-view-versus-a-copy\n",
            "  filter_data['Negative_2'] = filter_data['在這次縣市長選舉過程中，有大量關於陳時中的防疫表現的報導，這些報導對您的投票選擇可能有什麼影響？']\n",
            "/Users/wen/Desktop/github/media_political/ETL.py:47: SettingWithCopyWarning: \n",
            "A value is trying to be set on a copy of a slice from a DataFrame.\n",
            "Try using .loc[row_indexer,col_indexer] = value instead\n",
            "\n",
            "See the caveats in the documentation: https://pandas.pydata.org/pandas-docs/stable/user_guide/indexing.html#returning-a-view-versus-a-copy\n",
            "  filter_data['Negative_3'] = filter_data['在這次縣市長選舉過程中，有大量關於高虹安的助理門事件爭議的報導，這些報導對您的投票選擇有什麼影響？']\n"
          ]
        }
      ],
      "source": [
        "ml_df = ETL.data_cleaning(filter_data)\n",
        "ml_df = ml_df.reset_index(drop=True)"
      ]
    },
    {
      "cell_type": "code",
      "execution_count": 6,
      "id": "8f7feed5-c226-4018-9afc-dc08ff666c58",
      "metadata": {
        "ExecuteTime": {
          "end_time": "2023-07-05T09:51:17.902775+00:00",
          "start_time": "2023-07-05T09:51:15.917514+00:00"
        },
        "jupyter": {
          "outputs_hidden": false,
          "source_hidden": false
        },
        "noteable": {
          "cell_type": "code",
          "output_collection_id": "e26586b2-b972-4b37-8d7f-8bef7c7bd1ae"
        }
      },
      "outputs": [
        {
          "data": {
            "text/plain": [
              "(503, 51)"
            ]
          },
          "execution_count": 6,
          "metadata": {},
          "output_type": "execute_result"
        }
      ],
      "source": [
        "ml_df = ETL.feature_engineering(ml_df)\n",
        "ml_df = ETL.DV_feature(ml_df)\n",
        "ml_df = ETL.anti_party_feature(ml_df)\n",
        "ml_df.shape"
      ]
    },
    {
      "cell_type": "code",
      "execution_count": 7,
      "id": "6ad71791-0f4b-42e8-bc10-8d18652e5b50",
      "metadata": {
        "ExecuteTime": {
          "end_time": "2023-07-05T09:51:18.381466+00:00",
          "start_time": "2023-07-05T09:51:18.222999+00:00"
        },
        "jupyter": {
          "outputs_hidden": false,
          "source_hidden": false
        },
        "noteable": {
          "cell_type": "code",
          "output_collection_id": "0e5b6a04-bf41-4e8d-ba76-e940a6595d69"
        }
      },
      "outputs": [
        {
          "data": {
            "text/plain": [
              "Index(['TV_news_time', 'news_paper_time', 'int_news_time', 'TV_debate',\n",
              "       'read_media', 'like_media', 'share_media', 'comment_media',\n",
              "       'int_discuss', 'read_election_news', 'read_election_leaflet',\n",
              "       'convince', 'campaign', 'volunteer', 'election_mayor', 'election_18',\n",
              "       'sex', 'ethnic', 'edu', 'income', 'pk_1', 'pk_2', 'pk_3',\n",
              "       'political_knowledge', 'anti_1', 'anti_2', 'anti_3', 'anti_4', 'anti_5',\n",
              "       'TC_issue', 'Negative_1', 'Negative_2', 'Negative_3', 'online_pp',\n",
              "       'offline_pp', 'anti_party', 'online_media_pp_mean', 'voting_mean',\n",
              "       'offline_media_pp_mean', 'campaign_worker_pp_mean',\n",
              "       'online_media_pp_score', 'voting_score', 'offline_media_pp_score',\n",
              "       'campaign_worker_pp_score', 'onlnie_scores', 'offlnie_scores',\n",
              "       'political_polarization_mean', 'party_image_mean',\n",
              "       'political_polarization_score', 'party_image_score',\n",
              "       'anti_party_scores'],\n",
              "      dtype='object')"
            ]
          },
          "execution_count": 7,
          "metadata": {},
          "output_type": "execute_result"
        }
      ],
      "source": [
        "ml_df.columns"
      ]
    },
    {
      "cell_type": "markdown",
      "id": "906819ea-f6cb-421c-a322-6031ab4b97f3",
      "metadata": {
        "noteable": {
          "cell_type": "markdown"
        }
      },
      "source": [
        "## Reliability Testing"
      ]
    },
    {
      "cell_type": "markdown",
      "id": "9b6edb27-7ae6-45d3-be63-7bc65e75ebca",
      "metadata": {
        "noteable": {
          "cell_type": "markdown"
        }
      },
      "source": [
        "## DV testing"
      ]
    },
    {
      "cell_type": "markdown",
      "id": "c1d3a5f6-c507-4e31-812a-c69bfaceda44",
      "metadata": {
        "noteable": {
          "cell_type": "markdown"
        }
      },
      "source": [
        "### Basic"
      ]
    },
    {
      "cell_type": "code",
      "execution_count": 8,
      "id": "dab48064-13c4-43b1-9e4c-f09c5bae4500",
      "metadata": {
        "ExecuteTime": {
          "end_time": "2023-07-05T09:51:18.581361+00:00",
          "start_time": "2023-07-05T09:51:18.422690+00:00"
        },
        "noteable": {
          "cell_type": "python",
          "output_collection_id": "545e3ae6-f886-4621-a4c8-144d6f0fd50e"
        }
      },
      "outputs": [],
      "source": [
        "online_pp_vars = ['online_pp', 'TV_news_time', 'news_paper_time', 'int_news_time', 'TV_debate',                   'read_media', 'like_media', 'share_media', 'comment_media', 'int_discuss']\n",
        "offline_pp_vars = ['offline_pp', 'read_election_news', 'read_election_leaflet', 'convince',                        'campaign', 'volunteer', 'election_mayor', 'election_18']\n",
        "online_pp_tesing_df = ml_df[online_pp_vars]\n",
        "offline_pp_tesing_df = ml_df[offline_pp_vars]"
      ]
    },
    {
      "cell_type": "code",
      "execution_count": 9,
      "id": "6b51954f-6ac0-4785-9620-1348295a8343",
      "metadata": {
        "ExecuteTime": {
          "end_time": "2023-07-05T09:51:18.755596+00:00",
          "start_time": "2023-07-05T09:51:18.587779+00:00"
        },
        "jupyter": {
          "outputs_hidden": false,
          "source_hidden": false
        },
        "noteable": {
          "cell_type": "code",
          "output_collection_id": "5a41eb2d-007d-4cb9-aa84-e7af381406c3"
        }
      },
      "outputs": [
        {
          "name": "stdout",
          "output_type": "stream",
          "text": [
            "online_pp Cronbach's alpha:  0.7717699094188335\n",
            "offline_pp Cronbach's alpha:  0.809844435651358\n",
            "Total Cronbanc's alpha: 0.7908071725350958\n"
          ]
        }
      ],
      "source": [
        "alpha_1 = pg.cronbach_alpha(online_pp_tesing_df)\n",
        "alpha_2 = pg.cronbach_alpha(offline_pp_tesing_df)\n",
        "\n",
        "print('online_pp Cronbach\\'s alpha: ', alpha_1[0])\n",
        "print('offline_pp Cronbach\\'s alpha: ', alpha_2[0])\n",
        "print('Total Cronbanc\\'s alpha:', (alpha_1[0] + alpha_2[0])/2)"
      ]
    },
    {
      "cell_type": "markdown",
      "id": "999f2a54-533d-4db0-94d7-ada69b081d5e",
      "metadata": {
        "noteable": {
          "cell_type": "markdown"
        }
      },
      "source": [
        "### Mean after FAC"
      ]
    },
    {
      "cell_type": "code",
      "execution_count": 10,
      "id": "16efeb3d-1ba9-45f7-96b7-5cd73d16b37f",
      "metadata": {
        "ExecuteTime": {
          "end_time": "2023-07-05T09:51:18.927621+00:00",
          "start_time": "2023-07-05T09:51:18.763163+00:00"
        },
        "jupyter": {
          "outputs_hidden": false,
          "source_hidden": false
        },
        "noteable": {
          "cell_type": "code",
          "output_collection_id": "a61e87c8-4607-416f-a57c-2da0c438cb33"
        }
      },
      "outputs": [],
      "source": [
        "online_media_pp_vars_mean = ['read_media', 'like_media', 'share_media', 'comment_media', 'online_media_pp_mean']\n",
        "online_media_mean_tesing_df = ml_df[online_media_pp_vars_mean]\n",
        "voting_vars_mean = ['election_mayor', 'election_18', 'voting_mean']\n",
        "voting_mean_tesing_df = ml_df[voting_vars_mean]\n",
        "offline_media_pp_vars_mean = ['read_election_news', 'read_election_leaflet', 'offline_media_pp_mean']\n",
        "offline_media_mean_tesing_df = ml_df[offline_media_pp_vars_mean]\n",
        "campaign_worker_pp_vars_mean = ['campaign', 'volunteer', 'campaign_worker_pp_mean']\n",
        "campaign_worker_mean_tesing_df = ml_df[campaign_worker_pp_vars_mean]"
      ]
    },
    {
      "cell_type": "code",
      "execution_count": 11,
      "id": "dedd496d-330f-4d79-8542-d719239d52a1",
      "metadata": {
        "ExecuteTime": {
          "end_time": "2023-07-05T09:51:19.112964+00:00",
          "start_time": "2023-07-05T09:51:18.934707+00:00"
        },
        "jupyter": {
          "outputs_hidden": false,
          "source_hidden": false
        },
        "noteable": {
          "cell_type": "code",
          "output_collection_id": "b8219874-8b0d-464e-8e78-281091e620ea"
        }
      },
      "outputs": [
        {
          "name": "stdout",
          "output_type": "stream",
          "text": [
            "online_media_pp_mean Cronbach's alpha:  0.8150949007062644\n",
            "voting_mean Cronbach's alpha:  0.9821418184416824\n",
            "offline_media_pp_mean Cronbach's alpha:  0.9267895495036799\n",
            "campaign_worker_pp_mean Cronbach's alpha:  0.9058515655096374\n",
            "Total Cronbanc's alpha: 0.907469458540316\n"
          ]
        }
      ],
      "source": [
        "alpha_1 = pg.cronbach_alpha(online_media_mean_tesing_df)\n",
        "alpha_2 = pg.cronbach_alpha(voting_mean_tesing_df)\n",
        "alpha_3 = pg.cronbach_alpha(offline_media_mean_tesing_df)\n",
        "alpha_4 = pg.cronbach_alpha(campaign_worker_mean_tesing_df)\n",
        "\n",
        "print('online_media_pp_mean Cronbach\\'s alpha: ', alpha_1[0])\n",
        "print('voting_mean Cronbach\\'s alpha: ', alpha_2[0])\n",
        "print('offline_media_pp_mean Cronbach\\'s alpha: ', alpha_3[0])\n",
        "print('campaign_worker_pp_mean Cronbach\\'s alpha: ', alpha_4[0])\n",
        "print('Total Cronbanc\\'s alpha:', (alpha_1[0] + alpha_2[0] + alpha_3[0] + alpha_4[0])/4)"
      ]
    },
    {
      "cell_type": "markdown",
      "id": "1fef9552-f54f-4137-99e8-59d963e6f43b",
      "metadata": {
        "noteable": {
          "cell_type": "markdown"
        }
      },
      "source": [
        "### Total score after FAC"
      ]
    },
    {
      "cell_type": "code",
      "execution_count": 12,
      "id": "9cde04b1-5a88-4193-a1bd-8154b389bc8b",
      "metadata": {
        "ExecuteTime": {
          "end_time": "2023-07-05T09:51:21.543144+00:00",
          "start_time": "2023-07-05T09:51:21.383262+00:00"
        },
        "jupyter": {
          "outputs_hidden": false,
          "source_hidden": false
        },
        "noteable": {
          "cell_type": "code",
          "output_collection_id": "3f68b373-9213-4bca-b3af-312792e9e399"
        }
      },
      "outputs": [],
      "source": [
        "online_media_pp_vars_score = ['read_media', 'like_media', 'share_media', 'comment_media', 'online_media_pp_score']\n",
        "online_media_score_tesing_df = ml_df[online_media_pp_vars_score]\n",
        "voting_vars_score = ['election_mayor', 'election_18', 'voting_score']\n",
        "voting_score_tesing_df = ml_df[voting_vars_score]\n",
        "offline_media_pp_vars_score = ['read_election_news', 'read_election_leaflet', 'offline_media_pp_score']\n",
        "offline_media_score_tesing_df = ml_df[offline_media_pp_vars_score]\n",
        "campaign_worker_pp_vars_score = ['campaign', 'volunteer', 'campaign_worker_pp_score']\n",
        "campaign_worker_score_tesing_df = ml_df[campaign_worker_pp_vars_score]"
      ]
    },
    {
      "cell_type": "code",
      "execution_count": 13,
      "id": "f24c35b5-cb07-4174-8ff8-bb66b94b0d5c",
      "metadata": {
        "ExecuteTime": {
          "end_time": "2023-07-05T09:51:21.724883+00:00",
          "start_time": "2023-07-05T09:51:21.551454+00:00"
        },
        "jupyter": {
          "outputs_hidden": false,
          "source_hidden": false
        },
        "noteable": {
          "cell_type": "code",
          "output_collection_id": "4b895466-c18c-4a48-aa61-4522c4d93d00"
        }
      },
      "outputs": [
        {
          "name": "stdout",
          "output_type": "stream",
          "text": [
            "online_media_pp_score Cronbach's alpha:  0.8311674953424751\n",
            "voting_score Cronbach's alpha:  0.9666132110606549\n",
            "offline_media_pp_score Cronbach's alpha:  0.8956567852370945\n",
            "campaign_worker_pp_score Cronbach's alpha:  0.9058515655096374\n",
            "Total Cronbanc's alpha: 0.8998222642874656\n"
          ]
        }
      ],
      "source": [
        "alpha_1 = pg.cronbach_alpha(online_media_score_tesing_df)\n",
        "alpha_2 = pg.cronbach_alpha(voting_score_tesing_df)\n",
        "alpha_3 = pg.cronbach_alpha(offline_media_score_tesing_df)\n",
        "alpha_4 = pg.cronbach_alpha(campaign_worker_mean_tesing_df)\n",
        "\n",
        "print('online_media_pp_score Cronbach\\'s alpha: ', alpha_1[0])\n",
        "print('voting_score Cronbach\\'s alpha: ', alpha_2[0])\n",
        "print('offline_media_pp_score Cronbach\\'s alpha: ', alpha_3[0])\n",
        "print('campaign_worker_pp_score Cronbach\\'s alpha: ', alpha_4[0])\n",
        "print('Total Cronbanc\\'s alpha:', (alpha_1[0] + alpha_2[0] + alpha_3[0] + alpha_4[0])/4)"
      ]
    },
    {
      "cell_type": "markdown",
      "id": "10320281-b8d9-4c19-9829-0a27969cb4ec",
      "metadata": {
        "noteable": {
          "cell_type": "markdown"
        }
      },
      "source": [
        "### Grouping and FAC get total score"
      ]
    },
    {
      "cell_type": "code",
      "execution_count": 14,
      "id": "afae7f07-12ad-41ea-bcf4-f9ac4572e93d",
      "metadata": {
        "ExecuteTime": {
          "end_time": "2023-07-05T09:51:23.304327+00:00",
          "start_time": "2023-07-05T09:51:23.145784+00:00"
        },
        "jupyter": {
          "outputs_hidden": false,
          "source_hidden": false
        },
        "noteable": {
          "cell_type": "code",
          "output_collection_id": "e2eb8f7e-b0b2-4544-97ce-08f2fb18864f"
        }
      },
      "outputs": [],
      "source": [
        "online_pp_vars = ['onlnie_scores', 'TV_news_time', 'news_paper_time', 'int_news_time', 'TV_debate','read_media', 'like_media', 'share_media', 'comment_media', 'int_discuss']\n",
        "offline_pp_vars = ['offlnie_scores', 'read_election_news', 'read_election_leaflet', 'convince',                    'campaign', 'volunteer', 'election_mayor', 'election_18']\n",
        "online_pp_tesing_df = ml_df[online_pp_vars]\n",
        "offline_pp_tesing_df = ml_df[offline_pp_vars]"
      ]
    },
    {
      "cell_type": "code",
      "execution_count": 15,
      "id": "00f1082c-b7f2-40ca-b1d6-02da8797548b",
      "metadata": {
        "ExecuteTime": {
          "end_time": "2023-07-05T09:51:23.482783+00:00",
          "start_time": "2023-07-05T09:51:23.312665+00:00"
        },
        "jupyter": {
          "outputs_hidden": false,
          "source_hidden": false
        },
        "noteable": {
          "cell_type": "code",
          "output_collection_id": "cba812b1-f951-4540-a118-c122f49c7ae2"
        }
      },
      "outputs": [
        {
          "name": "stdout",
          "output_type": "stream",
          "text": [
            "onlnie_scores Cronbach's alpha:  0.7865005681885463\n",
            "offlnie_scores Cronbach's alpha:  0.8136118677407488\n",
            "Total Cronbanc's alpha: 0.8000562179646475\n"
          ]
        }
      ],
      "source": [
        "alpha_1 = pg.cronbach_alpha(online_pp_tesing_df)\n",
        "alpha_2 = pg.cronbach_alpha(offline_pp_tesing_df)\n",
        "\n",
        "print('onlnie_scores Cronbach\\'s alpha: ', alpha_1[0])\n",
        "print('offlnie_scores Cronbach\\'s alpha: ', alpha_2[0])\n",
        "print('Total Cronbanc\\'s alpha:', (alpha_1[0] + alpha_2[0])/2)"
      ]
    },
    {
      "cell_type": "markdown",
      "id": "1386ca67-df89-43fd-9f60-1442e540a130",
      "metadata": {
        "noteable": {
          "cell_type": "markdown"
        }
      },
      "source": [
        "## anti_party testing"
      ]
    },
    {
      "cell_type": "markdown",
      "id": "fbcbc718-93af-4461-8960-4fb5b2507c6f",
      "metadata": {
        "noteable": {
          "cell_type": "markdown"
        }
      },
      "source": [
        "### Basic"
      ]
    },
    {
      "cell_type": "code",
      "execution_count": 16,
      "id": "b24badf5-cdc9-4ee7-b03f-6618e616d9fb",
      "metadata": {
        "ExecuteTime": {
          "end_time": "2023-07-05T09:51:23.653189+00:00",
          "start_time": "2023-07-05T09:51:23.490091+00:00"
        },
        "jupyter": {
          "outputs_hidden": false,
          "source_hidden": false
        },
        "noteable": {
          "cell_type": "code",
          "output_collection_id": "ca5af8e2-8385-4462-9084-0d0d9576ba3a"
        }
      },
      "outputs": [],
      "source": [
        "anti_party_vars = ['anti_party', 'anti_1', 'anti_2', 'anti_3', 'anti_4', 'anti_5']\n",
        "anti_party_tesing_df = ml_df[anti_party_vars]"
      ]
    },
    {
      "cell_type": "code",
      "execution_count": 17,
      "id": "c15b7c69-bec3-4578-96cc-10a55c81a8ba",
      "metadata": {
        "ExecuteTime": {
          "end_time": "2023-07-05T09:54:06.929631+00:00",
          "start_time": "2023-07-05T09:54:06.769874+00:00"
        },
        "jupyter": {
          "outputs_hidden": false,
          "source_hidden": false
        },
        "noteable": {
          "cell_type": "code",
          "output_collection_id": "6c0a96d2-fa44-4fb1-bc53-22801effbfb8"
        }
      },
      "outputs": [
        {
          "name": "stdout",
          "output_type": "stream",
          "text": [
            "anti_party Cronbach's alpha:  0.7564819668378752\n"
          ]
        }
      ],
      "source": [
        "alpha = pg.cronbach_alpha(anti_party_tesing_df)\n",
        "\n",
        "print('anti_party Cronbach\\'s alpha: ', alpha[0])"
      ]
    },
    {
      "cell_type": "markdown",
      "id": "5e76b675-ad8e-4c17-aa4e-9e7b95c42094",
      "metadata": {
        "noteable": {
          "cell_type": "markdown"
        }
      },
      "source": [
        "### Mean after FAC"
      ]
    },
    {
      "cell_type": "code",
      "execution_count": 18,
      "id": "5810ce9c-296b-44fb-8ba4-1e70f0baeafb",
      "metadata": {
        "ExecuteTime": {
          "end_time": "2023-07-05T09:57:09.875736+00:00",
          "start_time": "2023-07-05T09:57:09.717480+00:00"
        },
        "jupyter": {
          "outputs_hidden": false,
          "source_hidden": false
        },
        "noteable": {
          "cell_type": "code",
          "output_collection_id": "ffd44fca-4a3d-4335-8090-f51df0aac3db"
        }
      },
      "outputs": [],
      "source": [
        "political_polarization_mean_vars = ['anti_1', 'political_polarization_mean']\n",
        "party_image_mean_vars = ['anti_3', 'anti_4', 'anti_5', 'party_image_mean']\n",
        "political_polarization_mean_tesing_df = ml_df[political_polarization_mean_vars]\n",
        "party_image_mean_vars_tesing_df = ml_df[party_image_mean_vars]"
      ]
    },
    {
      "cell_type": "code",
      "execution_count": 19,
      "id": "426b3abc-aaa2-4c07-b439-cbcd70956b7f",
      "metadata": {
        "ExecuteTime": {
          "end_time": "2023-07-05T09:58:01.479590+00:00",
          "start_time": "2023-07-05T09:58:01.312624+00:00"
        },
        "jupyter": {
          "outputs_hidden": false,
          "source_hidden": false
        },
        "noteable": {
          "cell_type": "code",
          "output_collection_id": "9a459c16-8756-4b2f-bc17-8e0b8afe69d5"
        }
      },
      "outputs": [
        {
          "name": "stdout",
          "output_type": "stream",
          "text": [
            "political_polarization_mean Cronbach's alpha:  1.0\n",
            "party_image_mean Cronbach's alpha:  0.8485172366992396\n",
            "Total Cronbanc's alpha: 0.9242586183496198\n"
          ]
        }
      ],
      "source": [
        "alpha_1 = pg.cronbach_alpha(political_polarization_mean_tesing_df)\n",
        "alpha_2 = pg.cronbach_alpha(party_image_mean_vars_tesing_df)\n",
        "\n",
        "print('political_polarization_mean Cronbach\\'s alpha: ', alpha_1[0])\n",
        "print('party_image_mean Cronbach\\'s alpha: ', alpha_2[0])\n",
        "print('Total Cronbanc\\'s alpha:', (alpha_1[0] + alpha_2[0])/2)"
      ]
    },
    {
      "cell_type": "markdown",
      "id": "41a1d84a-1fb2-4a17-a055-0dfb29a704c7",
      "metadata": {
        "noteable": {
          "cell_type": "markdown"
        }
      },
      "source": [
        "### Total score after FAC two group"
      ]
    },
    {
      "cell_type": "code",
      "execution_count": 20,
      "id": "f2986597-4bde-4ac5-86e3-c3c341211fbe",
      "metadata": {
        "ExecuteTime": {
          "end_time": "2023-07-05T09:58:46.607291+00:00",
          "start_time": "2023-07-05T09:58:46.448477+00:00"
        },
        "jupyter": {
          "outputs_hidden": false,
          "source_hidden": false
        },
        "noteable": {
          "cell_type": "code",
          "output_collection_id": "e7917977-91e9-415e-b320-43fe027146de"
        }
      },
      "outputs": [],
      "source": [
        "political_polarization_score_vars = ['anti_1', 'political_polarization_score']\n",
        "party_image_score_vars = ['anti_3', 'anti_4', 'anti_5', 'party_image_score']\n",
        "political_polarization_score_tesing_df = ml_df[political_polarization_score_vars]\n",
        "party_image_score_tesing_df = ml_df[party_image_score_vars]"
      ]
    },
    {
      "cell_type": "code",
      "execution_count": 21,
      "id": "01c8bc17-81ef-4998-8eca-66e918db4e91",
      "metadata": {
        "ExecuteTime": {
          "end_time": "2023-07-05T09:58:55.827929+00:00",
          "start_time": "2023-07-05T09:58:55.662960+00:00"
        },
        "jupyter": {
          "outputs_hidden": false,
          "source_hidden": false
        },
        "noteable": {
          "cell_type": "code",
          "output_collection_id": "f2204757-e56e-4c1f-b68e-94ad9c97e8f6"
        }
      },
      "outputs": [
        {
          "name": "stdout",
          "output_type": "stream",
          "text": [
            "political_polarization_mean Cronbach's alpha:  0.1487612521856283\n",
            "party_image_mean Cronbach's alpha:  0.5807386999310291\n",
            "Total Cronbanc's alpha: 0.3647499760583287\n"
          ]
        }
      ],
      "source": [
        "alpha_1 = pg.cronbach_alpha(political_polarization_score_tesing_df)\n",
        "alpha_2 = pg.cronbach_alpha(party_image_score_tesing_df)\n",
        "\n",
        "print('political_polarization_mean Cronbach\\'s alpha: ', alpha_1[0])\n",
        "print('party_image_mean Cronbach\\'s alpha: ', alpha_2[0])\n",
        "print('Total Cronbanc\\'s alpha:', (alpha_1[0] + alpha_2[0])/2)"
      ]
    },
    {
      "cell_type": "markdown",
      "id": "6a630d0b-d370-4f0b-b8ca-973d6eccbae2",
      "metadata": {
        "noteable": {
          "cell_type": "markdown"
        }
      },
      "source": [
        "### Total score after FAC"
      ]
    },
    {
      "cell_type": "code",
      "execution_count": 22,
      "id": "34d1726c-e36e-4f91-8a59-463b0e8de5f1",
      "metadata": {
        "ExecuteTime": {
          "end_time": "2023-07-05T10:01:08.597175+00:00",
          "start_time": "2023-07-05T10:01:08.440105+00:00"
        },
        "jupyter": {
          "outputs_hidden": false,
          "source_hidden": false
        },
        "noteable": {
          "cell_type": "code",
          "output_collection_id": "77e27c0a-1670-4967-ba58-9b69302f675b"
        }
      },
      "outputs": [],
      "source": [
        "anti_party_vars = ['anti_party_scores', 'anti_1', 'anti_2', 'anti_3', 'anti_4', 'anti_5']\n",
        "anti_party_tesing_df = ml_df[anti_party_vars]"
      ]
    },
    {
      "cell_type": "code",
      "execution_count": 23,
      "id": "d3f17535-e40a-41af-adec-0728c8fb7b2f",
      "metadata": {
        "ExecuteTime": {
          "end_time": "2023-07-05T10:01:17.702053+00:00",
          "start_time": "2023-07-05T10:01:17.542003+00:00"
        },
        "jupyter": {
          "outputs_hidden": false,
          "source_hidden": false
        },
        "noteable": {
          "cell_type": "code",
          "output_collection_id": "5ce09037-0da1-44f5-a373-2736ed410bd9"
        }
      },
      "outputs": [
        {
          "name": "stdout",
          "output_type": "stream",
          "text": [
            "anti_party Cronbach's alpha:  0.7405711986436132\n"
          ]
        }
      ],
      "source": [
        "alpha = pg.cronbach_alpha(anti_party_tesing_df)\n",
        "\n",
        "print('anti_party Cronbach\\'s alpha: ', alpha[0])"
      ]
    }
  ],
  "metadata": {
    "kernelspec": {
      "display_name": "base",
      "language": "python",
      "name": "python3"
    },
    "language_info": {
      "codemirror_mode": {
        "name": "ipython",
        "version": 3
      },
      "file_extension": ".py",
      "mimetype": "text/x-python",
      "name": "python",
      "nbconvert_exporter": "python",
      "pygments_lexer": "ipython3",
      "version": "3.9.12"
    },
    "noteable": {
      "last_transaction_id": "d3c299f4-0d10-4b2b-a404-816ac34fdf04"
    },
    "selected_hardware_size": "small"
  },
  "nbformat": 4,
  "nbformat_minor": 5
}
