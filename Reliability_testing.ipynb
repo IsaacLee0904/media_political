{
  "nbformat": 4,
  "nbformat_minor": 5,
  "metadata": {
    "selected_hardware_size": "small",
    "noteable": {
      "last_transaction_id": "d3c299f4-0d10-4b2b-a404-816ac34fdf04"
    }
  },
  "cells": [
    {
      "id": "b0d5e602-48fd-4d76-be10-2b7091102e2c",
      "cell_type": "markdown",
      "source": "# Reliability_testing\n## DV\n* 因素分析 -> 根據構面取平均 : online_media_pp_mean / voting_mean / offline_media_pp_mean / campaign_worker_pp_mean\n* 因素分析 -> 根據構面取綜合得分 : online_media_pp_score / voting_score / offline_media_pp_score / campaign_worker_pp_score\n* 先分 online_pp / offline_pp -> 因素分析 -> 根據因素分析結果建立兩個綜合得分 : onlnie_scores / offlnie_scores\n## anti_party\n* 因素分析 -> 根據構面取平均 : political_polarization_mean / party_image_mean\n* 因素分析 -> 根據構面取綜合得分 : political_polarization_score / party_image_score\n* 因素分析 -> 全部算一個綜合得分 : anti_party_scores\n\n",
      "metadata": {
        "noteable": {
          "cell_type": "markdown"
        }
      }
    },
    {
      "id": "a7a5d7c4-2ac8-40de-a8df-89688d1108dd",
      "cell_type": "markdown",
      "source": "## Import Package",
      "metadata": {
        "noteable": {
          "cell_type": "markdown"
        }
      }
    },
    {
      "id": "cf0ca1f2-5831-49f7-90c7-06fc52d67aef",
      "cell_type": "code",
      "metadata": {
        "jupyter": {
          "outputs_hidden": false,
          "source_hidden": false
        },
        "noteable": {
          "cell_type": "code",
          "output_collection_id": "f897876d-f560-49b8-aed4-e8b902bcb77f"
        },
        "ExecuteTime": {
          "end_time": "2023-07-05T09:51:08.384299+00:00",
          "start_time": "2023-07-05T09:50:53.693829+00:00"
        }
      },
      "execution_count": null,
      "source": "! pip install factor_analyzer pingouin",
      "outputs": []
    },
    {
      "id": "329c3bf7",
      "cell_type": "code",
      "metadata": {
        "noteable": {
          "output_collection_id": "42feab54-954e-410a-828a-90d8c5c838f3"
        },
        "ExecuteTime": {
          "end_time": "2023-07-05T09:51:15.302361+00:00",
          "start_time": "2023-07-05T09:51:14.341098+00:00"
        }
      },
      "execution_count": null,
      "source": "# for data ETL\nimport pandas as pd\nimport ETL\n# reliability testing\nfrom factor_analyzer import FactorAnalyzer\nimport pingouin as pg ",
      "outputs": []
    },
    {
      "id": "056544dd-e277-421d-bda8-24b09297737b",
      "cell_type": "markdown",
      "source": "## Load data and Data Cleaning",
      "metadata": {
        "noteable": {
          "cell_type": "markdown"
        }
      }
    },
    {
      "id": "857ed977-2913-4630-9a65-84ba789fecd0",
      "cell_type": "code",
      "metadata": {
        "jupyter": {
          "outputs_hidden": false,
          "source_hidden": false
        },
        "noteable": {
          "cell_type": "code",
          "output_collection_id": "ac94ba31-07b8-4ad1-ae2a-791226d256a2"
        },
        "ExecuteTime": {
          "end_time": "2023-07-05T09:51:15.525700+00:00",
          "start_time": "2023-07-05T09:51:15.341865+00:00"
        }
      },
      "execution_count": null,
      "source": "raw_data = pd.read_csv('raw_data.csv')",
      "outputs": []
    },
    {
      "id": "9da873a9-dd1e-45ca-8d04-78bf7be292be",
      "cell_type": "code",
      "metadata": {
        "jupyter": {
          "outputs_hidden": false,
          "source_hidden": false
        },
        "noteable": {
          "cell_type": "code",
          "output_collection_id": "077fc869-80de-4b86-8651-1b8769ce7d87"
        },
        "ExecuteTime": {
          "end_time": "2023-07-05T09:51:15.694700+00:00",
          "start_time": "2023-07-05T09:51:15.532553+00:00"
        }
      },
      "execution_count": null,
      "source": "filter_data = raw_data.loc[raw_data['目前國內政黨當中，請問您是否偏向哪一個政黨？'].isin(['沒有特定支持', '都不支持'])]\nfilter_data.drop(['您有絶對的權力決定是否要參與本研究。若您願意參與，請務必勾選下列選項：', '請填寫您的電子信箱，以利後續抽獎聯繫使用'], axis=1, inplace=True)",
      "outputs": []
    },
    {
      "id": "36a404d6-7539-4152-b027-802500a8af5e",
      "cell_type": "code",
      "metadata": {
        "jupyter": {
          "outputs_hidden": false,
          "source_hidden": false
        },
        "noteable": {
          "cell_type": "code",
          "output_collection_id": "1026a263-e84f-4ba8-a31f-52b0fbc05f78"
        },
        "ExecuteTime": {
          "end_time": "2023-07-05T09:51:15.909854+00:00",
          "start_time": "2023-07-05T09:51:15.702584+00:00"
        }
      },
      "execution_count": null,
      "source": "ml_df = ETL.data_cleaning(filter_data)\nml_df = ml_df.reset_index(drop=True)",
      "outputs": []
    },
    {
      "id": "8f7feed5-c226-4018-9afc-dc08ff666c58",
      "cell_type": "code",
      "metadata": {
        "jupyter": {
          "outputs_hidden": false,
          "source_hidden": false
        },
        "noteable": {
          "cell_type": "code",
          "output_collection_id": "e26586b2-b972-4b37-8d7f-8bef7c7bd1ae"
        },
        "ExecuteTime": {
          "end_time": "2023-07-05T09:51:17.902775+00:00",
          "start_time": "2023-07-05T09:51:15.917514+00:00"
        }
      },
      "execution_count": null,
      "source": "ml_df = ETL.feature_engineering(ml_df)\nml_df = ETL.DV_feature(ml_df)\nml_df = ETL.anti_party_feature(ml_df)\nml_df.shape",
      "outputs": []
    },
    {
      "id": "6ad71791-0f4b-42e8-bc10-8d18652e5b50",
      "cell_type": "code",
      "metadata": {
        "jupyter": {
          "outputs_hidden": false,
          "source_hidden": false
        },
        "noteable": {
          "cell_type": "code",
          "output_collection_id": "0e5b6a04-bf41-4e8d-ba76-e940a6595d69"
        },
        "ExecuteTime": {
          "end_time": "2023-07-05T09:51:18.381466+00:00",
          "start_time": "2023-07-05T09:51:18.222999+00:00"
        }
      },
      "execution_count": null,
      "source": "ml_df.columns",
      "outputs": []
    },
    {
      "id": "906819ea-f6cb-421c-a322-6031ab4b97f3",
      "cell_type": "markdown",
      "source": "## Reliability Testing",
      "metadata": {
        "noteable": {
          "cell_type": "markdown"
        }
      }
    },
    {
      "id": "9b6edb27-7ae6-45d3-be63-7bc65e75ebca",
      "cell_type": "markdown",
      "source": "## DV testing",
      "metadata": {
        "noteable": {
          "cell_type": "markdown"
        }
      }
    },
    {
      "id": "c1d3a5f6-c507-4e31-812a-c69bfaceda44",
      "cell_type": "markdown",
      "source": "### Basic",
      "metadata": {
        "noteable": {
          "cell_type": "markdown"
        }
      }
    },
    {
      "id": "dab48064-13c4-43b1-9e4c-f09c5bae4500",
      "cell_type": "code",
      "metadata": {
        "noteable": {
          "cell_type": "python",
          "output_collection_id": "545e3ae6-f886-4621-a4c8-144d6f0fd50e"
        },
        "ExecuteTime": {
          "end_time": "2023-07-05T09:51:18.581361+00:00",
          "start_time": "2023-07-05T09:51:18.422690+00:00"
        }
      },
      "execution_count": null,
      "source": "online_pp_vars = ['online_pp', 'TV_news_time', 'news_paper_time', 'int_news_time', 'TV_debate',                   'read_media', 'like_media', 'share_media', 'comment_media', 'int_discuss']\noffline_pp_vars = ['offline_pp', 'read_election_news', 'read_election_leaflet', 'convince',                        'campaign', 'volunteer', 'election_mayor', 'election_18']\nonline_pp_tesing_df = ml_df[online_pp_vars]\noffline_pp_tesing_df = ml_df[offline_pp_vars]",
      "outputs": []
    },
    {
      "id": "6b51954f-6ac0-4785-9620-1348295a8343",
      "cell_type": "code",
      "metadata": {
        "jupyter": {
          "outputs_hidden": false,
          "source_hidden": false
        },
        "noteable": {
          "cell_type": "code",
          "output_collection_id": "5a41eb2d-007d-4cb9-aa84-e7af381406c3"
        },
        "ExecuteTime": {
          "end_time": "2023-07-05T09:51:18.755596+00:00",
          "start_time": "2023-07-05T09:51:18.587779+00:00"
        }
      },
      "execution_count": null,
      "source": "alpha_1 = pg.cronbach_alpha(online_pp_tesing_df)\nalpha_2 = pg.cronbach_alpha(offline_pp_tesing_df)\n\nprint('online_pp Cronbach\\'s alpha: ', alpha_1[0])\nprint('offline_pp Cronbach\\'s alpha: ', alpha_2[0])\nprint('Total Cronbanc\\'s alpha:', (alpha_1[0] + alpha_2[0])/2)",
      "outputs": []
    },
    {
      "id": "999f2a54-533d-4db0-94d7-ada69b081d5e",
      "cell_type": "markdown",
      "source": "### Mean after FAC",
      "metadata": {
        "noteable": {
          "cell_type": "markdown"
        }
      }
    },
    {
      "id": "16efeb3d-1ba9-45f7-96b7-5cd73d16b37f",
      "cell_type": "code",
      "metadata": {
        "jupyter": {
          "outputs_hidden": false,
          "source_hidden": false
        },
        "noteable": {
          "cell_type": "code",
          "output_collection_id": "a61e87c8-4607-416f-a57c-2da0c438cb33"
        },
        "ExecuteTime": {
          "end_time": "2023-07-05T09:51:18.927621+00:00",
          "start_time": "2023-07-05T09:51:18.763163+00:00"
        }
      },
      "execution_count": null,
      "source": "online_media_pp_vars_mean = ['read_media', 'like_media', 'share_media', 'comment_media', 'online_media_pp_mean']\nonline_media_mean_tesing_df = ml_df[online_media_pp_vars_mean]\nvoting_vars_mean = ['election_mayor', 'election_18', 'voting_mean']\nvoting_mean_tesing_df = ml_df[voting_vars_mean]\noffline_media_pp_vars_mean = ['read_election_news', 'read_election_leaflet', 'offline_media_pp_mean']\noffline_media_mean_tesing_df = ml_df[offline_media_pp_vars_mean]\ncampaign_worker_pp_vars_mean = ['campaign', 'volunteer', 'campaign_worker_pp_mean']\ncampaign_worker_mean_tesing_df = ml_df[campaign_worker_pp_vars_mean]",
      "outputs": []
    },
    {
      "id": "dedd496d-330f-4d79-8542-d719239d52a1",
      "cell_type": "code",
      "metadata": {
        "jupyter": {
          "outputs_hidden": false,
          "source_hidden": false
        },
        "noteable": {
          "cell_type": "code",
          "output_collection_id": "b8219874-8b0d-464e-8e78-281091e620ea"
        },
        "ExecuteTime": {
          "end_time": "2023-07-05T09:51:19.112964+00:00",
          "start_time": "2023-07-05T09:51:18.934707+00:00"
        }
      },
      "execution_count": null,
      "source": "alpha_1 = pg.cronbach_alpha(online_media_mean_tesing_df)\nalpha_2 = pg.cronbach_alpha(voting_mean_tesing_df)\nalpha_3 = pg.cronbach_alpha(offline_media_mean_tesing_df)\nalpha_4 = pg.cronbach_alpha(campaign_worker_mean_tesing_df)\n\nprint('online_media_pp_mean Cronbach\\'s alpha: ', alpha_1[0])\nprint('voting_mean Cronbach\\'s alpha: ', alpha_2[0])\nprint('offline_media_pp_mean Cronbach\\'s alpha: ', alpha_3[0])\nprint('campaign_worker_pp_mean Cronbach\\'s alpha: ', alpha_4[0])\nprint('Total Cronbanc\\'s alpha:', (alpha_1[0] + alpha_2[0] + alpha_3[0] + alpha_4[0])/4)",
      "outputs": []
    },
    {
      "id": "1fef9552-f54f-4137-99e8-59d963e6f43b",
      "cell_type": "markdown",
      "source": "### Total score after FAC",
      "metadata": {
        "noteable": {
          "cell_type": "markdown"
        }
      }
    },
    {
      "id": "9cde04b1-5a88-4193-a1bd-8154b389bc8b",
      "cell_type": "code",
      "metadata": {
        "jupyter": {
          "outputs_hidden": false,
          "source_hidden": false
        },
        "noteable": {
          "cell_type": "code",
          "output_collection_id": "3f68b373-9213-4bca-b3af-312792e9e399"
        },
        "ExecuteTime": {
          "end_time": "2023-07-05T09:51:21.543144+00:00",
          "start_time": "2023-07-05T09:51:21.383262+00:00"
        }
      },
      "execution_count": null,
      "source": "online_media_pp_vars_score = ['read_media', 'like_media', 'share_media', 'comment_media', 'online_media_pp_score']\nonline_media_score_tesing_df = ml_df[online_media_pp_vars_score]\nvoting_vars_score = ['election_mayor', 'election_18', 'voting_score']\nvoting_score_tesing_df = ml_df[voting_vars_score]\noffline_media_pp_vars_score = ['read_election_news', 'read_election_leaflet', 'offline_media_pp_score']\noffline_media_score_tesing_df = ml_df[offline_media_pp_vars_score]\ncampaign_worker_pp_vars_score = ['campaign', 'volunteer', 'campaign_worker_pp_score']\ncampaign_worker_score_tesing_df = ml_df[campaign_worker_pp_vars_score]",
      "outputs": []
    },
    {
      "id": "f24c35b5-cb07-4174-8ff8-bb66b94b0d5c",
      "cell_type": "code",
      "metadata": {
        "jupyter": {
          "outputs_hidden": false,
          "source_hidden": false
        },
        "noteable": {
          "cell_type": "code",
          "output_collection_id": "4b895466-c18c-4a48-aa61-4522c4d93d00"
        },
        "ExecuteTime": {
          "end_time": "2023-07-05T09:51:21.724883+00:00",
          "start_time": "2023-07-05T09:51:21.551454+00:00"
        }
      },
      "execution_count": null,
      "source": "alpha_1 = pg.cronbach_alpha(online_media_score_tesing_df)\nalpha_2 = pg.cronbach_alpha(voting_score_tesing_df)\nalpha_3 = pg.cronbach_alpha(offline_media_score_tesing_df)\nalpha_4 = pg.cronbach_alpha(campaign_worker_mean_tesing_df)\n\nprint('online_media_pp_score Cronbach\\'s alpha: ', alpha_1[0])\nprint('voting_score Cronbach\\'s alpha: ', alpha_2[0])\nprint('offline_media_pp_score Cronbach\\'s alpha: ', alpha_3[0])\nprint('campaign_worker_pp_score Cronbach\\'s alpha: ', alpha_4[0])\nprint('Total Cronbanc\\'s alpha:', (alpha_1[0] + alpha_2[0] + alpha_3[0] + alpha_4[0])/4)",
      "outputs": []
    },
    {
      "id": "10320281-b8d9-4c19-9829-0a27969cb4ec",
      "cell_type": "markdown",
      "source": "### Grouping and FAC get total score",
      "metadata": {
        "noteable": {
          "cell_type": "markdown"
        }
      }
    },
    {
      "id": "afae7f07-12ad-41ea-bcf4-f9ac4572e93d",
      "cell_type": "code",
      "metadata": {
        "jupyter": {
          "outputs_hidden": false,
          "source_hidden": false
        },
        "noteable": {
          "cell_type": "code",
          "output_collection_id": "e2eb8f7e-b0b2-4544-97ce-08f2fb18864f"
        },
        "ExecuteTime": {
          "end_time": "2023-07-05T09:51:23.304327+00:00",
          "start_time": "2023-07-05T09:51:23.145784+00:00"
        }
      },
      "execution_count": null,
      "source": "online_pp_vars = ['onlnie_scores', 'TV_news_time', 'news_paper_time', 'int_news_time', 'TV_debate','read_media', 'like_media', 'share_media', 'comment_media', 'int_discuss']\noffline_pp_vars = ['offlnie_scores', 'read_election_news', 'read_election_leaflet', 'convince',                    'campaign', 'volunteer', 'election_mayor', 'election_18']\nonline_pp_tesing_df = ml_df[online_pp_vars]\noffline_pp_tesing_df = ml_df[offline_pp_vars]",
      "outputs": []
    },
    {
      "id": "00f1082c-b7f2-40ca-b1d6-02da8797548b",
      "cell_type": "code",
      "metadata": {
        "jupyter": {
          "outputs_hidden": false,
          "source_hidden": false
        },
        "noteable": {
          "cell_type": "code",
          "output_collection_id": "cba812b1-f951-4540-a118-c122f49c7ae2"
        },
        "ExecuteTime": {
          "end_time": "2023-07-05T09:51:23.482783+00:00",
          "start_time": "2023-07-05T09:51:23.312665+00:00"
        }
      },
      "execution_count": null,
      "source": "alpha_1 = pg.cronbach_alpha(online_pp_tesing_df)\nalpha_2 = pg.cronbach_alpha(offline_pp_tesing_df)\n\nprint('onlnie_scores Cronbach\\'s alpha: ', alpha_1[0])\nprint('offlnie_scores Cronbach\\'s alpha: ', alpha_2[0])\nprint('Total Cronbanc\\'s alpha:', (alpha_1[0] + alpha_2[0])/2)",
      "outputs": []
    },
    {
      "id": "1386ca67-df89-43fd-9f60-1442e540a130",
      "cell_type": "markdown",
      "source": "## anti_party testing",
      "metadata": {
        "noteable": {
          "cell_type": "markdown"
        }
      }
    },
    {
      "id": "fbcbc718-93af-4461-8960-4fb5b2507c6f",
      "cell_type": "markdown",
      "source": "### Basic",
      "metadata": {
        "noteable": {
          "cell_type": "markdown"
        }
      }
    },
    {
      "id": "b24badf5-cdc9-4ee7-b03f-6618e616d9fb",
      "cell_type": "code",
      "metadata": {
        "jupyter": {
          "outputs_hidden": false,
          "source_hidden": false
        },
        "noteable": {
          "cell_type": "code",
          "output_collection_id": "ca5af8e2-8385-4462-9084-0d0d9576ba3a"
        },
        "ExecuteTime": {
          "end_time": "2023-07-05T09:51:23.653189+00:00",
          "start_time": "2023-07-05T09:51:23.490091+00:00"
        }
      },
      "execution_count": null,
      "source": "anti_party_vars = ['anti_party', 'anti_1', 'anti_2', 'anti_3', 'anti_4', 'anti_5']\nanti_party_tesing_df = ml_df[anti_party_vars]",
      "outputs": []
    },
    {
      "id": "c15b7c69-bec3-4578-96cc-10a55c81a8ba",
      "cell_type": "code",
      "metadata": {
        "jupyter": {
          "outputs_hidden": false,
          "source_hidden": false
        },
        "noteable": {
          "cell_type": "code",
          "output_collection_id": "6c0a96d2-fa44-4fb1-bc53-22801effbfb8"
        },
        "ExecuteTime": {
          "end_time": "2023-07-05T09:54:06.929631+00:00",
          "start_time": "2023-07-05T09:54:06.769874+00:00"
        }
      },
      "execution_count": null,
      "source": "alpha = pg.cronbach_alpha(anti_party_tesing_df)\n\nprint('anti_party Cronbach\\'s alpha: ', alpha[0])",
      "outputs": []
    },
    {
      "id": "5e76b675-ad8e-4c17-aa4e-9e7b95c42094",
      "cell_type": "markdown",
      "source": "### Mean after FAC",
      "metadata": {
        "noteable": {
          "cell_type": "markdown"
        }
      }
    },
    {
      "id": "5810ce9c-296b-44fb-8ba4-1e70f0baeafb",
      "cell_type": "code",
      "metadata": {
        "jupyter": {
          "outputs_hidden": false,
          "source_hidden": false
        },
        "noteable": {
          "cell_type": "code",
          "output_collection_id": "ffd44fca-4a3d-4335-8090-f51df0aac3db"
        },
        "ExecuteTime": {
          "end_time": "2023-07-05T09:57:09.875736+00:00",
          "start_time": "2023-07-05T09:57:09.717480+00:00"
        }
      },
      "execution_count": null,
      "source": "political_polarization_mean_vars = ['anti_1', 'political_polarization_mean']\nparty_image_mean_vars = ['anti_3', 'anti_4', 'anti_5', 'party_image_mean']\npolitical_polarization_mean_tesing_df = ml_df[political_polarization_mean_vars]\nparty_image_mean_vars_tesing_df = ml_df[party_image_mean_vars]",
      "outputs": []
    },
    {
      "id": "426b3abc-aaa2-4c07-b439-cbcd70956b7f",
      "cell_type": "code",
      "metadata": {
        "jupyter": {
          "outputs_hidden": false,
          "source_hidden": false
        },
        "noteable": {
          "cell_type": "code",
          "output_collection_id": "9a459c16-8756-4b2f-bc17-8e0b8afe69d5"
        },
        "ExecuteTime": {
          "end_time": "2023-07-05T09:58:01.479590+00:00",
          "start_time": "2023-07-05T09:58:01.312624+00:00"
        }
      },
      "execution_count": null,
      "source": "alpha_1 = pg.cronbach_alpha(political_polarization_mean_tesing_df)\nalpha_2 = pg.cronbach_alpha(party_image_mean_vars_tesing_df)\n\nprint('political_polarization_mean Cronbach\\'s alpha: ', alpha_1[0])\nprint('party_image_mean Cronbach\\'s alpha: ', alpha_2[0])\nprint('Total Cronbanc\\'s alpha:', (alpha_1[0] + alpha_2[0])/2)",
      "outputs": []
    },
    {
      "id": "41a1d84a-1fb2-4a17-a055-0dfb29a704c7",
      "cell_type": "markdown",
      "source": "### Total score after FAC two group",
      "metadata": {
        "noteable": {
          "cell_type": "markdown"
        }
      }
    },
    {
      "id": "f2986597-4bde-4ac5-86e3-c3c341211fbe",
      "cell_type": "code",
      "metadata": {
        "jupyter": {
          "outputs_hidden": false,
          "source_hidden": false
        },
        "noteable": {
          "cell_type": "code",
          "output_collection_id": "e7917977-91e9-415e-b320-43fe027146de"
        },
        "ExecuteTime": {
          "end_time": "2023-07-05T09:58:46.607291+00:00",
          "start_time": "2023-07-05T09:58:46.448477+00:00"
        }
      },
      "execution_count": null,
      "source": "political_polarization_score_vars = ['anti_1', 'political_polarization_score']\nparty_image_score_vars = ['anti_3', 'anti_4', 'anti_5', 'party_image_score']\npolitical_polarization_score_tesing_df = ml_df[political_polarization_score_vars]\nparty_image_score_tesing_df = ml_df[party_image_score_vars]",
      "outputs": []
    },
    {
      "id": "01c8bc17-81ef-4998-8eca-66e918db4e91",
      "cell_type": "code",
      "metadata": {
        "jupyter": {
          "outputs_hidden": false,
          "source_hidden": false
        },
        "noteable": {
          "cell_type": "code",
          "output_collection_id": "f2204757-e56e-4c1f-b68e-94ad9c97e8f6"
        },
        "ExecuteTime": {
          "end_time": "2023-07-05T09:58:55.827929+00:00",
          "start_time": "2023-07-05T09:58:55.662960+00:00"
        }
      },
      "execution_count": null,
      "source": "alpha_1 = pg.cronbach_alpha(political_polarization_score_tesing_df)\nalpha_2 = pg.cronbach_alpha(party_image_score_tesing_df)\n\nprint('political_polarization_mean Cronbach\\'s alpha: ', alpha_1[0])\nprint('party_image_mean Cronbach\\'s alpha: ', alpha_2[0])\nprint('Total Cronbanc\\'s alpha:', (alpha_1[0] + alpha_2[0])/2)",
      "outputs": []
    },
    {
      "id": "6a630d0b-d370-4f0b-b8ca-973d6eccbae2",
      "cell_type": "markdown",
      "source": "### Total score after FAC",
      "metadata": {
        "noteable": {
          "cell_type": "markdown"
        }
      }
    },
    {
      "id": "34d1726c-e36e-4f91-8a59-463b0e8de5f1",
      "cell_type": "code",
      "metadata": {
        "jupyter": {
          "outputs_hidden": false,
          "source_hidden": false
        },
        "noteable": {
          "cell_type": "code",
          "output_collection_id": "77e27c0a-1670-4967-ba58-9b69302f675b"
        },
        "ExecuteTime": {
          "end_time": "2023-07-05T10:01:08.597175+00:00",
          "start_time": "2023-07-05T10:01:08.440105+00:00"
        }
      },
      "execution_count": null,
      "source": "anti_party_vars = ['anti_party_scores', 'anti_1', 'anti_2', 'anti_3', 'anti_4', 'anti_5']\nanti_party_tesing_df = ml_df[anti_party_vars]",
      "outputs": []
    },
    {
      "id": "d3f17535-e40a-41af-adec-0728c8fb7b2f",
      "cell_type": "code",
      "metadata": {
        "jupyter": {
          "outputs_hidden": false,
          "source_hidden": false
        },
        "noteable": {
          "cell_type": "code",
          "output_collection_id": "5ce09037-0da1-44f5-a373-2736ed410bd9"
        },
        "ExecuteTime": {
          "end_time": "2023-07-05T10:01:17.702053+00:00",
          "start_time": "2023-07-05T10:01:17.542003+00:00"
        }
      },
      "execution_count": null,
      "source": "alpha = pg.cronbach_alpha(anti_party_tesing_df)\n\nprint('anti_party Cronbach\\'s alpha: ', alpha[0])",
      "outputs": []
    }
  ]
}