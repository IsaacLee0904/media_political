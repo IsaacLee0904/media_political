{
  "cells": [
    {
      "attachments": {},
      "cell_type": "markdown",
      "id": "51ac109b",
      "metadata": {},
      "source": [
        "## Import package"
      ]
    },
    {
      "cell_type": "code",
      "execution_count": 1,
      "id": "f6ef19fe-5a2f-4c79-bb17-5ab7dda76101",
      "metadata": {
        "ExecuteTime": {
          "end_time": "2023-07-06T02:20:43.670552+00:00",
          "start_time": "2023-07-06T02:20:29.144843+00:00"
        },
        "noteable": {
          "cell_type": "python",
          "output_collection_id": "b69b4124-c942-4bb6-9968-36ac5e0219a6"
        },
        "scrolled": false
      },
      "outputs": [],
      "source": [
        "# ! pip install factor_analyzer pingouin stargazer"
      ]
    },
    {
      "cell_type": "code",
      "execution_count": 2,
      "id": "f0c407eb",
      "metadata": {
        "ExecuteTime": {
          "end_time": "2023-07-06T02:20:45.047947+00:00",
          "start_time": "2023-07-06T02:20:43.678815+00:00"
        },
        "noteable": {
          "output_collection_id": "080f14c2-270a-4c0e-a0d1-bd0dffb5e4ee"
        }
      },
      "outputs": [],
      "source": [
        "# for data ETL\n",
        "import pandas as pd\n",
        "import numpy as np\n",
        "import ETL\n",
        "# for data EPA\n",
        "import plotly.express as px\n",
        "import seaborn as sns               \n",
        "import matplotlib.pyplot as plt   \n",
        "# for establish index\n",
        "from factor_analyzer import FactorAnalyzer\n",
        "from factor_analyzer.factor_analyzer import calculate_bartlett_sphericity, calculate_kmo\n",
        "import pingouin as pg # index reliability testing\n",
        "# for stats ml\n",
        "from sklearn.preprocessing import StandardScaler\n",
        "from scipy.stats import pearsonr\n",
        "import statsmodels.api as sm\n",
        "import statsmodels.formula.api as smf\n",
        "from statsmodels.miscmodels.ordinal_model import OrderedModel\n",
        "from stargazer.stargazer import Stargazer"
      ]
    },
    {
      "attachments": {},
      "cell_type": "markdown",
      "id": "2b5ccbd5",
      "metadata": {},
      "source": [
        "## Load data and filiter "
      ]
    },
    {
      "cell_type": "code",
      "execution_count": 3,
      "id": "625c9313",
      "metadata": {
        "ExecuteTime": {
          "end_time": "2023-07-06T02:20:45.238421+00:00",
          "start_time": "2023-07-06T02:20:45.056623+00:00"
        },
        "noteable": {
          "output_collection_id": "d58ac31b-369c-4d70-802a-55057abfd578"
        }
      },
      "outputs": [],
      "source": [
        "raw_data = pd.read_csv('raw_data.csv')"
      ]
    },
    {
      "cell_type": "code",
      "execution_count": 4,
      "id": "43440d4d",
      "metadata": {
        "ExecuteTime": {
          "end_time": "2023-07-06T02:20:45.407661+00:00",
          "start_time": "2023-07-06T02:20:45.246501+00:00"
        },
        "noteable": {
          "output_collection_id": "744ef6a9-1029-44f7-adfb-0a05ce9c6976"
        }
      },
      "outputs": [
        {
          "name": "stderr",
          "output_type": "stream",
          "text": [
            "/var/folders/dn/wbyhv8k14697mm1zy19w1jh40000gn/T/ipykernel_20726/2097987034.py:2: SettingWithCopyWarning: \n",
            "A value is trying to be set on a copy of a slice from a DataFrame\n",
            "\n",
            "See the caveats in the documentation: https://pandas.pydata.org/pandas-docs/stable/user_guide/indexing.html#returning-a-view-versus-a-copy\n",
            "  filter_data.drop(['您有絶對的權力決定是否要參與本研究。若您願意參與，請務必勾選下列選項：', '請填寫您的電子信箱，以利後續抽獎聯繫使用'], axis=1, inplace=True)\n"
          ]
        }
      ],
      "source": [
        "filter_data = raw_data.loc[raw_data['目前國內政黨當中，請問您是否偏向哪一個政黨？'].isin(['沒有特定支持', '都不支持'])]\n",
        "filter_data.drop(['您有絶對的權力決定是否要參與本研究。若您願意參與，請務必勾選下列選項：', '請填寫您的電子信箱，以利後續抽獎聯繫使用'], axis=1, inplace=True)"
      ]
    },
    {
      "attachments": {},
      "cell_type": "markdown",
      "id": "77198f5b",
      "metadata": {},
      "source": [
        "## Data Cleaning"
      ]
    },
    {
      "cell_type": "code",
      "execution_count": 5,
      "id": "711485de-9f46-4c44-b192-12a2019f8712",
      "metadata": {
        "ExecuteTime": {
          "end_time": "2023-07-06T02:20:45.636429+00:00",
          "start_time": "2023-07-06T02:20:45.413652+00:00"
        },
        "noteable": {
          "cell_type": "python",
          "output_collection_id": "648a5bd5-284e-46a4-a61e-a5cb876b68f9"
        }
      },
      "outputs": [
        {
          "name": "stderr",
          "output_type": "stream",
          "text": [
            "/Users/wen/Desktop/github/media_political/ETL.py:14: SettingWithCopyWarning: \n",
            "A value is trying to be set on a copy of a slice from a DataFrame.\n",
            "Try using .loc[row_indexer,col_indexer] = value instead\n",
            "\n",
            "See the caveats in the documentation: https://pandas.pydata.org/pandas-docs/stable/user_guide/indexing.html#returning-a-view-versus-a-copy\n",
            "  filter_data['TV_news_time'] = filter_data['請問您平均每天花多少時間注意電視上的選舉新聞？'].apply(ETL_function.news_time)\n",
            "/Users/wen/Desktop/github/media_political/ETL.py:15: SettingWithCopyWarning: \n",
            "A value is trying to be set on a copy of a slice from a DataFrame.\n",
            "Try using .loc[row_indexer,col_indexer] = value instead\n",
            "\n",
            "See the caveats in the documentation: https://pandas.pydata.org/pandas-docs/stable/user_guide/indexing.html#returning-a-view-versus-a-copy\n",
            "  filter_data['news_paper_time'] = filter_data['請問您平均每天花多少時間注意報紙上的選舉新聞？'].apply(ETL_function.news_time)\n",
            "/Users/wen/Desktop/github/media_political/ETL.py:16: SettingWithCopyWarning: \n",
            "A value is trying to be set on a copy of a slice from a DataFrame.\n",
            "Try using .loc[row_indexer,col_indexer] = value instead\n",
            "\n",
            "See the caveats in the documentation: https://pandas.pydata.org/pandas-docs/stable/user_guide/indexing.html#returning-a-view-versus-a-copy\n",
            "  filter_data['int_news_time'] = filter_data['請問您平均每天花多少時間注意網路上的選舉新聞？'].apply(ETL_function.news_time)\n",
            "/Users/wen/Desktop/github/media_political/ETL.py:17: SettingWithCopyWarning: \n",
            "A value is trying to be set on a copy of a slice from a DataFrame.\n",
            "Try using .loc[row_indexer,col_indexer] = value instead\n",
            "\n",
            "See the caveats in the documentation: https://pandas.pydata.org/pandas-docs/stable/user_guide/indexing.html#returning-a-view-versus-a-copy\n",
            "  filter_data['TV_debate'] = filter_data['今年九合一選舉中，我有觀看候選人電視辯論會。'].apply(ETL_function.TV_debate)\n",
            "/Users/wen/Desktop/github/media_political/ETL.py:18: SettingWithCopyWarning: \n",
            "A value is trying to be set on a copy of a slice from a DataFrame.\n",
            "Try using .loc[row_indexer,col_indexer] = value instead\n",
            "\n",
            "See the caveats in the documentation: https://pandas.pydata.org/pandas-docs/stable/user_guide/indexing.html#returning-a-view-versus-a-copy\n",
            "  filter_data['read_media'] = filter_data['請問您有多常瀏覽候選人的社群媒體？'].apply(ETL_function.read_media)\n",
            "/Users/wen/Desktop/github/media_political/ETL.py:19: SettingWithCopyWarning: \n",
            "A value is trying to be set on a copy of a slice from a DataFrame.\n",
            "Try using .loc[row_indexer,col_indexer] = value instead\n",
            "\n",
            "See the caveats in the documentation: https://pandas.pydata.org/pandas-docs/stable/user_guide/indexing.html#returning-a-view-versus-a-copy\n",
            "  filter_data['like_media'] = filter_data['請問您有多常在候選人的社群媒體貼文下按讚（任何表情符號）？'].apply(ETL_function.like_media)\n",
            "/Users/wen/Desktop/github/media_political/ETL.py:20: SettingWithCopyWarning: \n",
            "A value is trying to be set on a copy of a slice from a DataFrame.\n",
            "Try using .loc[row_indexer,col_indexer] = value instead\n",
            "\n",
            "See the caveats in the documentation: https://pandas.pydata.org/pandas-docs/stable/user_guide/indexing.html#returning-a-view-versus-a-copy\n",
            "  filter_data['share_media'] = filter_data['請問您有多常分享候選人的社群媒體貼文？'].apply(ETL_function.share_media)\n",
            "/Users/wen/Desktop/github/media_political/ETL.py:21: SettingWithCopyWarning: \n",
            "A value is trying to be set on a copy of a slice from a DataFrame.\n",
            "Try using .loc[row_indexer,col_indexer] = value instead\n",
            "\n",
            "See the caveats in the documentation: https://pandas.pydata.org/pandas-docs/stable/user_guide/indexing.html#returning-a-view-versus-a-copy\n",
            "  filter_data['comment_media'] = filter_data['請問您有多常在候選人的社群媒體貼文底下留言？'].apply(ETL_function.comment_media)\n",
            "/Users/wen/Desktop/github/media_political/ETL.py:22: SettingWithCopyWarning: \n",
            "A value is trying to be set on a copy of a slice from a DataFrame.\n",
            "Try using .loc[row_indexer,col_indexer] = value instead\n",
            "\n",
            "See the caveats in the documentation: https://pandas.pydata.org/pandas-docs/stable/user_guide/indexing.html#returning-a-view-versus-a-copy\n",
            "  filter_data['int_discuss'] = filter_data['請問您平時會不會在網路上與他人討論有關政治或選舉方面的議題？'].apply(ETL_function.int_discuss)\n",
            "/Users/wen/Desktop/github/media_political/ETL.py:23: SettingWithCopyWarning: \n",
            "A value is trying to be set on a copy of a slice from a DataFrame.\n",
            "Try using .loc[row_indexer,col_indexer] = value instead\n",
            "\n",
            "See the caveats in the documentation: https://pandas.pydata.org/pandas-docs/stable/user_guide/indexing.html#returning-a-view-versus-a-copy\n",
            "  filter_data['read_election_news'] = filter_data['今年九合一選舉中，我有閱讀選舉公報。'].apply(ETL_function.Likert)\n",
            "/Users/wen/Desktop/github/media_political/ETL.py:24: SettingWithCopyWarning: \n",
            "A value is trying to be set on a copy of a slice from a DataFrame.\n",
            "Try using .loc[row_indexer,col_indexer] = value instead\n",
            "\n",
            "See the caveats in the documentation: https://pandas.pydata.org/pandas-docs/stable/user_guide/indexing.html#returning-a-view-versus-a-copy\n",
            "  filter_data['read_election_leaflet'] = filter_data['今年九合一選舉中，我有閱讀候選人傳單、快報或報刊廣告。'].apply(ETL_function.Likert)\n",
            "/Users/wen/Desktop/github/media_political/ETL.py:25: SettingWithCopyWarning: \n",
            "A value is trying to be set on a copy of a slice from a DataFrame.\n",
            "Try using .loc[row_indexer,col_indexer] = value instead\n",
            "\n",
            "See the caveats in the documentation: https://pandas.pydata.org/pandas-docs/stable/user_guide/indexing.html#returning-a-view-versus-a-copy\n",
            "  filter_data['convince'] = filter_data['請問您有多常遊說或勸說親友投票給某位候選人？'].apply(ETL_function.convince)\n",
            "/Users/wen/Desktop/github/media_political/ETL.py:26: SettingWithCopyWarning: \n",
            "A value is trying to be set on a copy of a slice from a DataFrame.\n",
            "Try using .loc[row_indexer,col_indexer] = value instead\n",
            "\n",
            "See the caveats in the documentation: https://pandas.pydata.org/pandas-docs/stable/user_guide/indexing.html#returning-a-view-versus-a-copy\n",
            "  filter_data['campaign'] = filter_data['今年九合一選舉中，我有主動參加造勢活動。'].apply(ETL_function.Likert)\n",
            "/Users/wen/Desktop/github/media_political/ETL.py:27: SettingWithCopyWarning: \n",
            "A value is trying to be set on a copy of a slice from a DataFrame.\n",
            "Try using .loc[row_indexer,col_indexer] = value instead\n",
            "\n",
            "See the caveats in the documentation: https://pandas.pydata.org/pandas-docs/stable/user_guide/indexing.html#returning-a-view-versus-a-copy\n",
            "  filter_data['volunteer'] = filter_data['今年九合一選舉中，我有擔任候選人或政黨的助選工作人員或義工。'].apply(ETL_function.Likert)\n",
            "/Users/wen/Desktop/github/media_political/ETL.py:28: SettingWithCopyWarning: \n",
            "A value is trying to be set on a copy of a slice from a DataFrame.\n",
            "Try using .loc[row_indexer,col_indexer] = value instead\n",
            "\n",
            "See the caveats in the documentation: https://pandas.pydata.org/pandas-docs/stable/user_guide/indexing.html#returning-a-view-versus-a-copy\n",
            "  filter_data['election_mayor'] = filter_data['請問今年縣市長選舉中，您是否可能去投票？'].apply(ETL_function.election)\n",
            "/Users/wen/Desktop/github/media_political/ETL.py:29: SettingWithCopyWarning: \n",
            "A value is trying to be set on a copy of a slice from a DataFrame.\n",
            "Try using .loc[row_indexer,col_indexer] = value instead\n",
            "\n",
            "See the caveats in the documentation: https://pandas.pydata.org/pandas-docs/stable/user_guide/indexing.html#returning-a-view-versus-a-copy\n",
            "  filter_data['election_18'] = filter_data['請問今年18歲公民權修憲公投，您是否可能去投票？'].apply(ETL_function.election)\n",
            "/Users/wen/Desktop/github/media_political/ETL.py:32: SettingWithCopyWarning: \n",
            "A value is trying to be set on a copy of a slice from a DataFrame.\n",
            "Try using .loc[row_indexer,col_indexer] = value instead\n",
            "\n",
            "See the caveats in the documentation: https://pandas.pydata.org/pandas-docs/stable/user_guide/indexing.html#returning-a-view-versus-a-copy\n",
            "  filter_data['sex'] = filter_data['受訪者性別'].apply(ETL_function.sex)\n",
            "/Users/wen/Desktop/github/media_political/ETL.py:33: SettingWithCopyWarning: \n",
            "A value is trying to be set on a copy of a slice from a DataFrame.\n",
            "Try using .loc[row_indexer,col_indexer] = value instead\n",
            "\n",
            "See the caveats in the documentation: https://pandas.pydata.org/pandas-docs/stable/user_guide/indexing.html#returning-a-view-versus-a-copy\n",
            "  filter_data['台灣社會有多重的身份認同，有人認為自己是本省客家人、本省閩南人、大陸各省市人或原住民，請問您認為您的認同較接近哪一個?'] = filter_data.apply(lambda row: row['其他.6'] if row['台灣社會有多重的身份認同，有人認為自己是本省客家人、本省閩南人、大陸各省市人或原住民，請問您認為您的認同較接近哪一個?'] == '其他' else row['台灣社會有多重的身份認同，有人認為自己是本省客家人、本省閩南人、大陸各省市人或原住民，請問您認為您的認同較接近哪一個?'],axis=1)\n",
            "/Users/wen/Desktop/github/media_political/ETL.py:34: SettingWithCopyWarning: \n",
            "A value is trying to be set on a copy of a slice from a DataFrame.\n",
            "Try using .loc[row_indexer,col_indexer] = value instead\n",
            "\n",
            "See the caveats in the documentation: https://pandas.pydata.org/pandas-docs/stable/user_guide/indexing.html#returning-a-view-versus-a-copy\n",
            "  filter_data['ethnic'] = filter_data['台灣社會有多重的身份認同，有人認為自己是本省客家人、本省閩南人、大陸各省市人或原住民，請問您認為您的認同較接近哪一個?'].apply(ETL_function.ethnic)\n",
            "/Users/wen/Desktop/github/media_political/ETL.py:35: SettingWithCopyWarning: \n",
            "A value is trying to be set on a copy of a slice from a DataFrame.\n",
            "Try using .loc[row_indexer,col_indexer] = value instead\n",
            "\n",
            "See the caveats in the documentation: https://pandas.pydata.org/pandas-docs/stable/user_guide/indexing.html#returning-a-view-versus-a-copy\n",
            "  filter_data['edu'] = filter_data['請問您的教育程度是什麼？'].apply(ETL_function.edu)\n",
            "/Users/wen/Desktop/github/media_political/ETL.py:36: SettingWithCopyWarning: \n",
            "A value is trying to be set on a copy of a slice from a DataFrame.\n",
            "Try using .loc[row_indexer,col_indexer] = value instead\n",
            "\n",
            "See the caveats in the documentation: https://pandas.pydata.org/pandas-docs/stable/user_guide/indexing.html#returning-a-view-versus-a-copy\n",
            "  filter_data['income'] = filter_data['請問您平均月收入大約是多少?'].apply(ETL_function.income)\n",
            "/Users/wen/Desktop/github/media_political/ETL.py:37: SettingWithCopyWarning: \n",
            "A value is trying to be set on a copy of a slice from a DataFrame.\n",
            "Try using .loc[row_indexer,col_indexer] = value instead\n",
            "\n",
            "See the caveats in the documentation: https://pandas.pydata.org/pandas-docs/stable/user_guide/indexing.html#returning-a-view-versus-a-copy\n",
            "  filter_data['pk_1'] = filter_data['請問您現任的美國總統是誰？'].apply(ETL_function.pk_1)\n",
            "/Users/wen/Desktop/github/media_political/ETL.py:38: SettingWithCopyWarning: \n",
            "A value is trying to be set on a copy of a slice from a DataFrame.\n",
            "Try using .loc[row_indexer,col_indexer] = value instead\n",
            "\n",
            "See the caveats in the documentation: https://pandas.pydata.org/pandas-docs/stable/user_guide/indexing.html#returning-a-view-versus-a-copy\n",
            "  filter_data['pk_2'] = filter_data['請問您現任的行政院長是誰？'].apply(ETL_function.pk_2)\n",
            "/Users/wen/Desktop/github/media_political/ETL.py:39: SettingWithCopyWarning: \n",
            "A value is trying to be set on a copy of a slice from a DataFrame.\n",
            "Try using .loc[row_indexer,col_indexer] = value instead\n",
            "\n",
            "See the caveats in the documentation: https://pandas.pydata.org/pandas-docs/stable/user_guide/indexing.html#returning-a-view-versus-a-copy\n",
            "  filter_data['pk_3'] = filter_data['請問您我國哪一個政府機關有權解釋憲法？'].apply(ETL_function.pk_3)\n",
            "/Users/wen/Desktop/github/media_political/ETL.py:40: SettingWithCopyWarning: \n",
            "A value is trying to be set on a copy of a slice from a DataFrame.\n",
            "Try using .loc[row_indexer,col_indexer] = value instead\n",
            "\n",
            "See the caveats in the documentation: https://pandas.pydata.org/pandas-docs/stable/user_guide/indexing.html#returning-a-view-versus-a-copy\n",
            "  filter_data['political_knowledge'] = filter_data['pk_1'] + filter_data['pk_2'] + filter_data['pk_3']\n",
            "/Users/wen/Desktop/github/media_political/ETL.py:43: SettingWithCopyWarning: \n",
            "A value is trying to be set on a copy of a slice from a DataFrame.\n",
            "Try using .loc[row_indexer,col_indexer] = value instead\n",
            "\n",
            "See the caveats in the documentation: https://pandas.pydata.org/pandas-docs/stable/user_guide/indexing.html#returning-a-view-versus-a-copy\n",
            "  filter_data['anti_'+str(j)] = filter_data[i].apply(ETL_function.five_agree)\n",
            "/Users/wen/Desktop/github/media_political/ETL.py:43: SettingWithCopyWarning: \n",
            "A value is trying to be set on a copy of a slice from a DataFrame.\n",
            "Try using .loc[row_indexer,col_indexer] = value instead\n",
            "\n",
            "See the caveats in the documentation: https://pandas.pydata.org/pandas-docs/stable/user_guide/indexing.html#returning-a-view-versus-a-copy\n",
            "  filter_data['anti_'+str(j)] = filter_data[i].apply(ETL_function.five_agree)\n",
            "/Users/wen/Desktop/github/media_political/ETL.py:43: SettingWithCopyWarning: \n",
            "A value is trying to be set on a copy of a slice from a DataFrame.\n",
            "Try using .loc[row_indexer,col_indexer] = value instead\n",
            "\n",
            "See the caveats in the documentation: https://pandas.pydata.org/pandas-docs/stable/user_guide/indexing.html#returning-a-view-versus-a-copy\n",
            "  filter_data['anti_'+str(j)] = filter_data[i].apply(ETL_function.five_agree)\n",
            "/Users/wen/Desktop/github/media_political/ETL.py:43: SettingWithCopyWarning: \n",
            "A value is trying to be set on a copy of a slice from a DataFrame.\n",
            "Try using .loc[row_indexer,col_indexer] = value instead\n",
            "\n",
            "See the caveats in the documentation: https://pandas.pydata.org/pandas-docs/stable/user_guide/indexing.html#returning-a-view-versus-a-copy\n",
            "  filter_data['anti_'+str(j)] = filter_data[i].apply(ETL_function.five_agree)\n",
            "/Users/wen/Desktop/github/media_political/ETL.py:43: SettingWithCopyWarning: \n",
            "A value is trying to be set on a copy of a slice from a DataFrame.\n",
            "Try using .loc[row_indexer,col_indexer] = value instead\n",
            "\n",
            "See the caveats in the documentation: https://pandas.pydata.org/pandas-docs/stable/user_guide/indexing.html#returning-a-view-versus-a-copy\n",
            "  filter_data['anti_'+str(j)] = filter_data[i].apply(ETL_function.five_agree)\n",
            "/Users/wen/Desktop/github/media_political/ETL.py:44: SettingWithCopyWarning: \n",
            "A value is trying to be set on a copy of a slice from a DataFrame.\n",
            "Try using .loc[row_indexer,col_indexer] = value instead\n",
            "\n",
            "See the caveats in the documentation: https://pandas.pydata.org/pandas-docs/stable/user_guide/indexing.html#returning-a-view-versus-a-copy\n",
            "  filter_data['TC_issue'] = filter_data['有人說：「這次選舉中，抗中保台很重要」，請問您同不同意這種說法？'].apply(ETL_function.five_agree)\n",
            "/Users/wen/Desktop/github/media_political/ETL.py:45: SettingWithCopyWarning: \n",
            "A value is trying to be set on a copy of a slice from a DataFrame.\n",
            "Try using .loc[row_indexer,col_indexer] = value instead\n",
            "\n",
            "See the caveats in the documentation: https://pandas.pydata.org/pandas-docs/stable/user_guide/indexing.html#returning-a-view-versus-a-copy\n",
            "  filter_data['Negative_1'] = filter_data['在這次縣市長選舉過程中，有大量關於林智堅的論文爭議的報導，請問這些報導對您的投票選擇可能有什麼影響？']\n",
            "/Users/wen/Desktop/github/media_political/ETL.py:46: SettingWithCopyWarning: \n",
            "A value is trying to be set on a copy of a slice from a DataFrame.\n",
            "Try using .loc[row_indexer,col_indexer] = value instead\n",
            "\n",
            "See the caveats in the documentation: https://pandas.pydata.org/pandas-docs/stable/user_guide/indexing.html#returning-a-view-versus-a-copy\n",
            "  filter_data['Negative_2'] = filter_data['在這次縣市長選舉過程中，有大量關於陳時中的防疫表現的報導，這些報導對您的投票選擇可能有什麼影響？']\n",
            "/Users/wen/Desktop/github/media_political/ETL.py:47: SettingWithCopyWarning: \n",
            "A value is trying to be set on a copy of a slice from a DataFrame.\n",
            "Try using .loc[row_indexer,col_indexer] = value instead\n",
            "\n",
            "See the caveats in the documentation: https://pandas.pydata.org/pandas-docs/stable/user_guide/indexing.html#returning-a-view-versus-a-copy\n",
            "  filter_data['Negative_3'] = filter_data['在這次縣市長選舉過程中，有大量關於高虹安的助理門事件爭議的報導，這些報導對您的投票選擇有什麼影響？']\n"
          ]
        }
      ],
      "source": [
        "ml_df = ETL.data_cleaning(filter_data)\n",
        "ml_df = ml_df.reset_index(drop=True)"
      ]
    },
    {
      "cell_type": "code",
      "execution_count": 6,
      "id": "98a8244d-07e2-44e6-bb67-20dd3c0157c1",
      "metadata": {
        "ExecuteTime": {
          "end_time": "2023-07-06T02:20:47.766124+00:00",
          "start_time": "2023-07-06T02:20:45.644252+00:00"
        },
        "jupyter": {
          "outputs_hidden": false,
          "source_hidden": false
        },
        "noteable": {
          "cell_type": "code",
          "output_collection_id": "4615aaa2-a212-4f13-a43c-2aad7cd961a3"
        }
      },
      "outputs": [
        {
          "data": {
            "text/plain": [
              "(503, 51)"
            ]
          },
          "execution_count": 6,
          "metadata": {},
          "output_type": "execute_result"
        }
      ],
      "source": [
        "ml_df = ETL.feature_engineering(ml_df)\n",
        "ml_df = ETL.DV_feature(ml_df)\n",
        "ml_df = ETL.anti_party_feature(ml_df)\n",
        "ml_df.shape"
      ]
    },
    {
      "attachments": {},
      "cell_type": "markdown",
      "id": "5985c9ab-306a-4b35-95ce-b9340d8bfa4a",
      "metadata": {
        "noteable": {
          "cell_type": "markdown"
        }
      },
      "source": [
        "## Modleing"
      ]
    },
    {
      "cell_type": "code",
      "execution_count": 7,
      "id": "2f49befc-ce44-46a3-99ad-248c2cb0cb0d",
      "metadata": {
        "ExecuteTime": {
          "end_time": "2023-07-06T02:20:47.934344+00:00",
          "start_time": "2023-07-06T02:20:47.774209+00:00"
        },
        "datalink": {
          "0c2c7114-4580-4bc6-89c6-7c63acdbd2af": {
            "applied_filters": [],
            "dataframe_info": {
              "default_index_used": true,
              "orig_num_cols": 42,
              "orig_num_rows": 503,
              "orig_size_bytes": 173032,
              "truncated_num_cols": 42,
              "truncated_num_rows": 503,
              "truncated_size_bytes": 173032,
              "truncated_string_columns": []
            },
            "display_id": "0c2c7114-4580-4bc6-89c6-7c63acdbd2af",
            "dx_settings": {
              "ALLOW_NOTEABLE_ATTRS": true,
              "COLUMN_SAMPLING_METHOD": "outer",
              "DB_LOCATION": ":memory:",
              "DEV_MODE": false,
              "DISPLAY_MAX_COLUMNS": 100,
              "DISPLAY_MAX_ROWS": 50000,
              "DISPLAY_MODE": "simple",
              "ENABLE_ASSIGNMENT": true,
              "ENABLE_DATALINK": true,
              "FLATTEN_COLUMN_VALUES": true,
              "FLATTEN_INDEX_VALUES": false,
              "GENERATE_DEX_METADATA": false,
              "HTML_TABLE_SCHEMA": false,
              "LOG_LEVEL": 30,
              "MAX_RENDER_SIZE_BYTES": 104857600,
              "MAX_STRING_LENGTH": 250,
              "NUM_PAST_SAMPLES_TRACKED": 3,
              "RANDOM_STATE": 12648430,
              "RESET_INDEX_VALUES": false,
              "ROW_SAMPLING_METHOD": "random",
              "SAMPLING_FACTOR": 0.1,
              "SAMPLING_METHOD": "random",
              "STRINGIFY_COLUMN_VALUES": true,
              "STRINGIFY_INDEX_VALUES": false
            },
            "sample_history": [],
            "sampling_time": "2023-06-28T10:44:10.427005",
            "user_variable_name": "ml_df",
            "variable_name": "ml_df"
          },
          "692e2666-c977-45fa-9f8f-dc38384a67f0": {
            "applied_filters": [],
            "dataframe_info": {
              "default_index_used": true,
              "orig_num_cols": 43,
              "orig_num_rows": 503,
              "orig_size_bytes": 177056,
              "truncated_num_cols": 43,
              "truncated_num_rows": 503,
              "truncated_size_bytes": 177056,
              "truncated_string_columns": []
            },
            "display_id": "692e2666-c977-45fa-9f8f-dc38384a67f0",
            "dx_settings": {
              "ALLOW_NOTEABLE_ATTRS": true,
              "COLUMN_SAMPLING_METHOD": "outer",
              "DB_LOCATION": ":memory:",
              "DEV_MODE": false,
              "DISPLAY_MAX_COLUMNS": 100,
              "DISPLAY_MAX_ROWS": 50000,
              "DISPLAY_MODE": "simple",
              "ENABLE_ASSIGNMENT": true,
              "ENABLE_DATALINK": true,
              "FLATTEN_COLUMN_VALUES": true,
              "FLATTEN_INDEX_VALUES": false,
              "GENERATE_DEX_METADATA": false,
              "HTML_TABLE_SCHEMA": false,
              "LOG_LEVEL": 30,
              "MAX_RENDER_SIZE_BYTES": 104857600,
              "MAX_STRING_LENGTH": 250,
              "NUM_PAST_SAMPLES_TRACKED": 3,
              "RANDOM_STATE": 12648430,
              "RESET_INDEX_VALUES": false,
              "ROW_SAMPLING_METHOD": "random",
              "SAMPLING_FACTOR": 0.1,
              "SAMPLING_METHOD": "random",
              "STRINGIFY_COLUMN_VALUES": true,
              "STRINGIFY_INDEX_VALUES": false
            },
            "sample_history": [],
            "sampling_time": "2023-06-28T10:43:30.778733",
            "user_variable_name": "ml_df",
            "variable_name": "ml_df"
          }
        },
        "noteable": {
          "cell_type": "python",
          "output_collection_id": "723dcb15-3409-4a7f-81c8-1bb496192336"
        }
      },
      "outputs": [
        {
          "data": {
            "text/plain": [
              "Index(['TV_news_time', 'news_paper_time', 'int_news_time', 'TV_debate',\n",
              "       'read_media', 'like_media', 'share_media', 'comment_media',\n",
              "       'int_discuss', 'read_election_news', 'read_election_leaflet',\n",
              "       'convince', 'campaign', 'volunteer', 'election_mayor', 'election_18',\n",
              "       'sex', 'ethnic', 'edu', 'income', 'pk_1', 'pk_2', 'pk_3',\n",
              "       'political_knowledge', 'anti_1', 'anti_2', 'anti_3', 'anti_4', 'anti_5',\n",
              "       'TC_issue', 'Negative_1', 'Negative_2', 'Negative_3', 'online_pp',\n",
              "       'offline_pp', 'anti_party', 'online_media_pp_mean', 'voting_mean',\n",
              "       'offline_media_pp_mean', 'campaign_worker_pp_mean',\n",
              "       'online_media_pp_score', 'voting_score', 'offline_media_pp_score',\n",
              "       'campaign_worker_pp_score', 'onlnie_scores', 'offlnie_scores',\n",
              "       'political_polarization_mean', 'party_image_mean',\n",
              "       'political_polarization_score', 'party_image_score',\n",
              "       'anti_party_scores'],\n",
              "      dtype='object')"
            ]
          },
          "execution_count": 7,
          "metadata": {},
          "output_type": "execute_result"
        }
      ],
      "source": [
        "ml_df.columns"
      ]
    },
    {
      "attachments": {},
      "cell_type": "markdown",
      "id": "68901c7b-d30b-401b-bd29-6ff7c233af69",
      "metadata": {
        "noteable": {
          "cell_type": "markdown"
        }
      },
      "source": [
        "### DV ~ anti_party"
      ]
    },
    {
      "cell_type": "code",
      "execution_count": 8,
      "id": "a115aca1-678a-472e-912d-eef9f220ce5e",
      "metadata": {
        "ExecuteTime": {
          "end_time": "2023-07-06T02:20:49.264866+00:00",
          "start_time": "2023-07-06T02:20:47.943022+00:00"
        },
        "noteable": {
          "cell_type": "python",
          "output_collection_id": "cda3d34e-df7d-4f71-9d25-8844c2384043"
        },
        "scrolled": false
      },
      "outputs": [
        {
          "name": "stdout",
          "output_type": "stream",
          "text": [
            "                             OLS Regression Results                             \n",
            "================================================================================\n",
            "Dep. Variable:     online_media_pp_mean   R-squared:                       0.076\n",
            "Model:                              OLS   Adj. R-squared:                  0.035\n",
            "Method:                   Least Squares   F-statistic:                     1.874\n",
            "Date:                  Fri, 14 Jul 2023   Prob (F-statistic):             0.0111\n",
            "Time:                          20:15:06   Log-Likelihood:                -312.35\n",
            "No. Observations:                   503   AIC:                             668.7\n",
            "Df Residuals:                       481   BIC:                             761.5\n",
            "Df Model:                            21                                         \n",
            "Covariance Type:              nonrobust                                         \n",
            "===========================================================================================================================\n",
            "                                                              coef    std err          t      P>|t|      [0.025      0.975]\n",
            "---------------------------------------------------------------------------------------------------------------------------\n",
            "Intercept                                                   1.0305      0.242      4.263      0.000       0.556       1.505\n",
            "C(ethnic, Treatment(reference=\"臺灣人\"))[T.其他]                 0.1111      0.147      0.757      0.450      -0.177       0.400\n",
            "C(ethnic, Treatment(reference=\"臺灣人\"))[T.原住民]                0.0245      0.166      0.148      0.883      -0.302       0.350\n",
            "C(ethnic, Treatment(reference=\"臺灣人\"))[T.大陸各省市人]            -0.0189      0.155     -0.122      0.903      -0.323       0.285\n",
            "C(ethnic, Treatment(reference=\"臺灣人\"))[T.本省客家人]             -0.0896      0.109     -0.818      0.414      -0.305       0.126\n",
            "C(ethnic, Treatment(reference=\"臺灣人\"))[T.本省閩南人]             -0.0550      0.088     -0.625      0.532      -0.228       0.118\n",
            "C(Negative_1, Treatment(reference=\"沒有影響\"))[T.不知道]          -0.0433      0.089     -0.486      0.627      -0.218       0.132\n",
            "C(Negative_1, Treatment(reference=\"沒有影響\"))[T.可能因此不去投票]      0.1241      0.098      1.263      0.207      -0.069       0.317\n",
            "C(Negative_1, Treatment(reference=\"沒有影響\"))[T.轉而支持其他候選人]     0.0212      0.054      0.390      0.697      -0.085       0.128\n",
            "C(Negative_2, Treatment(reference=\"沒有影響\"))[T.不知道]           0.0017      0.089      0.020      0.984      -0.173       0.176\n",
            "C(Negative_2, Treatment(reference=\"沒有影響\"))[T.可能因此不去投票]     -0.2322      0.134     -1.734      0.084      -0.495       0.031\n",
            "C(Negative_2, Treatment(reference=\"沒有影響\"))[T.轉而支持其他候選人]     0.0998      0.051      1.960      0.051      -0.000       0.200\n",
            "C(Negative_3, Treatment(reference=\"沒有影響\"))[T.不知道]          -0.0122      0.083     -0.147      0.883      -0.175       0.151\n",
            "C(Negative_3, Treatment(reference=\"沒有影響\"))[T.可能因此不去投票]      0.1329      0.114      1.162      0.246      -0.092       0.358\n",
            "C(Negative_3, Treatment(reference=\"沒有影響\"))[T.轉而支持其他候選人]    -0.0576      0.053     -1.098      0.273      -0.161       0.046\n",
            "sex                                                         0.0613      0.046      1.329      0.185      -0.029       0.152\n",
            "edu                                                         0.1088      0.047      2.295      0.022       0.016       0.202\n",
            "income                                                      0.0234      0.021      1.132      0.258      -0.017       0.064\n",
            "political_knowledge                                         0.0509      0.038      1.355      0.176      -0.023       0.125\n",
            "TC_issue                                                    0.0085      0.019      0.450      0.653      -0.029       0.046\n",
            "political_polarization_mean                                 0.0293      0.025      1.190      0.234      -0.019       0.078\n",
            "party_image_mean                                           -0.0623      0.022     -2.854      0.004      -0.105      -0.019\n",
            "==============================================================================\n",
            "Omnibus:                      143.226   Durbin-Watson:                   1.967\n",
            "Prob(Omnibus):                  0.000   Jarque-Bera (JB):              422.719\n",
            "Skew:                           1.353   Prob(JB):                     1.61e-92\n",
            "Kurtosis:                       6.585   Cond. No.                         101.\n",
            "==============================================================================\n",
            "\n",
            "Notes:\n",
            "[1] Standard Errors assume that the covariance matrix of the errors is correctly specified.\n",
            "                            OLS Regression Results                            \n",
            "==============================================================================\n",
            "Dep. Variable:            voting_mean   R-squared:                       0.107\n",
            "Model:                            OLS   Adj. R-squared:                  0.068\n",
            "Method:                 Least Squares   F-statistic:                     2.741\n",
            "Date:                Fri, 14 Jul 2023   Prob (F-statistic):           6.10e-05\n",
            "Time:                        20:15:06   Log-Likelihood:                -801.21\n",
            "No. Observations:                 503   AIC:                             1646.\n",
            "Df Residuals:                     481   BIC:                             1739.\n",
            "Df Model:                          21                                         \n",
            "Covariance Type:            nonrobust                                         \n",
            "===========================================================================================================================\n",
            "                                                              coef    std err          t      P>|t|      [0.025      0.975]\n",
            "---------------------------------------------------------------------------------------------------------------------------\n",
            "Intercept                                                   1.5372      0.639      2.406      0.016       0.282       2.792\n",
            "C(ethnic, Treatment(reference=\"臺灣人\"))[T.其他]                 0.1619      0.388      0.417      0.677      -0.601       0.924\n",
            "C(ethnic, Treatment(reference=\"臺灣人\"))[T.原住民]                0.6316      0.438      1.441      0.150      -0.230       1.493\n",
            "C(ethnic, Treatment(reference=\"臺灣人\"))[T.大陸各省市人]            -0.2645      0.409     -0.647      0.518      -1.068       0.539\n",
            "C(ethnic, Treatment(reference=\"臺灣人\"))[T.本省客家人]              0.1775      0.289      0.613      0.540      -0.391       0.746\n",
            "C(ethnic, Treatment(reference=\"臺灣人\"))[T.本省閩南人]              0.0381      0.233      0.163      0.870      -0.419       0.495\n",
            "C(Negative_1, Treatment(reference=\"沒有影響\"))[T.不知道]          -0.0573      0.236     -0.243      0.808      -0.520       0.405\n",
            "C(Negative_1, Treatment(reference=\"沒有影響\"))[T.可能因此不去投票]      0.1274      0.260      0.491      0.624      -0.383       0.638\n",
            "C(Negative_1, Treatment(reference=\"沒有影響\"))[T.轉而支持其他候選人]     0.3580      0.143      2.497      0.013       0.076       0.640\n",
            "C(Negative_2, Treatment(reference=\"沒有影響\"))[T.不知道]          -0.3703      0.235     -1.578      0.115      -0.831       0.091\n",
            "C(Negative_2, Treatment(reference=\"沒有影響\"))[T.可能因此不去投票]     -0.4460      0.354     -1.260      0.208      -1.141       0.249\n",
            "C(Negative_2, Treatment(reference=\"沒有影響\"))[T.轉而支持其他候選人]     0.0011      0.135      0.008      0.993      -0.263       0.265\n",
            "C(Negative_3, Treatment(reference=\"沒有影響\"))[T.不知道]          -0.0986      0.219     -0.450      0.653      -0.529       0.332\n",
            "C(Negative_3, Treatment(reference=\"沒有影響\"))[T.可能因此不去投票]     -0.4686      0.302     -1.550      0.122      -1.063       0.125\n",
            "C(Negative_3, Treatment(reference=\"沒有影響\"))[T.轉而支持其他候選人]    -0.1716      0.139     -1.236      0.217      -0.444       0.101\n",
            "sex                                                        -0.1267      0.122     -1.040      0.299      -0.366       0.113\n",
            "edu                                                         0.1772      0.125      1.414      0.158      -0.069       0.423\n",
            "income                                                      0.1455      0.055      2.662      0.008       0.038       0.253\n",
            "political_knowledge                                         0.2526      0.099      2.543      0.011       0.057       0.448\n",
            "TC_issue                                                   -0.0307      0.050     -0.612      0.541      -0.129       0.068\n",
            "political_polarization_mean                                 0.0695      0.065      1.067      0.287      -0.058       0.197\n",
            "party_image_mean                                           -0.1438      0.058     -2.492      0.013      -0.257      -0.030\n",
            "==============================================================================\n",
            "Omnibus:                      316.969   Durbin-Watson:                   2.009\n",
            "Prob(Omnibus):                  0.000   Jarque-Bera (JB):               42.405\n",
            "Skew:                          -0.387   Prob(JB):                     6.19e-10\n",
            "Kurtosis:                       1.806   Cond. No.                         101.\n",
            "==============================================================================\n",
            "\n",
            "Notes:\n",
            "[1] Standard Errors assume that the covariance matrix of the errors is correctly specified.\n",
            "                              OLS Regression Results                             \n",
            "=================================================================================\n",
            "Dep. Variable:     offline_media_pp_mean   R-squared:                       0.118\n",
            "Model:                               OLS   Adj. R-squared:                  0.080\n",
            "Method:                    Least Squares   F-statistic:                     3.066\n",
            "Date:                   Fri, 14 Jul 2023   Prob (F-statistic):           7.27e-06\n",
            "Time:                           20:15:06   Log-Likelihood:                -676.56\n",
            "No. Observations:                    503   AIC:                             1397.\n",
            "Df Residuals:                        481   BIC:                             1490.\n",
            "Df Model:                             21                                         \n",
            "Covariance Type:               nonrobust                                         \n",
            "===========================================================================================================================\n",
            "                                                              coef    std err          t      P>|t|      [0.025      0.975]\n",
            "---------------------------------------------------------------------------------------------------------------------------\n",
            "Intercept                                                   1.5678      0.499      3.144      0.002       0.588       2.548\n",
            "C(ethnic, Treatment(reference=\"臺灣人\"))[T.其他]                 0.3867      0.303      1.277      0.202      -0.208       0.982\n",
            "C(ethnic, Treatment(reference=\"臺灣人\"))[T.原住民]                0.2094      0.342      0.612      0.541      -0.463       0.882\n",
            "C(ethnic, Treatment(reference=\"臺灣人\"))[T.大陸各省市人]            -0.4852      0.319     -1.521      0.129      -1.112       0.142\n",
            "C(ethnic, Treatment(reference=\"臺灣人\"))[T.本省客家人]             -0.1455      0.226     -0.644      0.520      -0.589       0.298\n",
            "C(ethnic, Treatment(reference=\"臺灣人\"))[T.本省閩南人]             -0.0929      0.182     -0.511      0.610      -0.450       0.264\n",
            "C(Negative_1, Treatment(reference=\"沒有影響\"))[T.不知道]          -0.1142      0.184     -0.622      0.535      -0.475       0.247\n",
            "C(Negative_1, Treatment(reference=\"沒有影響\"))[T.可能因此不去投票]      0.1127      0.203      0.556      0.578      -0.285       0.511\n",
            "C(Negative_1, Treatment(reference=\"沒有影響\"))[T.轉而支持其他候選人]     0.2423      0.112      2.165      0.031       0.022       0.462\n",
            "C(Negative_2, Treatment(reference=\"沒有影響\"))[T.不知道]          -0.2760      0.183     -1.507      0.133      -0.636       0.084\n",
            "C(Negative_2, Treatment(reference=\"沒有影響\"))[T.可能因此不去投票]     -0.4682      0.276     -1.695      0.091      -1.011       0.075\n",
            "C(Negative_2, Treatment(reference=\"沒有影響\"))[T.轉而支持其他候選人]     0.1706      0.105      1.624      0.105      -0.036       0.377\n",
            "C(Negative_3, Treatment(reference=\"沒有影響\"))[T.不知道]          -0.1731      0.171     -1.013      0.312      -0.509       0.163\n",
            "C(Negative_3, Treatment(reference=\"沒有影響\"))[T.可能因此不去投票]     -0.1712      0.236     -0.725      0.469      -0.635       0.293\n",
            "C(Negative_3, Treatment(reference=\"沒有影響\"))[T.轉而支持其他候選人]    -0.0360      0.108     -0.332      0.740      -0.249       0.177\n",
            "sex                                                        -0.0826      0.095     -0.868      0.386      -0.269       0.104\n",
            "edu                                                         0.0346      0.098      0.353      0.724      -0.158       0.227\n",
            "income                                                      0.0848      0.043      1.987      0.047       0.001       0.169\n",
            "political_knowledge                                         0.1355      0.078      1.747      0.081      -0.017       0.288\n",
            "TC_issue                                                    0.0207      0.039      0.531      0.596      -0.056       0.098\n",
            "political_polarization_mean                                 0.1235      0.051      2.429      0.015       0.024       0.223\n",
            "party_image_mean                                           -0.0909      0.045     -2.019      0.044      -0.179      -0.002\n",
            "==============================================================================\n",
            "Omnibus:                       34.965   Durbin-Watson:                   1.965\n",
            "Prob(Omnibus):                  0.000   Jarque-Bera (JB):               13.143\n",
            "Skew:                          -0.088   Prob(JB):                      0.00140\n",
            "Kurtosis:                       2.228   Cond. No.                         101.\n",
            "==============================================================================\n",
            "\n",
            "Notes:\n",
            "[1] Standard Errors assume that the covariance matrix of the errors is correctly specified.\n",
            "                               OLS Regression Results                              \n",
            "===================================================================================\n",
            "Dep. Variable:     campaign_worker_pp_mean   R-squared:                       0.039\n",
            "Model:                                 OLS   Adj. R-squared:                 -0.003\n",
            "Method:                      Least Squares   F-statistic:                    0.9308\n",
            "Date:                     Fri, 14 Jul 2023   Prob (F-statistic):              0.551\n",
            "Time:                             20:15:06   Log-Likelihood:                -352.98\n",
            "No. Observations:                      503   AIC:                             750.0\n",
            "Df Residuals:                          481   BIC:                             842.8\n",
            "Df Model:                               21                                         \n",
            "Covariance Type:                 nonrobust                                         \n",
            "===========================================================================================================================\n",
            "                                                              coef    std err          t      P>|t|      [0.025      0.975]\n",
            "---------------------------------------------------------------------------------------------------------------------------\n",
            "Intercept                                                   1.4316      0.262      5.463      0.000       0.917       1.947\n",
            "C(ethnic, Treatment(reference=\"臺灣人\"))[T.其他]                 0.2027      0.159      1.274      0.203      -0.110       0.515\n",
            "C(ethnic, Treatment(reference=\"臺灣人\"))[T.原住民]               -0.1233      0.180     -0.686      0.493      -0.477       0.230\n",
            "C(ethnic, Treatment(reference=\"臺灣人\"))[T.大陸各省市人]            -0.0985      0.168     -0.587      0.557      -0.428       0.231\n",
            "C(ethnic, Treatment(reference=\"臺灣人\"))[T.本省客家人]             -0.0284      0.119     -0.239      0.811      -0.262       0.205\n",
            "C(ethnic, Treatment(reference=\"臺灣人\"))[T.本省閩南人]             -0.0010      0.095     -0.010      0.992      -0.189       0.187\n",
            "C(Negative_1, Treatment(reference=\"沒有影響\"))[T.不知道]           0.0542      0.097      0.561      0.575      -0.136       0.244\n",
            "C(Negative_1, Treatment(reference=\"沒有影響\"))[T.可能因此不去投票]      0.0128      0.107      0.120      0.905      -0.197       0.222\n",
            "C(Negative_1, Treatment(reference=\"沒有影響\"))[T.轉而支持其他候選人]    -0.0341      0.059     -0.580      0.562      -0.150       0.081\n",
            "C(Negative_2, Treatment(reference=\"沒有影響\"))[T.不知道]           0.0694      0.096      0.721      0.471      -0.120       0.259\n",
            "C(Negative_2, Treatment(reference=\"沒有影響\"))[T.可能因此不去投票]     -0.1248      0.145     -0.859      0.391      -0.410       0.161\n",
            "C(Negative_2, Treatment(reference=\"沒有影響\"))[T.轉而支持其他候選人]     0.0905      0.055      1.640      0.102      -0.018       0.199\n",
            "C(Negative_3, Treatment(reference=\"沒有影響\"))[T.不知道]          -0.0097      0.090     -0.108      0.914      -0.186       0.167\n",
            "C(Negative_3, Treatment(reference=\"沒有影響\"))[T.可能因此不去投票]      0.2979      0.124      2.402      0.017       0.054       0.542\n",
            "C(Negative_3, Treatment(reference=\"沒有影響\"))[T.轉而支持其他候選人]     0.0143      0.057      0.251      0.802      -0.098       0.126\n",
            "sex                                                         0.0426      0.050      0.852      0.395      -0.056       0.141\n",
            "edu                                                        -0.0385      0.051     -0.748      0.455      -0.139       0.063\n",
            "income                                                      0.0065      0.022      0.290      0.772      -0.038       0.051\n",
            "political_knowledge                                        -0.0500      0.041     -1.228      0.220      -0.130       0.030\n",
            "TC_issue                                                    0.0165      0.021      0.803      0.422      -0.024       0.057\n",
            "political_polarization_mean                                -0.0394      0.027     -1.476      0.141      -0.092       0.013\n",
            "party_image_mean                                            0.0110      0.024      0.464      0.643      -0.036       0.058\n",
            "==============================================================================\n",
            "Omnibus:                      399.613   Durbin-Watson:                   1.889\n",
            "Prob(Omnibus):                  0.000   Jarque-Bera (JB):             5393.751\n",
            "Skew:                           3.545   Prob(JB):                         0.00\n",
            "Kurtosis:                      17.391   Cond. No.                         101.\n",
            "==============================================================================\n",
            "\n",
            "Notes:\n",
            "[1] Standard Errors assume that the covariance matrix of the errors is correctly specified.\n"
          ]
        }
      ],
      "source": [
        "# Define the dependent and independent variables\n",
        "dependent_variables = ['online_media_pp_mean', 'voting_mean', 'offline_media_pp_mean', 'campaign_worker_pp_mean']\n",
        "independent_variables = ['sex', 'C(ethnic, Treatment(reference=\"臺灣人\"))', 'edu', 'income', 'political_knowledge', 'TC_issue', 'political_polarization_mean', 'party_image_mean', 'C(Negative_1, Treatment(reference=\"沒有影響\"))', 'C(Negative_2, Treatment(reference=\"沒有影響\"))', 'C(Negative_3, Treatment(reference=\"沒有影響\"))']\n",
        "\n",
        "# Create the models and print the summaries\n",
        "for dep_var in dependent_variables:\n",
        "    formula = dep_var + ' ~ ' + ' + '.join(independent_variables)\n",
        "    model = smf.ols(formula, data=ml_df).fit()\n",
        "    print(model.summary())"
      ]
    }
  ],
  "metadata": {
    "kernelspec": {
      "display_name": "base",
      "language": "python",
      "name": "python3"
    },
    "language_info": {
      "codemirror_mode": {
        "name": "ipython",
        "version": 3
      },
      "file_extension": ".py",
      "mimetype": "text/x-python",
      "name": "python",
      "nbconvert_exporter": "python",
      "pygments_lexer": "ipython3",
      "version": "3.9.12"
    },
    "noteable": {
      "last_transaction_id": "fdc2c6d1-2077-4920-a709-be00788f26e7"
    },
    "orig_nbformat": 4,
    "selected_hardware_size": "small"
  },
  "nbformat": 4,
  "nbformat_minor": 5
}
