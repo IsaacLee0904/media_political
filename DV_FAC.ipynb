{
  "cells": [
    {
      "attachments": {},
      "cell_type": "markdown",
      "id": "6e723782-5c0b-4d73-b106-48d894e40a06",
      "metadata": {
        "noteable": {
          "cell_type": "markdown"
        }
      },
      "source": "# DV_FAC\n* 因素分析 -> 根據構面取平均 : online_media_pp_mean / voting_mean / offline_media_pp_mean / campaign_worker_pp_mean\n* 因素分析 -> 根據構面取綜合得分 : online_media_pp_score / voting_score / offline_media_pp_score / campaign_worker_pp_score\n* 先分 online_pp / offline_pp -> 因素分析 -> 根據因素分析結果建立兩個綜合得分 : onlnie_scores / offlnie_scores\n"
    },
    {
      "attachments": {},
      "cell_type": "markdown",
      "id": "51ac109b",
      "metadata": {},
      "source": [
        "## Import package"
      ]
    },
    {
      "cell_type": "code",
      "execution_count": 2,
      "id": "f6ef19fe-5a2f-4c79-bb17-5ab7dda76101",
      "metadata": {
        "ExecuteTime": {
          "end_time": "2023-07-03T06:16:12.036436+00:00",
          "start_time": "2023-07-03T06:16:07.338813+00:00"
        },
        "noteable": {
          "cell_type": "python",
          "output_collection_id": "bc4254da-80bb-43f6-a25b-cd76dfe7e4c8"
        },
        "scrolled": false
      },
      "outputs": [],
      "source": "! pip install factor_analyzer pingouin stargazer plotnine geopandas folium Factor_Analysis"
    },
    {
      "cell_type": "code",
      "execution_count": 3,
      "id": "f0c407eb",
      "metadata": {
        "ExecuteTime": {
          "end_time": "2023-07-03T06:16:12.237516+00:00",
          "start_time": "2023-07-03T06:16:12.045057+00:00"
        },
        "noteable": {
          "output_collection_id": "8252429a-8004-4eb7-968d-21c952d1449c"
        }
      },
      "outputs": [],
      "source": "# for data ETL\nimport pandas as pd\nimport ETL\n# Module for spatial data manipulation\nimport geopandas as gpd\n# Module for data viz \nfrom plotnine import *\nimport plotnine\nimport plotly.express as px\nimport seaborn as sns               \nimport matplotlib.pyplot as plt\n# Module for spatial data viz\nimport folium\nimport branca\nimport branca.colormap as cm\nfrom folium.features import GeoJson, GeoJsonTooltip\n# for establish index\nimport Factor_Analysis \nfrom factor_analyzer import FactorAnalyzer\nfrom factor_analyzer.factor_analyzer import calculate_bartlett_sphericity, calculate_kmo"
    },
    {
      "attachments": {},
      "cell_type": "markdown",
      "id": "2b5ccbd5",
      "metadata": {},
      "source": [
        "## Load data and filiter "
      ]
    },
    {
      "cell_type": "code",
      "execution_count": 4,
      "id": "625c9313",
      "metadata": {
        "ExecuteTime": {
          "end_time": "2023-07-03T06:16:12.456399+00:00",
          "start_time": "2023-07-03T06:16:12.246721+00:00"
        },
        "noteable": {
          "output_collection_id": "d966b229-5e5e-4b60-8e98-c6dbbccb4c7c"
        }
      },
      "outputs": [],
      "source": [
        "raw_data = pd.read_csv('raw_data.csv')"
      ]
    },
    {
      "cell_type": "code",
      "execution_count": 5,
      "id": "43440d4d",
      "metadata": {
        "ExecuteTime": {
          "end_time": "2023-07-03T06:16:12.676265+00:00",
          "start_time": "2023-07-03T06:16:12.516723+00:00"
        },
        "noteable": {
          "output_collection_id": "61580f5e-d2cf-4c94-a671-a49faaa14a2e"
        }
      },
      "outputs": [],
      "source": [
        "filter_data = raw_data.loc[raw_data['目前國內政黨當中，請問您是否偏向哪一個政黨？'].isin(['沒有特定支持', '都不支持'])]\n",
        "filter_data.drop(['您有絶對的權力決定是否要參與本研究。若您願意參與，請務必勾選下列選項：', '請填寫您的電子信箱，以利後續抽獎聯繫使用'], axis=1, inplace=True)"
      ]
    },
    {
      "attachments": {},
      "cell_type": "markdown",
      "id": "77198f5b",
      "metadata": {},
      "source": [
        "## Data Cleaning"
      ]
    },
    {
      "cell_type": "code",
      "execution_count": 6,
      "id": "f729d4f2-b421-4b59-9f14-4ca7c53a6dae",
      "metadata": {
        "ExecuteTime": {
          "end_time": "2023-07-03T06:16:12.921318+00:00",
          "start_time": "2023-07-03T06:16:12.713403+00:00"
        },
        "datalink": {
          "1a08f08c-eb19-4b2c-bea1-950f87d76998": {
            "applied_filters": [],
            "dataframe_info": {
              "default_index_used": true,
              "orig_num_cols": 33,
              "orig_num_rows": 503,
              "orig_size_bytes": 136816,
              "truncated_num_cols": 33,
              "truncated_num_rows": 503,
              "truncated_size_bytes": 136816,
              "truncated_string_columns": []
            },
            "display_id": "1a08f08c-eb19-4b2c-bea1-950f87d76998",
            "dx_settings": {
              "ALLOW_NOTEABLE_ATTRS": true,
              "COLUMN_SAMPLING_METHOD": "outer",
              "DB_LOCATION": ":memory:",
              "DEV_MODE": false,
              "DISPLAY_MAX_COLUMNS": 100,
              "DISPLAY_MAX_ROWS": 50000,
              "DISPLAY_MODE": "simple",
              "ENABLE_ASSIGNMENT": true,
              "ENABLE_DATALINK": true,
              "FLATTEN_COLUMN_VALUES": true,
              "FLATTEN_INDEX_VALUES": false,
              "GENERATE_DEX_METADATA": false,
              "HTML_TABLE_SCHEMA": false,
              "LOG_LEVEL": 30,
              "MAX_RENDER_SIZE_BYTES": 104857600,
              "MAX_STRING_LENGTH": 250,
              "NUM_PAST_SAMPLES_TRACKED": 3,
              "RANDOM_STATE": 12648430,
              "RESET_INDEX_VALUES": false,
              "ROW_SAMPLING_METHOD": "random",
              "SAMPLING_FACTOR": 0.1,
              "SAMPLING_METHOD": "random",
              "STRINGIFY_COLUMN_VALUES": true,
              "STRINGIFY_INDEX_VALUES": false
            },
            "sample_history": [],
            "sampling_time": "2023-06-29T06:10:52.000856",
            "user_variable_name": null,
            "variable_name": "unk_dataframe_48fd4c1548d645298a554a9689f7b12e"
          },
          "5a0f5b14-d382-43db-8488-90197252082a": {
            "applied_filters": [],
            "dataframe_info": {
              "default_index_used": true,
              "orig_num_cols": 33,
              "orig_num_rows": 503,
              "orig_size_bytes": 136816,
              "truncated_num_cols": 33,
              "truncated_num_rows": 503,
              "truncated_size_bytes": 136816,
              "truncated_string_columns": []
            },
            "display_id": "5a0f5b14-d382-43db-8488-90197252082a",
            "dx_settings": {
              "ALLOW_NOTEABLE_ATTRS": true,
              "COLUMN_SAMPLING_METHOD": "outer",
              "DB_LOCATION": ":memory:",
              "DEV_MODE": false,
              "DISPLAY_MAX_COLUMNS": 100,
              "DISPLAY_MAX_ROWS": 50000,
              "DISPLAY_MODE": "simple",
              "ENABLE_ASSIGNMENT": true,
              "ENABLE_DATALINK": true,
              "FLATTEN_COLUMN_VALUES": true,
              "FLATTEN_INDEX_VALUES": false,
              "GENERATE_DEX_METADATA": false,
              "HTML_TABLE_SCHEMA": false,
              "LOG_LEVEL": 30,
              "MAX_RENDER_SIZE_BYTES": 104857600,
              "MAX_STRING_LENGTH": 250,
              "NUM_PAST_SAMPLES_TRACKED": 3,
              "RANDOM_STATE": 12648430,
              "RESET_INDEX_VALUES": false,
              "ROW_SAMPLING_METHOD": "random",
              "SAMPLING_FACTOR": 0.1,
              "SAMPLING_METHOD": "random",
              "STRINGIFY_COLUMN_VALUES": true,
              "STRINGIFY_INDEX_VALUES": false
            },
            "sample_history": [],
            "sampling_time": "2023-06-29T06:12:15.238058",
            "user_variable_name": null,
            "variable_name": "unk_dataframe_bcb85c06860a4d4c9e947b3aade5f565"
          }
        },
        "jupyter": {
          "outputs_hidden": false,
          "source_hidden": false
        },
        "noteable": {
          "cell_type": "code",
          "output_collection_id": "2bf2a728-15f4-4eaf-8b98-5aad45853bbe"
        }
      },
      "outputs": [],
      "source": [
        "ml_df = ETL.data_cleaning(filter_data)\n",
        "ml_df = ml_df.reset_index(drop=True)"
      ]
    },
    {
      "cell_type": "code",
      "execution_count": 7,
      "id": "8d8e086f-db3a-4911-825a-138d54fc02de",
      "metadata": {
        "ExecuteTime": {
          "end_time": "2023-07-03T06:16:13.120027+00:00",
          "start_time": "2023-07-03T06:16:12.937927+00:00"
        },
        "jupyter": {
          "outputs_hidden": false,
          "source_hidden": false
        },
        "noteable": {
          "cell_type": "code",
          "output_collection_id": "be9104f6-9a7a-4622-bb96-57cafbc8d15a"
        }
      },
      "outputs": [],
      "source": [
        "ml_df.shape"
      ]
    },
    {
      "cell_type": "code",
      "execution_count": 8,
      "id": "6f9317e2",
      "metadata": {
        "noteable": {
          "output_collection_id": "6fd9ccbf-6cd2-4cf2-811f-692aae4c4950"
        },
        "ExecuteTime": {
          "end_time": "2023-07-03T06:16:15.163861+00:00",
          "start_time": "2023-07-03T06:16:13.242651+00:00"
        }
      },
      "outputs": [],
      "source": [
        "ml_df = ETL.DV_feature(ml_df)\n",
        "ml_df.shape"
      ]
    },
    {
      "attachments": {},
      "cell_type": "markdown",
      "id": "4d36f08f-07d2-4a84-83a7-0a4eb195a5b0",
      "metadata": {
        "noteable": {
          "cell_type": "markdown"
        }
      },
      "source": [
        "## Factor Analysis"
      ]
    },
    {
      "attachments": {},
      "cell_type": "markdown",
      "id": "bc1eb6e3-c9ce-4b89-b317-6e487355b131",
      "metadata": {
        "noteable": {
          "cell_type": "markdown"
        }
      },
      "source": [
        "### Filter out DV"
      ]
    },
    {
      "cell_type": "code",
      "execution_count": null,
      "id": "dcd1dc7d-9dfc-4def-9c4b-3a7715e38e51",
      "metadata": {
        "ExecuteTime": {
          "end_time": "2023-07-03T06:16:15.360840+00:00",
          "start_time": "2023-07-03T06:16:15.171396+00:00"
        },
        "jupyter": {
          "outputs_hidden": false,
          "source_hidden": false
        },
        "noteable": {
          "cell_type": "code",
          "output_collection_id": "075b4fb0-db25-4693-8e7e-46a8acf74d71"
        }
      },
      "outputs": [],
      "source": [
        "DV_vars = ['TV_news_time', 'news_paper_time', 'int_news_time', 'TV_debate', 'read_media', 'like_media', 'share_media', 'comment_media', 'int_discuss', 'read_election_news', 'read_election_leaflet', 'convince', 'campaign', 'volunteer', 'election_mayor', 'election_18']\n",
        "DV_df = ml_df[DV_vars]"
      ]
    },
    {
      "attachments": {},
      "cell_type": "markdown",
      "id": "8d232e7a-a798-4329-85fd-646492d31f66",
      "metadata": {
        "noteable": {
          "cell_type": "markdown"
        }
      },
      "source": [
        "### Bartlett’s test and Kaiser-Meyer-Olkin "
      ]
    },
    {
      "cell_type": "code",
      "execution_count": null,
      "id": "841ee87b-f7aa-4fb9-951d-65fefe786208",
      "metadata": {
        "ExecuteTime": {
          "end_time": "2023-07-03T06:16:15.560413+00:00",
          "start_time": "2023-07-03T06:16:15.391503+00:00"
        },
        "jupyter": {
          "outputs_hidden": false,
          "source_hidden": false
        },
        "noteable": {
          "cell_type": "code",
          "output_collection_id": "8f1ae401-9bc2-4603-b81f-56d12546e1ff"
        }
      },
      "outputs": [],
      "source": [
        "# Adequacy test - Bartlett's test\n",
        "chiSquareValue, pValue = calculate_bartlett_sphericity(DV_df)\n",
        "print('Chi-square value : {}'.format(round(chiSquareValue, ndigits = 3)))\n",
        "print('p-value          : {}'.format(round(pValue, ndigits = 3)))"
      ]
    },
    {
      "attachments": {},
      "cell_type": "markdown",
      "id": "9b19203b-45ce-4ace-9aef-31b31a08a6d8",
      "metadata": {
        "noteable": {
          "cell_type": "markdown"
        }
      },
      "source": [
        "The Bartlett test produces a p-value that is less than 0.05. It means, we reject the null hypothesis or in this case, at least two population variances are different."
      ]
    },
    {
      "cell_type": "code",
      "execution_count": null,
      "id": "e6a3687c-0dd4-493b-b603-410899099357",
      "metadata": {
        "ExecuteTime": {
          "end_time": "2023-07-03T06:16:15.759503+00:00",
          "start_time": "2023-07-03T06:16:15.570662+00:00"
        },
        "jupyter": {
          "outputs_hidden": false,
          "source_hidden": false
        },
        "noteable": {
          "cell_type": "code",
          "output_collection_id": "27904143-cee5-46aa-960f-5ff1702d2056"
        }
      },
      "outputs": [],
      "source": [
        "# Adequacy test - Kaiser-Meyer-Olkin test\n",
        "KMO, KMO_model = calculate_kmo(DV_df)\n",
        "print('KMO value : {}'.format(round(KMO_model, ndigits = 3)))"
      ]
    },
    {
      "attachments": {},
      "cell_type": "markdown",
      "id": "3510b155-4b42-442c-b661-994256e40fab",
      "metadata": {
        "noteable": {
          "cell_type": "markdown"
        }
      },
      "source": [
        "### Communality testing\n"
      ]
    },
    {
      "cell_type": "code",
      "execution_count": null,
      "id": "4c30a6ea-4c31-4a6a-8b68-9e1d60f0580d",
      "metadata": {
        "ExecuteTime": {
          "end_time": "2023-07-03T06:16:16.364387+00:00",
          "start_time": "2023-07-03T06:16:15.767735+00:00"
        },
        "datalink": {
          "4ef74b8c-c8bd-4c13-a479-9dff556c4c5b": {
            "applied_filters": [],
            "dataframe_info": {
              "default_index_used": true,
              "orig_num_cols": 2,
              "orig_num_rows": 16,
              "orig_size_bytes": 384,
              "truncated_num_cols": 2,
              "truncated_num_rows": 16,
              "truncated_size_bytes": 384,
              "truncated_string_columns": []
            },
            "display_id": "4ef74b8c-c8bd-4c13-a479-9dff556c4c5b",
            "dx_settings": {
              "ALLOW_NOTEABLE_ATTRS": true,
              "COLUMN_SAMPLING_METHOD": "outer",
              "DB_LOCATION": ":memory:",
              "DEV_MODE": false,
              "DISPLAY_MAX_COLUMNS": 100,
              "DISPLAY_MAX_ROWS": 50000,
              "DISPLAY_MODE": "simple",
              "ENABLE_ASSIGNMENT": true,
              "ENABLE_DATALINK": true,
              "FLATTEN_COLUMN_VALUES": true,
              "FLATTEN_INDEX_VALUES": false,
              "GENERATE_DEX_METADATA": false,
              "HTML_TABLE_SCHEMA": false,
              "LOG_LEVEL": 30,
              "MAX_RENDER_SIZE_BYTES": 104857600,
              "MAX_STRING_LENGTH": 250,
              "NUM_PAST_SAMPLES_TRACKED": 3,
              "RANDOM_STATE": 12648430,
              "RESET_INDEX_VALUES": false,
              "ROW_SAMPLING_METHOD": "random",
              "SAMPLING_FACTOR": 0.1,
              "SAMPLING_METHOD": "random",
              "STRINGIFY_COLUMN_VALUES": true,
              "STRINGIFY_INDEX_VALUES": false
            },
            "sample_history": [],
            "sampling_time": "2023-06-29T10:40:47.044475",
            "user_variable_name": "df_communalities_DV",
            "variable_name": "df_communalities_DV"
          },
          "7037d8f7-698d-4d2e-bc4b-248c64280b70": {
            "applied_filters": [],
            "dataframe_info": {
              "default_index_used": true,
              "orig_num_cols": 2,
              "orig_num_rows": 16,
              "orig_size_bytes": 384,
              "truncated_num_cols": 2,
              "truncated_num_rows": 16,
              "truncated_size_bytes": 384,
              "truncated_string_columns": []
            },
            "display_id": "7037d8f7-698d-4d2e-bc4b-248c64280b70",
            "dx_settings": {
              "ALLOW_NOTEABLE_ATTRS": true,
              "COLUMN_SAMPLING_METHOD": "outer",
              "DB_LOCATION": ":memory:",
              "DEV_MODE": false,
              "DISPLAY_MAX_COLUMNS": 100,
              "DISPLAY_MAX_ROWS": 50000,
              "DISPLAY_MODE": "simple",
              "ENABLE_ASSIGNMENT": true,
              "ENABLE_DATALINK": true,
              "FLATTEN_COLUMN_VALUES": true,
              "FLATTEN_INDEX_VALUES": false,
              "GENERATE_DEX_METADATA": false,
              "HTML_TABLE_SCHEMA": false,
              "LOG_LEVEL": 30,
              "MAX_RENDER_SIZE_BYTES": 104857600,
              "MAX_STRING_LENGTH": 250,
              "NUM_PAST_SAMPLES_TRACKED": 3,
              "RANDOM_STATE": 12648430,
              "RESET_INDEX_VALUES": false,
              "ROW_SAMPLING_METHOD": "random",
              "SAMPLING_FACTOR": 0.1,
              "SAMPLING_METHOD": "random",
              "STRINGIFY_COLUMN_VALUES": true,
              "STRINGIFY_INDEX_VALUES": false
            },
            "sample_history": [],
            "sampling_time": "2023-06-29T10:36:33.340637",
            "user_variable_name": "df_communalities_DV",
            "variable_name": "df_communalities_DV"
          },
          "9214fe27-6163-40d9-bf2c-65d5397af239": {
            "applied_filters": [],
            "dataframe_info": {
              "default_index_used": true,
              "orig_num_cols": 2,
              "orig_num_rows": 16,
              "orig_size_bytes": 384,
              "truncated_num_cols": 2,
              "truncated_num_rows": 16,
              "truncated_size_bytes": 384,
              "truncated_string_columns": []
            },
            "display_id": "9214fe27-6163-40d9-bf2c-65d5397af239",
            "dx_settings": {
              "ALLOW_NOTEABLE_ATTRS": true,
              "COLUMN_SAMPLING_METHOD": "outer",
              "DB_LOCATION": ":memory:",
              "DEV_MODE": false,
              "DISPLAY_MAX_COLUMNS": 100,
              "DISPLAY_MAX_ROWS": 50000,
              "DISPLAY_MODE": "simple",
              "ENABLE_ASSIGNMENT": true,
              "ENABLE_DATALINK": true,
              "FLATTEN_COLUMN_VALUES": true,
              "FLATTEN_INDEX_VALUES": false,
              "GENERATE_DEX_METADATA": false,
              "HTML_TABLE_SCHEMA": false,
              "LOG_LEVEL": 30,
              "MAX_RENDER_SIZE_BYTES": 104857600,
              "MAX_STRING_LENGTH": 250,
              "NUM_PAST_SAMPLES_TRACKED": 3,
              "RANDOM_STATE": 12648430,
              "RESET_INDEX_VALUES": false,
              "ROW_SAMPLING_METHOD": "random",
              "SAMPLING_FACTOR": 0.1,
              "SAMPLING_METHOD": "random",
              "STRINGIFY_COLUMN_VALUES": true,
              "STRINGIFY_INDEX_VALUES": false
            },
            "sample_history": [],
            "sampling_time": "2023-06-29T10:39:03.462254",
            "user_variable_name": "df_communalities_DV",
            "variable_name": "df_communalities_DV"
          }
        },
        "noteable": {
          "cell_type": "python",
          "output_collection_id": "eb51da0f-54f0-4b49-9020-ac4a4cecbd08"
        }
      },
      "outputs": [],
      "source": [
        "# Create factor analysis object and perform factor analysis\n",
        "fa = FactorAnalyzer(n_factors = 25, rotation = None)\n",
        "fa.fit(DV_df)\n",
        "# The communalities\n",
        "df_communalities_DV = pd.DataFrame(data = {'Column': DV_df.columns, 'Communality': fa.get_communalities()})\n",
        "df_communalities_DV\n",
        "df_communalities_DV.style.apply(Factor_Analysis.highlightCommunalities, subset = ['Communality'])"
      ]
    },
    {
      "attachments": {},
      "cell_type": "markdown",
      "id": "bed105d7-acd7-4556-a9ae-86efeaaabd8e",
      "metadata": {
        "noteable": {
          "cell_type": "markdown"
        }
      },
      "source": [
        "The yellow color indicates that the communality values meet the criteria — greater than 0.5. Eliminated Variable below 0.5 ."
      ]
    },
    {
      "cell_type": "code",
      "execution_count": null,
      "id": "e3d65067-2aa3-4e5e-9c4d-b995e10aabb5",
      "metadata": {
        "ExecuteTime": {
          "end_time": "2023-07-03T06:16:17.309734+00:00",
          "start_time": "2023-07-03T06:16:16.415852+00:00"
        },
        "jupyter": {
          "outputs_hidden": false,
          "source_hidden": false
        },
        "noteable": {
          "cell_type": "code",
          "output_collection_id": "efceb9e6-205b-494e-ba46-f59b01511aa4"
        }
      },
      "outputs": [],
      "source": [
        "# Data viz\n",
        "plotnine.options.figure_size = (15, 9)\n",
        "communality_bar = (\n",
        "    ggplot(data = df_communalities_DV)+\n",
        "    geom_bar(aes(x = 'Column',\n",
        "                 y = 'Communality'),\n",
        "             width = 0.75,\n",
        "             stat = 'identity')+\n",
        "    geom_hline(yintercept = 0.5)+\n",
        "    scale_x_discrete(limits = df_communalities_DV['Column'].tolist())+\n",
        "    labs(title = 'Communalitites of factor analysis')+\n",
        "    xlab('Columns')+\n",
        "    ylab('Communalities')+\n",
        "    theme_minimal()\n",
        ")\n",
        "# Display the viz\n",
        "communality_bar"
      ]
    },
    {
      "attachments": {},
      "cell_type": "markdown",
      "id": "3bf29d56-af01-495e-b249-19160b13444c",
      "metadata": {
        "noteable": {
          "cell_type": "markdown"
        }
      },
      "source": [
        "### Reduce Factors"
      ]
    },
    {
      "cell_type": "code",
      "execution_count": null,
      "id": "8a414302-06df-467c-8cd0-ea52be0cb98e",
      "metadata": {
        "ExecuteTime": {
          "end_time": "2023-07-03T06:16:17.757971+00:00",
          "start_time": "2023-07-03T06:16:17.601896+00:00"
        },
        "jupyter": {
          "outputs_hidden": false,
          "source_hidden": false
        },
        "noteable": {
          "cell_type": "code",
          "output_collection_id": "d43591cd-df29-4077-a5cb-d10336808131"
        }
      },
      "outputs": [],
      "source": [
        "# Check Eigenvalues\n",
        "eigenValue, value = fa.get_eigenvalues()"
      ]
    },
    {
      "cell_type": "code",
      "execution_count": null,
      "id": "c01cb07b-1be4-411e-a7f7-3851eb3a6494",
      "metadata": {
        "ExecuteTime": {
          "end_time": "2023-07-03T06:16:17.970428+00:00",
          "start_time": "2023-07-03T06:16:17.765284+00:00"
        },
        "jupyter": {
          "outputs_hidden": false,
          "source_hidden": false
        },
        "noteable": {
          "cell_type": "code",
          "output_collection_id": "c4e77a84-d3ff-4f4c-ac52-a80ced7189ce"
        }
      },
      "outputs": [],
      "source": [
        "# Convert the results into a dataframe\n",
        "df_DV_eigen = pd.DataFrame({'Factor': range(1, len(eigenValue) + 1), 'Eigen value': eigenValue})\n",
        "df_DV_eigen.style.apply(Factor_Analysis.highlightEigenvalue, subset = ['Eigen value'])"
      ]
    },
    {
      "attachments": {},
      "cell_type": "markdown",
      "id": "d7bfdfc0-bc56-4447-81ff-0d9d16bb4de4",
      "metadata": {
        "noteable": {
          "cell_type": "markdown"
        }
      },
      "source": [
        "According to the Kaiser criteria, the number of factors generated is 2. It means that the 16 columns or well-known variables will be grouped and interpreted into 2 factors."
      ]
    },
    {
      "cell_type": "code",
      "execution_count": null,
      "id": "3160b2e4-d849-4448-b7cd-224601cf2b37",
      "metadata": {
        "ExecuteTime": {
          "end_time": "2023-07-03T06:16:18.750684+00:00",
          "start_time": "2023-07-03T06:16:18.117238+00:00"
        },
        "jupyter": {
          "outputs_hidden": false,
          "source_hidden": false
        },
        "noteable": {
          "cell_type": "code",
          "output_collection_id": "335f5ff2-f944-45ff-bd5d-409e37bade4f"
        },
        "scrolled": false
      },
      "outputs": [],
      "source": [
        "# Data viz\n",
        "plotnine.options.figure_size = (8, 4.8)\n",
        "DV_scree_eigenvalue = (\n",
        "    ggplot(data = df_DV_eigen)+\n",
        "    geom_hline(yintercept = 1)+\n",
        "    geom_line(aes(x = 'Factor',\n",
        "                  y = 'Eigen value'))+\n",
        "    geom_point(aes(x = 'Factor',\n",
        "                   y = 'Eigen value'),\n",
        "               size = 2)+\n",
        "    labs(title = 'Scree plot of eigen value from factor analysis')+\n",
        "    xlab('Factors')+\n",
        "    ylab('Eigenvalue')+\n",
        "    theme_minimal()\n",
        ")\n",
        "# Display the viz\n",
        "DV_scree_eigenvalue"
      ]
    },
    {
      "cell_type": "code",
      "execution_count": null,
      "id": "d4469999-ad78-4c57-93d7-8d3b19d28963",
      "metadata": {
        "ExecuteTime": {
          "end_time": "2023-07-03T06:16:19.761685+00:00",
          "start_time": "2023-07-03T06:16:19.138290+00:00"
        },
        "jupyter": {
          "outputs_hidden": false,
          "source_hidden": false
        },
        "noteable": {
          "cell_type": "code",
          "output_collection_id": "4fa498fd-8738-486d-a986-6d44fdc47d16"
        },
        "scrolled": false
      },
      "outputs": [],
      "source": [
        "# Factor analysis with rotation\n",
        "fa = FactorAnalyzer(n_factors = 4, rotation = 'varimax')\n",
        "fa.fit(DV_df)\n",
        "# Create a factor's names\n",
        "facs = ['Factors' + ' ' + str(i + 1) for i in range(4)]\n",
        "print(facs)\n",
        "# Loading factors\n",
        "pd.DataFrame(data = fa.loadings_, index = DV_df.columns, columns = facs).style.apply(Factor_Analysis.highlightLoadings)"
      ]
    },
    {
      "attachments": {},
      "cell_type": "markdown",
      "id": "ac44e5e7-459e-4e9e-b85a-5657ee665d51",
      "metadata": {
        "noteable": {
          "cell_type": "markdown"
        }
      },
      "source": [
        "#### 由上述結果可以發現依變數可以分為4個構面：</b>\n",
        "\n",
        "* 線上媒體政治參與(online_media_pp) : read_media / like_media / share_media / comment_media</b>\n",
        "\n",
        "-> reference : 劉嘉薇，2019\n",
        "* 投票參與(voting) : election_mayor / election_18</b>\n",
        "\n",
        "-> reference : Barnes and  Kaase (1979) \n",
        "\n",
        "* 線下媒體政治參與(offline_media_pp) : read_election_news / read_election_leaflet\n",
        "\n",
        "-> reference : 徐火炎，2001\n",
        "* 競選工作式政治參與(campaign_worker_pp) : campaign / volunteer\n",
        "\n",
        "-> reference : Mibrath and Goel，1977"
      ]
    },
    {
      "cell_type": "code",
      "execution_count": null,
      "id": "e4a07af3-25c0-4aad-be44-90320162cfb9",
      "metadata": {
        "ExecuteTime": {
          "end_time": "2023-07-03T06:16:20.106917+00:00",
          "start_time": "2023-07-03T06:16:19.816829+00:00"
        },
        "datalink": {
          "1ff1b460-556c-46c6-b2c5-3ec1e8859199": {
            "applied_filters": [],
            "dataframe_info": {
              "default_index_used": false,
              "orig_num_cols": 4,
              "orig_num_rows": 4,
              "orig_size_bytes": 160,
              "truncated_num_cols": 4,
              "truncated_num_rows": 4,
              "truncated_size_bytes": 160,
              "truncated_string_columns": []
            },
            "display_id": "1ff1b460-556c-46c6-b2c5-3ec1e8859199",
            "dx_settings": {
              "ALLOW_NOTEABLE_ATTRS": true,
              "COLUMN_SAMPLING_METHOD": "outer",
              "DB_LOCATION": ":memory:",
              "DEV_MODE": false,
              "DISPLAY_MAX_COLUMNS": 100,
              "DISPLAY_MAX_ROWS": 50000,
              "DISPLAY_MODE": "simple",
              "ENABLE_ASSIGNMENT": true,
              "ENABLE_DATALINK": true,
              "FLATTEN_COLUMN_VALUES": true,
              "FLATTEN_INDEX_VALUES": false,
              "GENERATE_DEX_METADATA": false,
              "HTML_TABLE_SCHEMA": false,
              "LOG_LEVEL": 30,
              "MAX_RENDER_SIZE_BYTES": 104857600,
              "MAX_STRING_LENGTH": 250,
              "NUM_PAST_SAMPLES_TRACKED": 3,
              "RANDOM_STATE": 12648430,
              "RESET_INDEX_VALUES": false,
              "ROW_SAMPLING_METHOD": "random",
              "SAMPLING_FACTOR": 0.1,
              "SAMPLING_METHOD": "random",
              "STRINGIFY_COLUMN_VALUES": true,
              "STRINGIFY_INDEX_VALUES": false
            },
            "sample_history": [],
            "sampling_time": "2023-06-30T07:43:52.738630",
            "user_variable_name": null,
            "variable_name": "unk_dataframe_8457f2964311431bb801b503cd360cbe"
          },
          "de21e333-e29e-47d5-ab55-6597932053f5": {
            "applied_filters": [],
            "dataframe_info": {
              "default_index_used": false,
              "orig_num_cols": 4,
              "orig_num_rows": 4,
              "orig_size_bytes": 160,
              "truncated_num_cols": 4,
              "truncated_num_rows": 4,
              "truncated_size_bytes": 160,
              "truncated_string_columns": []
            },
            "display_id": "de21e333-e29e-47d5-ab55-6597932053f5",
            "dx_settings": {
              "ALLOW_NOTEABLE_ATTRS": true,
              "COLUMN_SAMPLING_METHOD": "outer",
              "DB_LOCATION": ":memory:",
              "DEV_MODE": false,
              "DISPLAY_MAX_COLUMNS": 100,
              "DISPLAY_MAX_ROWS": 50000,
              "DISPLAY_MODE": "simple",
              "ENABLE_ASSIGNMENT": true,
              "ENABLE_DATALINK": true,
              "FLATTEN_COLUMN_VALUES": true,
              "FLATTEN_INDEX_VALUES": false,
              "GENERATE_DEX_METADATA": false,
              "HTML_TABLE_SCHEMA": false,
              "LOG_LEVEL": 30,
              "MAX_RENDER_SIZE_BYTES": 104857600,
              "MAX_STRING_LENGTH": 250,
              "NUM_PAST_SAMPLES_TRACKED": 3,
              "RANDOM_STATE": 12648430,
              "RESET_INDEX_VALUES": false,
              "ROW_SAMPLING_METHOD": "random",
              "SAMPLING_FACTOR": 0.1,
              "SAMPLING_METHOD": "random",
              "STRINGIFY_COLUMN_VALUES": true,
              "STRINGIFY_INDEX_VALUES": false
            },
            "sample_history": [],
            "sampling_time": "2023-06-30T08:22:45.439636",
            "user_variable_name": null,
            "variable_name": "unk_dataframe_87373e80730b4353ab01c6e103ee0eeb"
          },
          "f8fd7cd3-adde-4831-81f8-5e54c5713460": {
            "applied_filters": [],
            "dataframe_info": {
              "default_index_used": false,
              "orig_num_cols": 2,
              "orig_num_rows": 4,
              "orig_size_bytes": 96,
              "truncated_num_cols": 2,
              "truncated_num_rows": 4,
              "truncated_size_bytes": 96,
              "truncated_string_columns": []
            },
            "display_id": "f8fd7cd3-adde-4831-81f8-5e54c5713460",
            "dx_settings": {
              "ALLOW_NOTEABLE_ATTRS": true,
              "COLUMN_SAMPLING_METHOD": "outer",
              "DB_LOCATION": ":memory:",
              "DEV_MODE": false,
              "DISPLAY_MAX_COLUMNS": 100,
              "DISPLAY_MAX_ROWS": 50000,
              "DISPLAY_MODE": "simple",
              "ENABLE_ASSIGNMENT": true,
              "ENABLE_DATALINK": true,
              "FLATTEN_COLUMN_VALUES": true,
              "FLATTEN_INDEX_VALUES": false,
              "GENERATE_DEX_METADATA": false,
              "HTML_TABLE_SCHEMA": false,
              "LOG_LEVEL": 30,
              "MAX_RENDER_SIZE_BYTES": 104857600,
              "MAX_STRING_LENGTH": 250,
              "NUM_PAST_SAMPLES_TRACKED": 3,
              "RANDOM_STATE": 12648430,
              "RESET_INDEX_VALUES": false,
              "ROW_SAMPLING_METHOD": "random",
              "SAMPLING_FACTOR": 0.1,
              "SAMPLING_METHOD": "random",
              "STRINGIFY_COLUMN_VALUES": true,
              "STRINGIFY_INDEX_VALUES": false
            },
            "sample_history": [],
            "sampling_time": "2023-06-30T09:40:02.118721",
            "user_variable_name": null,
            "variable_name": "unk_dataframe_0132b21194cc43cd96bd3f313c93ce5b"
          },
          "3cca5a15-89dd-4c01-a16a-3bc2249eb65d": {
            "applied_filters": [],
            "dataframe_info": {
              "default_index_used": false,
              "orig_num_cols": 4,
              "orig_num_rows": 4,
              "orig_size_bytes": 160,
              "truncated_num_cols": 4,
              "truncated_num_rows": 4,
              "truncated_size_bytes": 160,
              "truncated_string_columns": []
            },
            "display_id": "3cca5a15-89dd-4c01-a16a-3bc2249eb65d",
            "dx_settings": {
              "ALLOW_NOTEABLE_ATTRS": true,
              "COLUMN_SAMPLING_METHOD": "outer",
              "DB_LOCATION": ":memory:",
              "DEV_MODE": false,
              "DISPLAY_MAX_COLUMNS": 100,
              "DISPLAY_MAX_ROWS": 50000,
              "DISPLAY_MODE": "simple",
              "ENABLE_ASSIGNMENT": true,
              "ENABLE_DATALINK": true,
              "FLATTEN_COLUMN_VALUES": true,
              "FLATTEN_INDEX_VALUES": false,
              "GENERATE_DEX_METADATA": false,
              "HTML_TABLE_SCHEMA": false,
              "LOG_LEVEL": 30,
              "MAX_RENDER_SIZE_BYTES": 104857600,
              "MAX_STRING_LENGTH": 250,
              "NUM_PAST_SAMPLES_TRACKED": 3,
              "RANDOM_STATE": 12648430,
              "RESET_INDEX_VALUES": false,
              "ROW_SAMPLING_METHOD": "random",
              "SAMPLING_FACTOR": 0.1,
              "SAMPLING_METHOD": "random",
              "STRINGIFY_COLUMN_VALUES": true,
              "STRINGIFY_INDEX_VALUES": false
            },
            "sample_history": [],
            "sampling_time": "2023-07-03T06:13:17.816479",
            "user_variable_name": null,
            "variable_name": "unk_dataframe_5d1581411e0f488fab08092e9a9d652a"
          },
          "e6697eba-2a32-428e-8af0-c68e6e591591": {
            "applied_filters": [],
            "dataframe_info": {
              "default_index_used": false,
              "orig_num_cols": 4,
              "orig_num_rows": 4,
              "orig_size_bytes": 160,
              "truncated_num_cols": 4,
              "truncated_num_rows": 4,
              "truncated_size_bytes": 160,
              "truncated_string_columns": []
            },
            "display_id": "e6697eba-2a32-428e-8af0-c68e6e591591",
            "dx_settings": {
              "ALLOW_NOTEABLE_ATTRS": true,
              "COLUMN_SAMPLING_METHOD": "outer",
              "DB_LOCATION": ":memory:",
              "DEV_MODE": false,
              "DISPLAY_MAX_COLUMNS": 100,
              "DISPLAY_MAX_ROWS": 50000,
              "DISPLAY_MODE": "simple",
              "ENABLE_ASSIGNMENT": true,
              "ENABLE_DATALINK": true,
              "FLATTEN_COLUMN_VALUES": true,
              "FLATTEN_INDEX_VALUES": false,
              "GENERATE_DEX_METADATA": false,
              "HTML_TABLE_SCHEMA": false,
              "LOG_LEVEL": 30,
              "MAX_RENDER_SIZE_BYTES": 104857600,
              "MAX_STRING_LENGTH": 250,
              "NUM_PAST_SAMPLES_TRACKED": 3,
              "RANDOM_STATE": 12648430,
              "RESET_INDEX_VALUES": false,
              "ROW_SAMPLING_METHOD": "random",
              "SAMPLING_FACTOR": 0.1,
              "SAMPLING_METHOD": "random",
              "STRINGIFY_COLUMN_VALUES": true,
              "STRINGIFY_INDEX_VALUES": false
            },
            "sample_history": [],
            "sampling_time": "2023-07-03T06:15:23.747981",
            "user_variable_name": null,
            "variable_name": "unk_dataframe_935c37b92377422594f44db600c64db5"
          },
          "4e8c3110-0cb4-469f-bab3-a58a6e3b67d4": {
            "applied_filters": [],
            "dataframe_info": {
              "default_index_used": false,
              "orig_num_cols": 4,
              "orig_num_rows": 4,
              "orig_size_bytes": 160,
              "truncated_num_cols": 4,
              "truncated_num_rows": 4,
              "truncated_size_bytes": 160,
              "truncated_string_columns": []
            },
            "display_id": "4e8c3110-0cb4-469f-bab3-a58a6e3b67d4",
            "dx_settings": {
              "ALLOW_NOTEABLE_ATTRS": true,
              "COLUMN_SAMPLING_METHOD": "outer",
              "DB_LOCATION": ":memory:",
              "DEV_MODE": false,
              "DISPLAY_MAX_COLUMNS": 100,
              "DISPLAY_MAX_ROWS": 50000,
              "DISPLAY_MODE": "simple",
              "ENABLE_ASSIGNMENT": true,
              "ENABLE_DATALINK": true,
              "FLATTEN_COLUMN_VALUES": true,
              "FLATTEN_INDEX_VALUES": false,
              "GENERATE_DEX_METADATA": false,
              "HTML_TABLE_SCHEMA": false,
              "LOG_LEVEL": 30,
              "MAX_RENDER_SIZE_BYTES": 104857600,
              "MAX_STRING_LENGTH": 250,
              "NUM_PAST_SAMPLES_TRACKED": 3,
              "RANDOM_STATE": 12648430,
              "RESET_INDEX_VALUES": false,
              "ROW_SAMPLING_METHOD": "random",
              "SAMPLING_FACTOR": 0.1,
              "SAMPLING_METHOD": "random",
              "STRINGIFY_COLUMN_VALUES": true,
              "STRINGIFY_INDEX_VALUES": false
            },
            "sample_history": [],
            "sampling_time": "2023-07-03T06:16:19.949998",
            "user_variable_name": null,
            "variable_name": "unk_dataframe_24d5069f791443a1ab3e7c40c536df2a"
          }
        },
        "dx": {
          "dashboard": {
            "multiViews": []
          },
          "fieldMetadata": {},
          "updated": 1688111056702,
          "views": [
            {
              "annotationRules": [],
              "chart": {},
              "chartMode": "grid",
              "confoRules": [],
              "decoration": {
                "footer": "",
                "subtitle": "",
                "title": "Table"
              },
              "facets": [],
              "filterSettings": {
                "SHOW_FILTER_PANEL": true,
                "filters": []
              },
              "id": "first-view",
              "isDefault": true,
              "type": "public",
              "userID": ""
            },
            {
              "annotationRules": [],
              "chart": {
                "tableSparklines": false
              },
              "chartMode": "grid",
              "confoRules": [],
              "decoration": {
                "footer": "",
                "subtitle": "",
                "title": "Table"
              },
              "facets": [],
              "filterSettings": {
                "SHOW_FILTER_PANEL": true,
                "filters": []
              },
              "id": "first-view",
              "isDefault": true,
              "isTransitory": true,
              "type": "public",
              "userID": ""
            }
          ]
        },
        "jupyter": {
          "outputs_hidden": false,
          "source_hidden": false
        },
        "noteable": {
          "cell_type": "code",
          "output_collection_id": "6ad107bc-345d-4234-8536-360c947c3819"
        },
        "scrolled": false
      },
      "outputs": [],
      "source": [
        "# Explained variance\n",
        "idx = ['SS Loadings', 'Proportion Variance', 'Cumulative Variance']\n",
        "df_variance = pd.DataFrame(data = fa.get_factor_variance(), index = idx, columns = facs)\n",
        "# Ratio of variance\n",
        "ratioVariance = fa.get_factor_variance()[1] / fa.get_factor_variance()[1].sum()\n",
        "df_ratio_var = pd.DataFrame(data = ratioVariance.reshape((1, 4)), index = ['Ratio Variance'], columns = facs)\n",
        "# New completed dataframe\n",
        "df_variance.append(df_ratio_var)"
      ]
    },
    {
      "cell_type": "code",
      "execution_count": null,
      "id": "1fc26260-63c3-4728-bbb6-5de12eccb200",
      "metadata": {
        "ExecuteTime": {
          "end_time": "2023-07-03T06:16:21.077890+00:00",
          "start_time": "2023-07-03T06:16:20.238106+00:00"
        },
        "datalink": {
          "024a7a13-bd4f-4a3d-a652-c610afec4670": {
            "applied_filters": [],
            "dataframe_info": {
              "default_index_used": true,
              "orig_num_cols": 4,
              "orig_num_rows": 503,
              "orig_size_bytes": 20120,
              "truncated_num_cols": 4,
              "truncated_num_rows": 503,
              "truncated_size_bytes": 20120,
              "truncated_string_columns": []
            },
            "display_id": "024a7a13-bd4f-4a3d-a652-c610afec4670",
            "dx_settings": {
              "ALLOW_NOTEABLE_ATTRS": true,
              "COLUMN_SAMPLING_METHOD": "outer",
              "DB_LOCATION": ":memory:",
              "DEV_MODE": false,
              "DISPLAY_MAX_COLUMNS": 100,
              "DISPLAY_MAX_ROWS": 50000,
              "DISPLAY_MODE": "simple",
              "ENABLE_ASSIGNMENT": true,
              "ENABLE_DATALINK": true,
              "FLATTEN_COLUMN_VALUES": true,
              "FLATTEN_INDEX_VALUES": false,
              "GENERATE_DEX_METADATA": false,
              "HTML_TABLE_SCHEMA": false,
              "LOG_LEVEL": 30,
              "MAX_RENDER_SIZE_BYTES": 104857600,
              "MAX_STRING_LENGTH": 250,
              "NUM_PAST_SAMPLES_TRACKED": 3,
              "RANDOM_STATE": 12648430,
              "RESET_INDEX_VALUES": false,
              "ROW_SAMPLING_METHOD": "random",
              "SAMPLING_FACTOR": 0.1,
              "SAMPLING_METHOD": "random",
              "STRINGIFY_COLUMN_VALUES": true,
              "STRINGIFY_INDEX_VALUES": false
            },
            "sample_history": [],
            "sampling_time": "2023-06-30T08:00:53.825938",
            "user_variable_name": "df_factors_DV",
            "variable_name": "df_factors_DV"
          },
          "3d01e4ba-75ea-46f4-a583-461780999a39": {
            "applied_filters": [],
            "dataframe_info": {
              "default_index_used": true,
              "orig_num_cols": 4,
              "orig_num_rows": 503,
              "orig_size_bytes": 20120,
              "truncated_num_cols": 4,
              "truncated_num_rows": 503,
              "truncated_size_bytes": 20120,
              "truncated_string_columns": []
            },
            "display_id": "3d01e4ba-75ea-46f4-a583-461780999a39",
            "dx_settings": {
              "ALLOW_NOTEABLE_ATTRS": true,
              "COLUMN_SAMPLING_METHOD": "outer",
              "DB_LOCATION": ":memory:",
              "DEV_MODE": false,
              "DISPLAY_MAX_COLUMNS": 100,
              "DISPLAY_MAX_ROWS": 50000,
              "DISPLAY_MODE": "simple",
              "ENABLE_ASSIGNMENT": true,
              "ENABLE_DATALINK": true,
              "FLATTEN_COLUMN_VALUES": true,
              "FLATTEN_INDEX_VALUES": false,
              "GENERATE_DEX_METADATA": false,
              "HTML_TABLE_SCHEMA": false,
              "LOG_LEVEL": 30,
              "MAX_RENDER_SIZE_BYTES": 104857600,
              "MAX_STRING_LENGTH": 250,
              "NUM_PAST_SAMPLES_TRACKED": 3,
              "RANDOM_STATE": 12648430,
              "RESET_INDEX_VALUES": false,
              "ROW_SAMPLING_METHOD": "random",
              "SAMPLING_FACTOR": 0.1,
              "SAMPLING_METHOD": "random",
              "STRINGIFY_COLUMN_VALUES": true,
              "STRINGIFY_INDEX_VALUES": false
            },
            "sample_history": [],
            "sampling_time": "2023-06-30T08:42:40.536952",
            "user_variable_name": "df_factors_DV",
            "variable_name": "df_factors_DV"
          },
          "4be0dceb-9be7-43a1-851b-83512977a93a": {
            "applied_filters": [],
            "dataframe_info": {
              "default_index_used": true,
              "orig_num_cols": 4,
              "orig_num_rows": 503,
              "orig_size_bytes": 20120,
              "truncated_num_cols": 4,
              "truncated_num_rows": 503,
              "truncated_size_bytes": 20120,
              "truncated_string_columns": []
            },
            "display_id": "4be0dceb-9be7-43a1-851b-83512977a93a",
            "dx_settings": {
              "ALLOW_NOTEABLE_ATTRS": true,
              "COLUMN_SAMPLING_METHOD": "outer",
              "DB_LOCATION": ":memory:",
              "DEV_MODE": false,
              "DISPLAY_MAX_COLUMNS": 100,
              "DISPLAY_MAX_ROWS": 50000,
              "DISPLAY_MODE": "simple",
              "ENABLE_ASSIGNMENT": true,
              "ENABLE_DATALINK": true,
              "FLATTEN_COLUMN_VALUES": true,
              "FLATTEN_INDEX_VALUES": false,
              "GENERATE_DEX_METADATA": false,
              "HTML_TABLE_SCHEMA": false,
              "LOG_LEVEL": 30,
              "MAX_RENDER_SIZE_BYTES": 104857600,
              "MAX_STRING_LENGTH": 250,
              "NUM_PAST_SAMPLES_TRACKED": 3,
              "RANDOM_STATE": 12648430,
              "RESET_INDEX_VALUES": false,
              "ROW_SAMPLING_METHOD": "random",
              "SAMPLING_FACTOR": 0.1,
              "SAMPLING_METHOD": "random",
              "STRINGIFY_COLUMN_VALUES": true,
              "STRINGIFY_INDEX_VALUES": false
            },
            "sample_history": [],
            "sampling_time": "2023-06-30T09:20:37.682895",
            "user_variable_name": "df_factors_DV",
            "variable_name": "df_factors_DV"
          },
          "4de7d7aa-49b5-46c0-8551-1a7c9611056a": {
            "applied_filters": [],
            "dataframe_info": {
              "default_index_used": true,
              "orig_num_cols": 4,
              "orig_num_rows": 503,
              "orig_size_bytes": 20120,
              "truncated_num_cols": 4,
              "truncated_num_rows": 503,
              "truncated_size_bytes": 20120,
              "truncated_string_columns": []
            },
            "display_id": "4de7d7aa-49b5-46c0-8551-1a7c9611056a",
            "dx_settings": {
              "ALLOW_NOTEABLE_ATTRS": true,
              "COLUMN_SAMPLING_METHOD": "outer",
              "DB_LOCATION": ":memory:",
              "DEV_MODE": false,
              "DISPLAY_MAX_COLUMNS": 100,
              "DISPLAY_MAX_ROWS": 50000,
              "DISPLAY_MODE": "simple",
              "ENABLE_ASSIGNMENT": true,
              "ENABLE_DATALINK": true,
              "FLATTEN_COLUMN_VALUES": true,
              "FLATTEN_INDEX_VALUES": false,
              "GENERATE_DEX_METADATA": false,
              "HTML_TABLE_SCHEMA": false,
              "LOG_LEVEL": 30,
              "MAX_RENDER_SIZE_BYTES": 104857600,
              "MAX_STRING_LENGTH": 250,
              "NUM_PAST_SAMPLES_TRACKED": 3,
              "RANDOM_STATE": 12648430,
              "RESET_INDEX_VALUES": false,
              "ROW_SAMPLING_METHOD": "random",
              "SAMPLING_FACTOR": 0.1,
              "SAMPLING_METHOD": "random",
              "STRINGIFY_COLUMN_VALUES": true,
              "STRINGIFY_INDEX_VALUES": false
            },
            "sample_history": [],
            "sampling_time": "2023-06-30T08:22:57.830361",
            "user_variable_name": "df_factors_DV",
            "variable_name": "df_factors_DV"
          },
          "598daa46-1c3e-4cbb-a139-ca5eea4a41e4": {
            "applied_filters": [],
            "dataframe_info": {
              "default_index_used": true,
              "orig_num_cols": 4,
              "orig_num_rows": 503,
              "orig_size_bytes": 20120,
              "truncated_num_cols": 4,
              "truncated_num_rows": 503,
              "truncated_size_bytes": 20120,
              "truncated_string_columns": []
            },
            "display_id": "598daa46-1c3e-4cbb-a139-ca5eea4a41e4",
            "dx_settings": {
              "ALLOW_NOTEABLE_ATTRS": true,
              "COLUMN_SAMPLING_METHOD": "outer",
              "DB_LOCATION": ":memory:",
              "DEV_MODE": false,
              "DISPLAY_MAX_COLUMNS": 100,
              "DISPLAY_MAX_ROWS": 50000,
              "DISPLAY_MODE": "simple",
              "ENABLE_ASSIGNMENT": true,
              "ENABLE_DATALINK": true,
              "FLATTEN_COLUMN_VALUES": true,
              "FLATTEN_INDEX_VALUES": false,
              "GENERATE_DEX_METADATA": false,
              "HTML_TABLE_SCHEMA": false,
              "LOG_LEVEL": 30,
              "MAX_RENDER_SIZE_BYTES": 104857600,
              "MAX_STRING_LENGTH": 250,
              "NUM_PAST_SAMPLES_TRACKED": 3,
              "RANDOM_STATE": 12648430,
              "RESET_INDEX_VALUES": false,
              "ROW_SAMPLING_METHOD": "random",
              "SAMPLING_FACTOR": 0.1,
              "SAMPLING_METHOD": "random",
              "STRINGIFY_COLUMN_VALUES": true,
              "STRINGIFY_INDEX_VALUES": false
            },
            "sample_history": [],
            "sampling_time": "2023-06-30T09:23:06.203334",
            "user_variable_name": "df_factors_DV",
            "variable_name": "df_factors_DV"
          },
          "82cb7df5-2567-4e97-be41-b3d3b9603f6b": {
            "applied_filters": [],
            "dataframe_info": {
              "default_index_used": true,
              "orig_num_cols": 4,
              "orig_num_rows": 503,
              "orig_size_bytes": 20120,
              "truncated_num_cols": 4,
              "truncated_num_rows": 503,
              "truncated_size_bytes": 20120,
              "truncated_string_columns": []
            },
            "display_id": "82cb7df5-2567-4e97-be41-b3d3b9603f6b",
            "dx_settings": {
              "ALLOW_NOTEABLE_ATTRS": true,
              "COLUMN_SAMPLING_METHOD": "outer",
              "DB_LOCATION": ":memory:",
              "DEV_MODE": false,
              "DISPLAY_MAX_COLUMNS": 100,
              "DISPLAY_MAX_ROWS": 50000,
              "DISPLAY_MODE": "simple",
              "ENABLE_ASSIGNMENT": true,
              "ENABLE_DATALINK": true,
              "FLATTEN_COLUMN_VALUES": true,
              "FLATTEN_INDEX_VALUES": false,
              "GENERATE_DEX_METADATA": false,
              "HTML_TABLE_SCHEMA": false,
              "LOG_LEVEL": 30,
              "MAX_RENDER_SIZE_BYTES": 104857600,
              "MAX_STRING_LENGTH": 250,
              "NUM_PAST_SAMPLES_TRACKED": 3,
              "RANDOM_STATE": 12648430,
              "RESET_INDEX_VALUES": false,
              "ROW_SAMPLING_METHOD": "random",
              "SAMPLING_FACTOR": 0.1,
              "SAMPLING_METHOD": "random",
              "STRINGIFY_COLUMN_VALUES": true,
              "STRINGIFY_INDEX_VALUES": false
            },
            "sample_history": [],
            "sampling_time": "2023-07-03T06:13:18.700708",
            "user_variable_name": "df_factors",
            "variable_name": "df_factors"
          },
          "748cf2f7-70fa-4748-a331-781f06199710": {
            "applied_filters": [],
            "dataframe_info": {
              "default_index_used": true,
              "orig_num_cols": 4,
              "orig_num_rows": 503,
              "orig_size_bytes": 20120,
              "truncated_num_cols": 4,
              "truncated_num_rows": 503,
              "truncated_size_bytes": 20120,
              "truncated_string_columns": []
            },
            "display_id": "748cf2f7-70fa-4748-a331-781f06199710",
            "dx_settings": {
              "ALLOW_NOTEABLE_ATTRS": true,
              "COLUMN_SAMPLING_METHOD": "outer",
              "DB_LOCATION": ":memory:",
              "DEV_MODE": false,
              "DISPLAY_MAX_COLUMNS": 100,
              "DISPLAY_MAX_ROWS": 50000,
              "DISPLAY_MODE": "simple",
              "ENABLE_ASSIGNMENT": true,
              "ENABLE_DATALINK": true,
              "FLATTEN_COLUMN_VALUES": true,
              "FLATTEN_INDEX_VALUES": false,
              "GENERATE_DEX_METADATA": false,
              "HTML_TABLE_SCHEMA": false,
              "LOG_LEVEL": 30,
              "MAX_RENDER_SIZE_BYTES": 104857600,
              "MAX_STRING_LENGTH": 250,
              "NUM_PAST_SAMPLES_TRACKED": 3,
              "RANDOM_STATE": 12648430,
              "RESET_INDEX_VALUES": false,
              "ROW_SAMPLING_METHOD": "random",
              "SAMPLING_FACTOR": 0.1,
              "SAMPLING_METHOD": "random",
              "STRINGIFY_COLUMN_VALUES": true,
              "STRINGIFY_INDEX_VALUES": false
            },
            "sample_history": [],
            "sampling_time": "2023-07-03T06:15:24.605178",
            "user_variable_name": "df_factors",
            "variable_name": "df_factors"
          },
          "bd928bb3-b3b9-44e9-87de-958ac2ba068f": {
            "applied_filters": [],
            "dataframe_info": {
              "default_index_used": true,
              "orig_num_cols": 4,
              "orig_num_rows": 503,
              "orig_size_bytes": 20120,
              "truncated_num_cols": 4,
              "truncated_num_rows": 503,
              "truncated_size_bytes": 20120,
              "truncated_string_columns": []
            },
            "display_id": "bd928bb3-b3b9-44e9-87de-958ac2ba068f",
            "dx_settings": {
              "ALLOW_NOTEABLE_ATTRS": true,
              "COLUMN_SAMPLING_METHOD": "outer",
              "DB_LOCATION": ":memory:",
              "DEV_MODE": false,
              "DISPLAY_MAX_COLUMNS": 100,
              "DISPLAY_MAX_ROWS": 50000,
              "DISPLAY_MODE": "simple",
              "ENABLE_ASSIGNMENT": true,
              "ENABLE_DATALINK": true,
              "FLATTEN_COLUMN_VALUES": true,
              "FLATTEN_INDEX_VALUES": false,
              "GENERATE_DEX_METADATA": false,
              "HTML_TABLE_SCHEMA": false,
              "LOG_LEVEL": 30,
              "MAX_RENDER_SIZE_BYTES": 104857600,
              "MAX_STRING_LENGTH": 250,
              "NUM_PAST_SAMPLES_TRACKED": 3,
              "RANDOM_STATE": 12648430,
              "RESET_INDEX_VALUES": false,
              "ROW_SAMPLING_METHOD": "random",
              "SAMPLING_FACTOR": 0.1,
              "SAMPLING_METHOD": "random",
              "STRINGIFY_COLUMN_VALUES": true,
              "STRINGIFY_INDEX_VALUES": false
            },
            "sample_history": [],
            "sampling_time": "2023-07-03T06:16:20.919223",
            "user_variable_name": "df_factors",
            "variable_name": "df_factors"
          }
        },
        "jupyter": {
          "outputs_hidden": false,
          "source_hidden": false
        },
        "noteable": {
          "cell_type": "code",
          "output_collection_id": "3577aa1a-5db6-4f77-ac58-2be29f6c9ca8"
        }
      },
      "outputs": [],
      "source": [
        "df_factors = pd.DataFrame(data = fa.fit_transform(DV_df),columns = facs)\n",
        "df_factors                     "
      ]
    },
    {
      "attachments": {},
      "cell_type": "markdown",
      "id": "51aa365e-41e1-4012-87af-35bb7b7fd9bb",
      "metadata": {
        "noteable": {
          "cell_type": "markdown"
        }
      },
      "source": [
        "### Establish Index with mean method after FAC"
      ]
    },
    {
      "cell_type": "code",
      "execution_count": null,
      "id": "7e8e3a89-00e1-495c-82c8-af55b0ef8b8d",
      "metadata": {
        "ExecuteTime": {
          "end_time": "2023-07-03T06:16:21.271448+00:00",
          "start_time": "2023-07-03T06:16:21.083782+00:00"
        },
        "jupyter": {
          "outputs_hidden": false,
          "source_hidden": false
        },
        "noteable": {
          "cell_type": "code",
          "output_collection_id": "c0d0324b-b88c-4342-addf-0f0c92b3ef9c"
        }
      },
      "outputs": [],
      "source": "# online_media_pp_vars = ['read_media', 'like_media', 'share_media', 'comment_media']\n# voting_vars = ['election_mayor', 'election_18']\n# offline_media_pp_vars = ['read_election_news', 'read_election_leaflet']\n# campaign_worker_pp_vars = ['campaign', 'volunteer']"
    },
    {
      "cell_type": "code",
      "execution_count": null,
      "id": "7723885f-f914-475d-aa8f-68e293cd96cf",
      "metadata": {
        "ExecuteTime": {
          "end_time": "2023-07-03T06:16:21.464280+00:00",
          "start_time": "2023-07-03T06:16:21.277906+00:00"
        },
        "jupyter": {
          "outputs_hidden": false,
          "source_hidden": false
        },
        "noteable": {
          "cell_type": "code",
          "output_collection_id": "973f9270-a971-4cac-a079-5793a9afefa2"
        }
      },
      "outputs": [],
      "source": "# # Calculate the scores for each factor\n# ml_df['online_media_pp_mean'] = ml_df[online_media_pp_vars].mean(axis=1)\n# ml_df['voting_mean'] = ml_df[voting_vars].mean(axis=1)\n# ml_df['offline_media_pp_mean'] = ml_df[offline_media_pp_vars].mean(axis=1)\n# ml_df['campaign_worker_pp_mean'] = ml_df[campaign_worker_pp_vars].mean(axis=1)"
    },
    {
      "attachments": {},
      "cell_type": "markdown",
      "id": "d7b0a685",
      "metadata": {},
      "source": [
        "### Establish Index with Factor Scores after FAC"
      ]
    },
    {
      "cell_type": "code",
      "execution_count": null,
      "id": "5e8bdc39",
      "metadata": {
        "noteable": {
          "output_collection_id": "e6ed9a94-c80a-410d-b698-037fc4951042"
        },
        "ExecuteTime": {
          "end_time": "2023-07-03T06:16:21.656695+00:00",
          "start_time": "2023-07-03T06:16:21.472012+00:00"
        }
      },
      "outputs": [],
      "source": "# df_factors.rename(columns = {'Factors 1': 'online_media_pp_score', \n#                              'Factors 2': 'voting_score',\n#                              'Factors 3': 'offline_media_pp_score',\n#                              'Factors 4': 'campaign_worker_pp_score'}, inplace = True)\n# ml_df = ml_df.join(df_factors)"
    },
    {
      "attachments": {},
      "cell_type": "markdown",
      "id": "ed042e44",
      "metadata": {},
      "source": "### Establish Index with Total Scores : grouping to offlinepp and onlinepp before FAC\nTotal_Scores = (factor1_value * factor1_Proportion + factor2_value * factor2_Proportion) / Cumulative Variance"
    },
    {
      "cell_type": "code",
      "execution_count": null,
      "id": "adb2c370",
      "metadata": {
        "noteable": {
          "output_collection_id": "374395ec-32f1-435a-8ee8-dd0057929229"
        },
        "ExecuteTime": {
          "end_time": "2023-07-03T06:16:21.851286+00:00",
          "start_time": "2023-07-03T06:16:21.666849+00:00"
        }
      },
      "outputs": [],
      "source": "online_pp_vars = ['TV_news_time', 'news_paper_time', 'int_news_time', 'TV_debate', 'read_media', 'like_media', 'share_media', 'comment_media', 'int_discuss']\noffline_pp_vars = ['read_election_news', 'read_election_leaflet', 'convince', 'campaign', 'volunteer', 'election_mayor', 'election_18']\nonline_pp_df = ml_df[online_pp_vars]\noffline_pp_df = ml_df[offline_pp_vars]"
    },
    {
      "attachments": {},
      "cell_type": "markdown",
      "id": "995ce098",
      "metadata": {},
      "source": [
        "#### Online PP"
      ]
    },
    {
      "cell_type": "code",
      "execution_count": null,
      "id": "833772ab",
      "metadata": {
        "noteable": {
          "output_collection_id": "604d1301-5058-4bf9-a1f3-937a7441c9dd"
        },
        "ExecuteTime": {
          "end_time": "2023-07-03T06:16:22.080086+00:00",
          "start_time": "2023-07-03T06:16:21.915408+00:00"
        }
      },
      "outputs": [],
      "source": "print('-' * 20 + \" offlnie_pp \" + '-' * 20)\nprint('\\n')\nprint(\"* Bartlett's test\")\nchiSquareValue, pValue = calculate_bartlett_sphericity(online_pp_df)\nprint('Chi-square value : {}'.format(round(chiSquareValue, ndigits = 3)))\nprint('p-value          : {}'.format(round(pValue, ndigits = 3)))\nprint('\\n')\nprint('* Kaiser-Meyer-Olkin')\nKMO, KMO_model = calculate_kmo(online_pp_df)\nprint('KMO value : {}'.format(round(KMO_model, ndigits = 3)))"
    },
    {
      "attachments": {},
      "cell_type": "markdown",
      "id": "d041ddd8",
      "metadata": {},
      "source": [
        "The Bartlett test produces a p-value that is less than 0.05. It means, we reject the null hypothesis or in this case, at least two population variances are different."
      ]
    },
    {
      "cell_type": "code",
      "execution_count": null,
      "metadata": {
        "noteable": {
          "output_collection_id": "7228c6f5-1055-4401-8d00-c4eb2561f245"
        },
        "ExecuteTime": {
          "end_time": "2023-07-03T06:16:22.472881+00:00",
          "start_time": "2023-07-03T06:16:22.123970+00:00"
        }
      },
      "outputs": [],
      "source": [
        "# Create factor analysis object and perform factor analysis\n",
        "fa = FactorAnalyzer(n_factors = 25, rotation = None)\n",
        "fa.fit(online_pp_df)\n",
        "# The communalities\n",
        "df_communalities_online_pp = pd.DataFrame(data = {'Column': online_pp_df.columns, 'Communality': fa.get_communalities()})\n",
        "df_communalities_online_pp\n",
        "df_communalities_online_pp.style.apply(Factor_Analysis.highlightCommunalities, subset = ['Communality'])"
      ],
      "id": "af6f7d0a"
    },
    {
      "cell_type": "code",
      "execution_count": null,
      "id": "d2b6e0ee",
      "metadata": {
        "noteable": {
          "output_collection_id": "9cb8e582-8840-409e-bd03-c97333008192"
        },
        "ExecuteTime": {
          "end_time": "2023-07-03T06:16:23.355018+00:00",
          "start_time": "2023-07-03T06:16:22.517426+00:00"
        }
      },
      "outputs": [],
      "source": [
        "# Data viz\n",
        "plotnine.options.figure_size = (15, 9)\n",
        "communality_bar = (\n",
        "    ggplot(data = df_communalities_online_pp)+\n",
        "    geom_bar(aes(x = 'Column',\n",
        "                 y = 'Communality'),\n",
        "             width = 0.75,\n",
        "             stat = 'identity')+\n",
        "    geom_hline(yintercept = 0.5)+\n",
        "    scale_x_discrete(limits = df_communalities_online_pp['Column'].tolist())+\n",
        "    labs(title = 'Communalitites of factor analysis')+\n",
        "    xlab('Columns')+\n",
        "    ylab('Communalities')+\n",
        "    theme_minimal()\n",
        ")\n",
        "# Display the viz\n",
        "communality_bar"
      ]
    },
    {
      "cell_type": "code",
      "execution_count": null,
      "id": "3a4b5b15",
      "metadata": {
        "noteable": {
          "output_collection_id": "f759008b-67c3-4fd4-9b58-5a8e02b0e501"
        },
        "ExecuteTime": {
          "end_time": "2023-07-03T06:16:23.713327+00:00",
          "start_time": "2023-07-03T06:16:23.557120+00:00"
        }
      },
      "outputs": [],
      "source": [
        "# Check Eigenvalues\n",
        "eigenValue, value = fa.get_eigenvalues()"
      ]
    },
    {
      "cell_type": "code",
      "execution_count": null,
      "id": "ce3b7ee6",
      "metadata": {
        "noteable": {
          "output_collection_id": "d1658460-6d73-4aa9-a5ac-a55ff2f8d7f3"
        },
        "ExecuteTime": {
          "end_time": "2023-07-03T06:16:23.918031+00:00",
          "start_time": "2023-07-03T06:16:23.721011+00:00"
        }
      },
      "outputs": [],
      "source": [
        "# Convert the results into a dataframe\n",
        "df_online_eigen = pd.DataFrame({'Factor': range(1, len(eigenValue) + 1), 'Eigen value': eigenValue})\n",
        "df_online_eigen.style.apply(Factor_Analysis.highlightEigenvalue, subset = ['Eigen value'])"
      ]
    },
    {
      "cell_type": "code",
      "execution_count": null,
      "id": "80d9d23f",
      "metadata": {
        "noteable": {
          "output_collection_id": "97620a65-d27a-4b2c-8b54-4f673595832b"
        },
        "ExecuteTime": {
          "end_time": "2023-07-03T06:16:24.862523+00:00",
          "start_time": "2023-07-03T06:16:24.237954+00:00"
        }
      },
      "outputs": [],
      "source": [
        "# Data viz\n",
        "plotnine.options.figure_size = (8, 4.8)\n",
        "online_scree_eigenvalue = (\n",
        "    ggplot(data = df_online_eigen)+\n",
        "    geom_hline(yintercept = 1)+\n",
        "    geom_line(aes(x = 'Factor',\n",
        "                  y = 'Eigen value'))+\n",
        "    geom_point(aes(x = 'Factor',\n",
        "                   y = 'Eigen value'),\n",
        "               size = 2)+\n",
        "    labs(title = 'Scree plot of eigen value from factor analysis')+\n",
        "    xlab('Factors')+\n",
        "    ylab('Eigenvalue')+\n",
        "    theme_minimal()\n",
        ")\n",
        "# Display the viz\n",
        "online_scree_eigenvalue"
      ]
    },
    {
      "cell_type": "code",
      "execution_count": null,
      "id": "8738c3f1",
      "metadata": {
        "noteable": {
          "output_collection_id": "db758bd2-e5c1-4e0e-a18e-173babe07967"
        },
        "ExecuteTime": {
          "end_time": "2023-07-03T06:16:25.685682+00:00",
          "start_time": "2023-07-03T06:16:25.318325+00:00"
        }
      },
      "outputs": [],
      "source": [
        "# Factor analysis with rotation\n",
        "fa = FactorAnalyzer(n_factors = 3, rotation = 'varimax')\n",
        "fa.fit(online_pp_df)\n",
        "# Create a factor's names\n",
        "facs = ['Factors' + ' ' + str(i + 1) for i in range(3)]\n",
        "print(facs)\n",
        "# Loading factors\n",
        "pd.DataFrame(data = fa.loadings_, index = online_pp_df.columns, columns = facs).style.apply(Factor_Analysis.highlightLoadings)"
      ]
    },
    {
      "cell_type": "code",
      "execution_count": null,
      "id": "95ecf09a",
      "metadata": {
        "noteable": {
          "output_collection_id": "63791953-f1cc-4650-9203-345ac5413df1"
        },
        "ExecuteTime": {
          "end_time": "2023-07-03T06:16:26.049021+00:00",
          "start_time": "2023-07-03T06:16:25.716812+00:00"
        },
        "datalink": {
          "72c6bdf4-d535-4049-bea1-f1339ffea8f7": {
            "applied_filters": [],
            "dataframe_info": {
              "default_index_used": false,
              "orig_num_cols": 3,
              "orig_num_rows": 4,
              "orig_size_bytes": 128,
              "truncated_num_cols": 3,
              "truncated_num_rows": 4,
              "truncated_size_bytes": 128,
              "truncated_string_columns": []
            },
            "display_id": "72c6bdf4-d535-4049-bea1-f1339ffea8f7",
            "dx_settings": {
              "ALLOW_NOTEABLE_ATTRS": true,
              "COLUMN_SAMPLING_METHOD": "outer",
              "DB_LOCATION": ":memory:",
              "DEV_MODE": false,
              "DISPLAY_MAX_COLUMNS": 100,
              "DISPLAY_MAX_ROWS": 50000,
              "DISPLAY_MODE": "simple",
              "ENABLE_ASSIGNMENT": true,
              "ENABLE_DATALINK": true,
              "FLATTEN_COLUMN_VALUES": true,
              "FLATTEN_INDEX_VALUES": false,
              "GENERATE_DEX_METADATA": false,
              "HTML_TABLE_SCHEMA": false,
              "LOG_LEVEL": 30,
              "MAX_RENDER_SIZE_BYTES": 104857600,
              "MAX_STRING_LENGTH": 250,
              "NUM_PAST_SAMPLES_TRACKED": 3,
              "RANDOM_STATE": 12648430,
              "RESET_INDEX_VALUES": false,
              "ROW_SAMPLING_METHOD": "random",
              "SAMPLING_FACTOR": 0.1,
              "SAMPLING_METHOD": "random",
              "STRINGIFY_COLUMN_VALUES": true,
              "STRINGIFY_INDEX_VALUES": false
            },
            "sample_history": [],
            "sampling_time": "2023-07-03T06:16:25.892992",
            "user_variable_name": null,
            "variable_name": "unk_dataframe_1df66b08f9bd40bb97980a5cb86b8c94"
          }
        }
      },
      "outputs": [],
      "source": [
        "# Explained variance\n",
        "idx = ['SS Loadings', 'Proportion Variance', 'Cumulative Variance']\n",
        "df_variance = pd.DataFrame(data = fa.get_factor_variance(), index = idx, columns = facs)\n",
        "# Ratio of variance\n",
        "ratioVariance = fa.get_factor_variance()[1] / fa.get_factor_variance()[1].sum()\n",
        "df_ratio_var = pd.DataFrame(data = ratioVariance.reshape((1, 3)), index = ['Ratio Variance'], columns = facs)\n",
        "# New completed dataframe\n",
        "df_variance.append(df_ratio_var)"
      ]
    },
    {
      "cell_type": "code",
      "execution_count": null,
      "id": "af31ac57",
      "metadata": {
        "noteable": {
          "output_collection_id": "94a65f2c-227c-4d13-ba1c-b487a6b837c8"
        },
        "ExecuteTime": {
          "end_time": "2023-07-03T06:16:26.687094+00:00",
          "start_time": "2023-07-03T06:16:26.057005+00:00"
        },
        "datalink": {
          "e8149a61-ad19-42d1-84c8-c75d6dbfe09b": {
            "applied_filters": [],
            "dataframe_info": {
              "default_index_used": true,
              "orig_num_cols": 3,
              "orig_num_rows": 503,
              "orig_size_bytes": 16096,
              "truncated_num_cols": 3,
              "truncated_num_rows": 503,
              "truncated_size_bytes": 16096,
              "truncated_string_columns": []
            },
            "display_id": "e8149a61-ad19-42d1-84c8-c75d6dbfe09b",
            "dx_settings": {
              "ALLOW_NOTEABLE_ATTRS": true,
              "COLUMN_SAMPLING_METHOD": "outer",
              "DB_LOCATION": ":memory:",
              "DEV_MODE": false,
              "DISPLAY_MAX_COLUMNS": 100,
              "DISPLAY_MAX_ROWS": 50000,
              "DISPLAY_MODE": "simple",
              "ENABLE_ASSIGNMENT": true,
              "ENABLE_DATALINK": true,
              "FLATTEN_COLUMN_VALUES": true,
              "FLATTEN_INDEX_VALUES": false,
              "GENERATE_DEX_METADATA": false,
              "HTML_TABLE_SCHEMA": false,
              "LOG_LEVEL": 30,
              "MAX_RENDER_SIZE_BYTES": 104857600,
              "MAX_STRING_LENGTH": 250,
              "NUM_PAST_SAMPLES_TRACKED": 3,
              "RANDOM_STATE": 12648430,
              "RESET_INDEX_VALUES": false,
              "ROW_SAMPLING_METHOD": "random",
              "SAMPLING_FACTOR": 0.1,
              "SAMPLING_METHOD": "random",
              "STRINGIFY_COLUMN_VALUES": true,
              "STRINGIFY_INDEX_VALUES": false
            },
            "sample_history": [],
            "sampling_time": "2023-07-03T06:16:26.528482",
            "user_variable_name": "df_factors_onlnie",
            "variable_name": "df_factors_onlnie"
          }
        }
      },
      "outputs": [],
      "source": [
        "df_factors_onlnie = pd.DataFrame(data = fa.fit_transform(online_pp_df),columns = facs)\n",
        "df_factors_onlnie                     "
      ]
    },
    {
      "cell_type": "code",
      "execution_count": null,
      "id": "2aae1609",
      "metadata": {
        "noteable": {
          "output_collection_id": "c2623496-9c2a-4964-aabe-c2eff48fbd7b"
        },
        "ExecuteTime": {
          "end_time": "2023-07-03T06:16:26.885104+00:00",
          "start_time": "2023-07-03T06:16:26.693868+00:00"
        }
      },
      "outputs": [],
      "source": "# ml_df['onlnie_scores'] = (df_factors_onlnie['Factors 1'] * fa.get_factor_variance()[1][0] + df_factors_onlnie['Factors 2'] * fa.get_factor_variance()[1][1] + df_factors_onlnie['Factors 3'] * fa.get_factor_variance()[1][2]) / fa.get_factor_variance()[1].sum()"
    },
    {
      "attachments": {},
      "cell_type": "markdown",
      "id": "2c1ae835",
      "metadata": {},
      "source": [
        "#### Offline PP"
      ]
    },
    {
      "cell_type": "code",
      "execution_count": null,
      "id": "b658f14c",
      "metadata": {
        "noteable": {
          "output_collection_id": "2aa43f93-0922-462d-a871-012584886bfd"
        },
        "ExecuteTime": {
          "end_time": "2023-07-03T06:16:27.090463+00:00",
          "start_time": "2023-07-03T06:16:26.900293+00:00"
        }
      },
      "outputs": [],
      "source": [
        "print('-' * 20 + \" offlnie_pp \" + '-' * 20)\n",
        "print('\\n')\n",
        "print(\"* Bartlett's test\")\n",
        "chiSquareValue, pValue = calculate_bartlett_sphericity(offline_pp_df)\n",
        "print('Chi-square value : {}'.format(round(chiSquareValue, ndigits = 3)))\n",
        "print('p-value          : {}'.format(round(pValue, ndigits = 3)))\n",
        "print('\\n')\n",
        "print('* Kaiser-Meyer-Olkin')\n",
        "KMO, KMO_model = calculate_kmo(offline_pp_df)\n",
        "print('KMO value : {}'.format(round(KMO_model, ndigits = 3)))"
      ]
    },
    {
      "cell_type": "code",
      "execution_count": null,
      "id": "c8f10682",
      "metadata": {
        "noteable": {
          "output_collection_id": "68e48e1e-09f6-4b4a-9326-b5662bcf2267"
        },
        "ExecuteTime": {
          "end_time": "2023-07-03T06:16:27.463125+00:00",
          "start_time": "2023-07-03T06:16:27.118217+00:00"
        }
      },
      "outputs": [],
      "source": [
        "# Create factor analysis object and perform factor analysis\n",
        "fa = FactorAnalyzer(n_factors = 25, rotation = None)\n",
        "fa.fit(offline_pp_df)\n",
        "# The communalities\n",
        "df_communalities_offline_pp = pd.DataFrame(data = {'Column': offline_pp_df.columns, 'Communality': fa.get_communalities()})\n",
        "df_communalities_offline_pp\n",
        "df_communalities_offline_pp.style.apply(Factor_Analysis.highlightCommunalities, subset = ['Communality'])"
      ]
    },
    {
      "cell_type": "code",
      "execution_count": null,
      "id": "3ca69b31",
      "metadata": {
        "noteable": {
          "output_collection_id": "812a73ec-04bc-40b7-a9fa-628e07201408"
        },
        "ExecuteTime": {
          "end_time": "2023-07-03T06:16:28.314568+00:00",
          "start_time": "2023-07-03T06:16:27.471022+00:00"
        }
      },
      "outputs": [],
      "source": [
        "# Data viz\n",
        "plotnine.options.figure_size = (15, 9)\n",
        "communality_bar = (\n",
        "    ggplot(data = df_communalities_offline_pp)+\n",
        "    geom_bar(aes(x = 'Column',\n",
        "                 y = 'Communality'),\n",
        "             width = 0.75,\n",
        "             stat = 'identity')+\n",
        "    geom_hline(yintercept = 0.5)+\n",
        "    scale_x_discrete(limits = df_communalities_offline_pp['Column'].tolist())+\n",
        "    labs(title = 'Communalitites of factor analysis')+\n",
        "    xlab('Columns')+\n",
        "    ylab('Communalities')+\n",
        "    theme_minimal()\n",
        ")\n",
        "# Display the viz\n",
        "communality_bar"
      ]
    },
    {
      "cell_type": "code",
      "execution_count": null,
      "id": "acc486dd",
      "metadata": {
        "noteable": {
          "output_collection_id": "45198255-87ee-48e8-8422-4a5c83caecc9"
        },
        "ExecuteTime": {
          "end_time": "2023-07-03T06:16:28.799535+00:00",
          "start_time": "2023-07-03T06:16:28.641869+00:00"
        }
      },
      "outputs": [],
      "source": [
        "# Check Eigenvalues\n",
        "eigenValue, value = fa.get_eigenvalues()"
      ]
    },
    {
      "cell_type": "code",
      "execution_count": null,
      "id": "d6165964",
      "metadata": {
        "noteable": {
          "output_collection_id": "189b34f6-bce7-4fa9-b1e7-97bbfd203dc1"
        },
        "ExecuteTime": {
          "end_time": "2023-07-03T06:16:29.016100+00:00",
          "start_time": "2023-07-03T06:16:28.809890+00:00"
        }
      },
      "outputs": [],
      "source": [
        "# Convert the results into a dataframe\n",
        "df_offline_eigen = pd.DataFrame({'Factor': range(1, len(eigenValue) + 1), 'Eigen value': eigenValue})\n",
        "df_offline_eigen.style.apply(Factor_Analysis.highlightEigenvalue, subset = ['Eigen value'])"
      ]
    },
    {
      "cell_type": "code",
      "execution_count": null,
      "id": "ca4a10ff",
      "metadata": {
        "noteable": {
          "output_collection_id": "e4e760ff-ba0d-4c37-88d5-ebbeed9bf82c"
        },
        "ExecuteTime": {
          "end_time": "2023-07-03T06:16:29.673081+00:00",
          "start_time": "2023-07-03T06:16:29.026535+00:00"
        }
      },
      "outputs": [],
      "source": [
        "# Data viz\n",
        "plotnine.options.figure_size = (8, 4.8)\n",
        "offline_scree_eigenvalue = (\n",
        "    ggplot(data = df_offline_eigen)+\n",
        "    geom_hline(yintercept = 1)+\n",
        "    geom_line(aes(x = 'Factor',\n",
        "                  y = 'Eigen value'))+\n",
        "    geom_point(aes(x = 'Factor',\n",
        "                   y = 'Eigen value'),\n",
        "               size = 2)+\n",
        "    labs(title = 'Scree plot of eigen value from factor analysis')+\n",
        "    xlab('Factors')+\n",
        "    ylab('Eigenvalue')+\n",
        "    theme_minimal()\n",
        ")\n",
        "# Display the viz\n",
        "offline_scree_eigenvalue"
      ]
    },
    {
      "cell_type": "code",
      "execution_count": null,
      "id": "cd8ccb15",
      "metadata": {
        "noteable": {
          "output_collection_id": "000429d8-280f-4709-a4f3-707e8f88c815"
        },
        "ExecuteTime": {
          "end_time": "2023-07-03T06:16:30.471156+00:00",
          "start_time": "2023-07-03T06:16:30.135251+00:00"
        }
      },
      "outputs": [],
      "source": [
        "# Factor analysis with rotation\n",
        "fa = FactorAnalyzer(n_factors = 2, rotation = 'varimax')\n",
        "fa.fit(offline_pp_df)\n",
        "# Create a factor's names\n",
        "facs = ['Factors' + ' ' + str(i + 1) for i in range(2)]\n",
        "print(facs)\n",
        "# Loading factors\n",
        "pd.DataFrame(data = fa.loadings_, index = offline_pp_df.columns, columns = facs).style.apply(Factor_Analysis.highlightLoadings)"
      ]
    },
    {
      "cell_type": "code",
      "execution_count": null,
      "id": "f3300b1a",
      "metadata": {
        "noteable": {
          "output_collection_id": "e4f388f4-c94e-4bfe-a22a-77890675ce9c"
        },
        "ExecuteTime": {
          "end_time": "2023-07-03T06:16:30.808596+00:00",
          "start_time": "2023-07-03T06:16:30.478430+00:00"
        },
        "datalink": {
          "23221aaf-a3a2-420a-9099-2375f63dd300": {
            "applied_filters": [],
            "dataframe_info": {
              "default_index_used": false,
              "orig_num_cols": 2,
              "orig_num_rows": 4,
              "orig_size_bytes": 96,
              "truncated_num_cols": 2,
              "truncated_num_rows": 4,
              "truncated_size_bytes": 96,
              "truncated_string_columns": []
            },
            "display_id": "23221aaf-a3a2-420a-9099-2375f63dd300",
            "dx_settings": {
              "ALLOW_NOTEABLE_ATTRS": true,
              "COLUMN_SAMPLING_METHOD": "outer",
              "DB_LOCATION": ":memory:",
              "DEV_MODE": false,
              "DISPLAY_MAX_COLUMNS": 100,
              "DISPLAY_MAX_ROWS": 50000,
              "DISPLAY_MODE": "simple",
              "ENABLE_ASSIGNMENT": true,
              "ENABLE_DATALINK": true,
              "FLATTEN_COLUMN_VALUES": true,
              "FLATTEN_INDEX_VALUES": false,
              "GENERATE_DEX_METADATA": false,
              "HTML_TABLE_SCHEMA": false,
              "LOG_LEVEL": 30,
              "MAX_RENDER_SIZE_BYTES": 104857600,
              "MAX_STRING_LENGTH": 250,
              "NUM_PAST_SAMPLES_TRACKED": 3,
              "RANDOM_STATE": 12648430,
              "RESET_INDEX_VALUES": false,
              "ROW_SAMPLING_METHOD": "random",
              "SAMPLING_FACTOR": 0.1,
              "SAMPLING_METHOD": "random",
              "STRINGIFY_COLUMN_VALUES": true,
              "STRINGIFY_INDEX_VALUES": false
            },
            "sample_history": [],
            "sampling_time": "2023-07-03T06:16:30.652606",
            "user_variable_name": null,
            "variable_name": "unk_dataframe_ec2370bc33a3407a870f1e5a7f0f5855"
          }
        }
      },
      "outputs": [],
      "source": [
        "# Explained variance\n",
        "idx = ['SS Loadings', 'Proportion Variance', 'Cumulative Variance']\n",
        "df_variance = pd.DataFrame(data = fa.get_factor_variance(), index = idx, columns = facs)\n",
        "# Ratio of variance\n",
        "ratioVariance = fa.get_factor_variance()[1] / fa.get_factor_variance()[1].sum()\n",
        "df_ratio_var = pd.DataFrame(data = ratioVariance.reshape((1, 2)), index = ['Ratio Variance'], columns = facs)\n",
        "# New completed dataframe\n",
        "df_variance.append(df_ratio_var)"
      ]
    },
    {
      "cell_type": "code",
      "execution_count": null,
      "id": "f6be7648",
      "metadata": {
        "noteable": {
          "output_collection_id": "c19638d2-e367-48e1-a3a4-587c52a965af"
        },
        "ExecuteTime": {
          "end_time": "2023-07-03T06:16:31.003071+00:00",
          "start_time": "2023-07-03T06:16:30.814763+00:00"
        }
      },
      "outputs": [],
      "source": "# df_factors_offlnie = pd.DataFrame(data = fa.fit_transform(offline_pp_df),columns = facs)\n# df_factors_offlnie                     "
    },
    {
      "cell_type": "code",
      "execution_count": null,
      "id": "3a687f32",
      "metadata": {
        "noteable": {
          "output_collection_id": "47d37139-09d8-4f06-a8ec-840a5caf8975"
        },
        "ExecuteTime": {
          "end_time": "2023-07-03T06:16:31.198540+00:00",
          "start_time": "2023-07-03T06:16:31.028666+00:00"
        }
      },
      "outputs": [],
      "source": "# ml_df['offlnie_scores'] = (df_factors_offlnie['Factors 1'] * fa.get_factor_variance()[1][0] + df_factors_offlnie['Factors 2'] * fa.get_factor_variance()[1][1]) / fa.get_factor_variance()[1].sum()"
    },
    {
      "cell_type": "code",
      "execution_count": null,
      "id": "1553a1d0",
      "metadata": {},
      "outputs": [],
      "source": []
    }
  ],
  "metadata": {
    "kernelspec": {
      "display_name": "base",
      "language": "python",
      "name": "python3"
    },
    "language_info": {
      "codemirror_mode": {
        "name": "ipython",
        "version": 3
      },
      "file_extension": ".py",
      "mimetype": "text/x-python",
      "name": "python",
      "nbconvert_exporter": "python",
      "pygments_lexer": "ipython3",
      "version": "3.9.12"
    },
    "noteable": {
      "last_transaction_id": "6cdac012-b2cd-4c70-a37c-06b8b2c8246d"
    },
    "orig_nbformat": 4,
    "selected_hardware_size": "small"
  },
  "nbformat": 4,
  "nbformat_minor": 5
}